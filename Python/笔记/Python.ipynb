{
 "cells": [
  {
   "cell_type": "markdown",
   "metadata": {},
   "source": [
    "# Python\n",
    "## 第一章 前言\n",
    "### 导学\n",
    "#### 基础语法\n",
    "1.从最基本的变量到复杂的高阶函数。    \n",
    "2.了解语法是编程的先决条件。    \n",
    "3.精通语法是编好程的必要条件。   \n",
    "####\n",
    "1.面向对象（OOP）   \n",
    "2.Object Oriented Programming；面向对象编程。    \n",
    "3.Object-oriented thinking；面向对象思想。   \n",
    "4.Python思想之一：“一切皆对象”。   \n",
    "5.Life is Simple,I Use Python;人生苦短，我用Python   \n",
    "6.Pythonic;很 & Python   \n",
    "#### 语法特点    \n",
    "1.简洁   \n",
    "其他语言交换变量：   \n",
    "temp=x   \n",
    "x=y   \n",
    "y=temp   \n",
    "而Python：   \n",
    "x,y=y,x   \n",
    "\n",
    "2.Python非常易于学习\n",
    "#### Python可以做些什么？\n",
    "1.爬虫（reptile）   \n",
    "2.大数据（Big Data）   \n",
    "3.测试（test）   \n",
    "4.Web   \n",
    "5.AI(Artificial Intelligence)   \n",
    "6.脚本处理（Script processing）   \n",
    "#### Python之禅\n",
    "简洁，灵活，优雅，哲学   \n",
    "1.Simple is better than complex   \n",
    "简洁胜于复杂   \n",
    "2.Now is better than never. Although never is often better than \\*right\\* now   \n",
    "做也许好过不做，但不假思索就动手还不如不做   \n",
    "3.易于上手有，难于精通   \n",
    "4.既有动态脚本的特性，又有面向对象的特性   \n",
    "### Python特点\n",
    "1. 一种编程语言，不是框架也不是类库\n",
    "（框架是以语言为基础，构建的一系列基础功能的集合）\n",
    "2. 语法简单,优雅,编写的程序易于阅读\n",
    "life is short i love python  人生苦短，我用python\n",
    "3. 跨平台：Windows、Linux、MacOS\n",
    "4. 易学习：语法可阅读性强、高度抽象化（Python动态语言\n",
    "语言）\n",
    "5. 库资源极为强大且丰富\n",
    "6. 面向对象（编程思想，面向对象是一种思想，把现实世界\n",
    "系映射到计算机语言中去）\n",
    " 把面向对象的概念理解为代码的组织和构建的方式，易于读取和管理\n",
    " 持续不断理解的过程\n",
    "### Python的缺点\n",
    "慢（相较于C、C++、Java，运行效率慢，但也不是特别慢，\n",
    "到）   \n",
    "1.编译型语言（执行前先编译，编译成机器码，贴近机器，\n",
    "底层开发）：c，c++   \n",
    "2.解释型语言（不编译，直接执行，适合上层开发）：pyth\n",
    "ipt   \n",
    "java，c#有编译，但不编译成机器码，算是一种中间语言\n",
    "运行效率和开发效率，鱼和熊掌不可兼得   \n",
    "适合的才是最好的   \n",
    "重点是编程功底   \n",
    "### 一个经典误区\n",
    "世界不是只有Web，还有很多问题需要使用编程来解决。   \n",
    "不要把思维局限在Web上，这只是编程的一个应用方向。   \n",
    "Python 应用方向非常广泛。前端，后台，小程序，人工智能   \n",
    "习，大数据等无所不能   \n",
    "编程是解决问题的工具，它有很多方面的应用。   \n",
    "### Python能做些什么   \n",
    "1.爬虫->搜索引擎，今日头条；   \n",
    "2.大数据与数据分析(Spark): python 是spark支持的语言之   \n",
    "3.自动化运维与自动化测试；   \n",
    "4.web 开发： Flask, Django框架;   \n",
    "5.机器学习： Tensor Flow框架 google的;   \n",
    "6.胶水语言：混合C++,java等来编程。能够把其他语言制作    \n",
    "(C/C++)很轻松的联结在一起。   \n",
    "  \n",
    "### 课程内容与特点\n",
    "1、基础语法  \n",
    "基础语法是任何语言的基础，只有熟练掌握，才能灵活运用   \n",
    "高效、优美、简洁的代码.\n",
    "Python的语法是非常灵活的又别具一格的。学习语言就要学   \n",
    "格、特点，这才是语言的精辟。Python尤其如此   \n",
    "2、Pythonic   \n",
    "将a、b两个变量的值交换 a,b=b,a   \n",
    "3、Python高性能与优化   \n",
    "同样的一个功能，可能有数个乃至十种写法，但每种写法的   \n",
    "度是不同的。选择性能最高又易于理解的写法才是正确的    \n",
    "4、数据结构   \n",
    "尝试用Python来实现一些常见的数据结构，什么是扎实的编   \n",
    "据结构才是基础。   \n",
    "\n",
    ">书籍推荐\n",
    "《流畅的python》\n",
    "习题练习\n",
    "搜索python oj\n",
    ">web框架  Django Flask\n",
    "\n",
    "\n",
    "\n",
    "## 第二章 Python环境安装 \n",
    "### 下载安装Python\n",
    "https://www.python.org/downloads/release/python-381/\n",
    "### IDLE与第一段Python代码"
   ]
  },
  {
   "cell_type": "code",
   "execution_count": 2,
   "metadata": {},
   "outputs": [
    {
     "name": "stdout",
     "output_type": "stream",
     "text": [
      "hellw world\n"
     ]
    }
   ],
   "source": [
    "print('hellw world');"
   ]
  },
  {
   "cell_type": "markdown",
   "metadata": {},
   "source": [
    "\n",
    "\n",
    ">什么是代码？\n",
    ">代码是现实世界事物在计算机世界中的映射\n",
    ">什么是写代码？\n",
    ">写代码是将现实世界中的事物用计算机语言来描述\n",
    "## 第三章 Python基本类型\n",
    "### 基本数据类型\n",
    "&emsp;&emsp;Number：数字   \n",
    "&emsp;&emsp;整数：int   \n",
    "&emsp;&emsp;其他语言：short、int、long   \n",
    "&emsp;&emsp;浮点数：float   \n",
    "&emsp;&emsp;其他语言：单精度（float）,双精度（double）  \n",
    "&emsp;&emsp;python中只有float   "
   ]
  },
  {
   "cell_type": "code",
   "execution_count": 4,
   "metadata": {
    "scrolled": true
   },
   "outputs": [
    {
     "data": {
      "text/plain": [
       "int"
      ]
     },
     "execution_count": 4,
     "metadata": {},
     "output_type": "execute_result"
    }
   ],
   "source": [
    "type(1)"
   ]
  },
  {
   "cell_type": "code",
   "execution_count": 5,
   "metadata": {},
   "outputs": [
    {
     "data": {
      "text/plain": [
       "int"
      ]
     },
     "execution_count": 5,
     "metadata": {},
     "output_type": "execute_result"
    }
   ],
   "source": [
    "type(-1)"
   ]
  },
  {
   "cell_type": "code",
   "execution_count": 7,
   "metadata": {},
   "outputs": [
    {
     "data": {
      "text/plain": [
       "float"
      ]
     },
     "execution_count": 7,
     "metadata": {},
     "output_type": "execute_result"
    }
   ],
   "source": [
    "type(1.1)"
   ]
  },
  {
   "cell_type": "code",
   "execution_count": 8,
   "metadata": {},
   "outputs": [
    {
     "data": {
      "text/plain": [
       "float"
      ]
     },
     "execution_count": 8,
     "metadata": {},
     "output_type": "execute_result"
    }
   ],
   "source": [
    "type(1.11111111)"
   ]
  },
  {
   "cell_type": "code",
   "execution_count": 9,
   "metadata": {},
   "outputs": [
    {
     "data": {
      "text/plain": [
       "float"
      ]
     },
     "execution_count": 9,
     "metadata": {},
     "output_type": "execute_result"
    }
   ],
   "source": [
    "type(1+0.1)"
   ]
  },
  {
   "cell_type": "code",
   "execution_count": 10,
   "metadata": {},
   "outputs": [
    {
     "data": {
      "text/plain": [
       "int"
      ]
     },
     "execution_count": 10,
     "metadata": {},
     "output_type": "execute_result"
    }
   ],
   "source": [
    "type(1+1)"
   ]
  },
  {
   "cell_type": "code",
   "execution_count": 11,
   "metadata": {},
   "outputs": [
    {
     "data": {
      "text/plain": [
       "float"
      ]
     },
     "execution_count": 11,
     "metadata": {},
     "output_type": "execute_result"
    }
   ],
   "source": [
    "type(1+1.0)"
   ]
  },
  {
   "cell_type": "code",
   "execution_count": 12,
   "metadata": {},
   "outputs": [
    {
     "data": {
      "text/plain": [
       "int"
      ]
     },
     "execution_count": 12,
     "metadata": {},
     "output_type": "execute_result"
    }
   ],
   "source": [
    "type(1*1)"
   ]
  },
  {
   "cell_type": "code",
   "execution_count": 13,
   "metadata": {},
   "outputs": [
    {
     "data": {
      "text/plain": [
       "float"
      ]
     },
     "execution_count": 13,
     "metadata": {},
     "output_type": "execute_result"
    }
   ],
   "source": [
    "type(1*1.0)"
   ]
  },
  {
   "cell_type": "code",
   "execution_count": 14,
   "metadata": {},
   "outputs": [
    {
     "data": {
      "text/plain": [
       "float"
      ]
     },
     "execution_count": 14,
     "metadata": {},
     "output_type": "execute_result"
    }
   ],
   "source": [
    "type(2/2)"
   ]
  },
  {
   "cell_type": "code",
   "execution_count": 15,
   "metadata": {},
   "outputs": [
    {
     "data": {
      "text/plain": [
       "int"
      ]
     },
     "execution_count": 15,
     "metadata": {},
     "output_type": "execute_result"
    }
   ],
   "source": [
    "type(2//2)"
   ]
  },
  {
   "cell_type": "markdown",
   "metadata": {},
   "source": [
    ">/表示浮点除法，//表示整数除法"
   ]
  },
  {
   "cell_type": "code",
   "execution_count": 18,
   "metadata": {},
   "outputs": [
    {
     "data": {
      "text/plain": [
       "1.3333333333333333"
      ]
     },
     "execution_count": 18,
     "metadata": {},
     "output_type": "execute_result"
    }
   ],
   "source": [
    "4/3"
   ]
  },
  {
   "cell_type": "markdown",
   "metadata": {},
   "source": [
    "### 进制转换\n",
    "[参考文档1](https://www.zhihu.com/question/23131605)<br>\n",
    "[参考文档2](https://www.cnblogs.com/summerdata/p/10722144.html)<br>\n",
    "[参考文档3](https://www.cnblogs.com/summerdata/p/10722359.html)<br>\n",
    "\n",
    "\n",
    "|===格式===|===说明===|\n",
    "|:------:|:------:|  \n",
    "|0b|二进制|  \n",
    "|0o|八进制（字母o）|\n",
    "|0x|十六进制|  "
   ]
  },
  {
   "cell_type": "code",
   "execution_count": 2,
   "metadata": {},
   "outputs": [
    {
     "data": {
      "text/plain": [
       "3"
      ]
     },
     "execution_count": 2,
     "metadata": {},
     "output_type": "execute_result"
    }
   ],
   "source": [
    "0b11"
   ]
  },
  {
   "cell_type": "code",
   "execution_count": 3,
   "metadata": {},
   "outputs": [
    {
     "data": {
      "text/plain": [
       "9"
      ]
     },
     "execution_count": 3,
     "metadata": {},
     "output_type": "execute_result"
    }
   ],
   "source": [
    "0o11"
   ]
  },
  {
   "cell_type": "code",
   "execution_count": 4,
   "metadata": {},
   "outputs": [
    {
     "data": {
      "text/plain": [
       "17"
      ]
     },
     "execution_count": 4,
     "metadata": {},
     "output_type": "execute_result"
    }
   ],
   "source": [
    "0x11"
   ]
  },
  {
   "cell_type": "code",
   "execution_count": 5,
   "metadata": {},
   "outputs": [
    {
     "data": {
      "text/plain": [
       "31"
      ]
     },
     "execution_count": 5,
     "metadata": {},
     "output_type": "execute_result"
    }
   ],
   "source": [
    "0x1F"
   ]
  },
  {
   "cell_type": "markdown",
   "metadata": {},
   "source": [
    "#### 其他进制转换成二进制"
   ]
  },
  {
   "cell_type": "code",
   "execution_count": 6,
   "metadata": {},
   "outputs": [
    {
     "data": {
      "text/plain": [
       "'0b1010'"
      ]
     },
     "execution_count": 6,
     "metadata": {},
     "output_type": "execute_result"
    }
   ],
   "source": [
    "bin(10)"
   ]
  },
  {
   "cell_type": "code",
   "execution_count": 7,
   "metadata": {},
   "outputs": [
    {
     "data": {
      "text/plain": [
       "'0b111'"
      ]
     },
     "execution_count": 7,
     "metadata": {},
     "output_type": "execute_result"
    }
   ],
   "source": [
    "bin(0o7)"
   ]
  },
  {
   "cell_type": "code",
   "execution_count": 8,
   "metadata": {},
   "outputs": [
    {
     "data": {
      "text/plain": [
       "'0b1110'"
      ]
     },
     "execution_count": 8,
     "metadata": {},
     "output_type": "execute_result"
    }
   ],
   "source": [
    "bin(0xE)"
   ]
  },
  {
   "cell_type": "markdown",
   "metadata": {},
   "source": [
    "#### 其他进制转换成十进制"
   ]
  },
  {
   "cell_type": "code",
   "execution_count": 9,
   "metadata": {},
   "outputs": [
    {
     "data": {
      "text/plain": [
       "7"
      ]
     },
     "execution_count": 9,
     "metadata": {},
     "output_type": "execute_result"
    }
   ],
   "source": [
    "int(0b111) "
   ]
  },
  {
   "cell_type": "code",
   "execution_count": 10,
   "metadata": {},
   "outputs": [
    {
     "data": {
      "text/plain": [
       "63"
      ]
     },
     "execution_count": 10,
     "metadata": {},
     "output_type": "execute_result"
    }
   ],
   "source": [
    "int(0o77)"
   ]
  },
  {
   "cell_type": "markdown",
   "metadata": {},
   "source": [
    "#### 其他进制转换成十六进制"
   ]
  },
  {
   "cell_type": "code",
   "execution_count": 11,
   "metadata": {},
   "outputs": [
    {
     "data": {
      "text/plain": [
       "'0x378'"
      ]
     },
     "execution_count": 11,
     "metadata": {},
     "output_type": "execute_result"
    }
   ],
   "source": [
    "hex(888)"
   ]
  },
  {
   "cell_type": "code",
   "execution_count": 12,
   "metadata": {},
   "outputs": [
    {
     "data": {
      "text/plain": [
       "'0xfff'"
      ]
     },
     "execution_count": 12,
     "metadata": {},
     "output_type": "execute_result"
    }
   ],
   "source": [
    "hex(0o7777)"
   ]
  },
  {
   "cell_type": "markdown",
   "metadata": {},
   "source": [
    "#### 其他进制转换成八进制"
   ]
  },
  {
   "cell_type": "code",
   "execution_count": 13,
   "metadata": {},
   "outputs": [
    {
     "data": {
      "text/plain": [
       "'0o7'"
      ]
     },
     "execution_count": 13,
     "metadata": {},
     "output_type": "execute_result"
    }
   ],
   "source": [
    "oct(0b111)"
   ]
  },
  {
   "cell_type": "code",
   "execution_count": 15,
   "metadata": {},
   "outputs": [
    {
     "data": {
      "text/plain": [
       "'0o3567'"
      ]
     },
     "execution_count": 15,
     "metadata": {},
     "output_type": "execute_result"
    }
   ],
   "source": [
    "oct(0x777)"
   ]
  },
  {
   "cell_type": "markdown",
   "metadata": {},
   "source": [
    "### 数字：布尔类型与负数"
   ]
  },
  {
   "cell_type": "markdown",
   "metadata": {},
   "source": [
    "Number：数字   \n",
    "bool 布尔类型：表示真、假  \n",
    "complex 复数   36j   ==》   j表示负数  \n",
    ">非0的数字均表示布尔真   \n",
    ">0表示布尔假   \n",
    ">bool()的参数不止是Number类型，还可以是字符串、列表、元组+6.简单来说非空一般的结果都是True(空指的是空字符串、空列表、空元组)   \n",
    ">python还有一个特殊的类型叫None，也是False(牢记)"
   ]
  },
  {
   "cell_type": "code",
   "execution_count": 16,
   "metadata": {},
   "outputs": [
    {
     "data": {
      "text/plain": [
       "True"
      ]
     },
     "execution_count": 16,
     "metadata": {},
     "output_type": "execute_result"
    }
   ],
   "source": [
    "True"
   ]
  },
  {
   "cell_type": "code",
   "execution_count": 17,
   "metadata": {},
   "outputs": [
    {
     "data": {
      "text/plain": [
       "False"
      ]
     },
     "execution_count": 17,
     "metadata": {},
     "output_type": "execute_result"
    }
   ],
   "source": [
    "False"
   ]
  },
  {
   "cell_type": "code",
   "execution_count": 18,
   "metadata": {
    "scrolled": true
   },
   "outputs": [
    {
     "ename": "NameError",
     "evalue": "name 'true' is not defined",
     "output_type": "error",
     "traceback": [
      "\u001b[1;31m---------------------------------------------------------------------------\u001b[0m",
      "\u001b[1;31mNameError\u001b[0m                                 Traceback (most recent call last)",
      "\u001b[1;32m<ipython-input-18-724ba28f4a9a>\u001b[0m in \u001b[0;36m<module>\u001b[1;34m\u001b[0m\n\u001b[1;32m----> 1\u001b[1;33m \u001b[0mtrue\u001b[0m\u001b[1;33m\u001b[0m\u001b[1;33m\u001b[0m\u001b[0m\n\u001b[0m",
      "\u001b[1;31mNameError\u001b[0m: name 'true' is not defined"
     ]
    }
   ],
   "source": [
    "true"
   ]
  },
  {
   "cell_type": "code",
   "execution_count": 19,
   "metadata": {},
   "outputs": [
    {
     "data": {
      "text/plain": [
       "bool"
      ]
     },
     "execution_count": 19,
     "metadata": {},
     "output_type": "execute_result"
    }
   ],
   "source": [
    "type(False)"
   ]
  },
  {
   "cell_type": "code",
   "execution_count": 20,
   "metadata": {},
   "outputs": [
    {
     "data": {
      "text/plain": [
       "bool"
      ]
     },
     "execution_count": 20,
     "metadata": {},
     "output_type": "execute_result"
    }
   ],
   "source": [
    "type(True)"
   ]
  },
  {
   "cell_type": "code",
   "execution_count": 21,
   "metadata": {},
   "outputs": [
    {
     "data": {
      "text/plain": [
       "False"
      ]
     },
     "execution_count": 21,
     "metadata": {},
     "output_type": "execute_result"
    }
   ],
   "source": [
    "bool(0)"
   ]
  },
  {
   "cell_type": "code",
   "execution_count": 22,
   "metadata": {},
   "outputs": [
    {
     "data": {
      "text/plain": [
       "True"
      ]
     },
     "execution_count": 22,
     "metadata": {},
     "output_type": "execute_result"
    }
   ],
   "source": [
    "bool(1)"
   ]
  },
  {
   "cell_type": "code",
   "execution_count": 24,
   "metadata": {},
   "outputs": [
    {
     "data": {
      "text/plain": [
       "True"
      ]
     },
     "execution_count": 24,
     "metadata": {},
     "output_type": "execute_result"
    }
   ],
   "source": [
    "bool(2)"
   ]
  },
  {
   "cell_type": "code",
   "execution_count": 25,
   "metadata": {},
   "outputs": [
    {
     "data": {
      "text/plain": [
       "True"
      ]
     },
     "execution_count": 25,
     "metadata": {},
     "output_type": "execute_result"
    }
   ],
   "source": [
    "bool(2.2)"
   ]
  },
  {
   "cell_type": "code",
   "execution_count": 26,
   "metadata": {},
   "outputs": [
    {
     "data": {
      "text/plain": [
       "True"
      ]
     },
     "execution_count": 26,
     "metadata": {},
     "output_type": "execute_result"
    }
   ],
   "source": [
    "bool(-1.1)"
   ]
  },
  {
   "cell_type": "code",
   "execution_count": 27,
   "metadata": {},
   "outputs": [
    {
     "data": {
      "text/plain": [
       "False"
      ]
     },
     "execution_count": 27,
     "metadata": {},
     "output_type": "execute_result"
    }
   ],
   "source": [
    "bool(0)"
   ]
  },
  {
   "cell_type": "code",
   "execution_count": 28,
   "metadata": {},
   "outputs": [
    {
     "data": {
      "text/plain": [
       "True"
      ]
     },
     "execution_count": 28,
     "metadata": {},
     "output_type": "execute_result"
    }
   ],
   "source": [
    "bool(0b01)"
   ]
  },
  {
   "cell_type": "code",
   "execution_count": 29,
   "metadata": {},
   "outputs": [
    {
     "data": {
      "text/plain": [
       "False"
      ]
     },
     "execution_count": 29,
     "metadata": {},
     "output_type": "execute_result"
    }
   ],
   "source": [
    "bool(0b0)"
   ]
  },
  {
   "cell_type": "code",
   "execution_count": 30,
   "metadata": {},
   "outputs": [
    {
     "data": {
      "text/plain": [
       "True"
      ]
     },
     "execution_count": 30,
     "metadata": {},
     "output_type": "execute_result"
    }
   ],
   "source": [
    "bool('abc')"
   ]
  },
  {
   "cell_type": "code",
   "execution_count": 31,
   "metadata": {},
   "outputs": [
    {
     "data": {
      "text/plain": [
       "False"
      ]
     },
     "execution_count": 31,
     "metadata": {},
     "output_type": "execute_result"
    }
   ],
   "source": [
    "bool('')"
   ]
  },
  {
   "cell_type": "code",
   "execution_count": 32,
   "metadata": {},
   "outputs": [
    {
     "data": {
      "text/plain": [
       "True"
      ]
     },
     "execution_count": 32,
     "metadata": {},
     "output_type": "execute_result"
    }
   ],
   "source": [
    "bool([1,2,3])"
   ]
  },
  {
   "cell_type": "code",
   "execution_count": 33,
   "metadata": {},
   "outputs": [
    {
     "data": {
      "text/plain": [
       "False"
      ]
     },
     "execution_count": 33,
     "metadata": {},
     "output_type": "execute_result"
    }
   ],
   "source": [
    "bool([])"
   ]
  },
  {
   "cell_type": "code",
   "execution_count": 34,
   "metadata": {},
   "outputs": [
    {
     "data": {
      "text/plain": [
       "True"
      ]
     },
     "execution_count": 34,
     "metadata": {},
     "output_type": "execute_result"
    }
   ],
   "source": [
    "bool({1,1,1})"
   ]
  },
  {
   "cell_type": "code",
   "execution_count": 35,
   "metadata": {},
   "outputs": [
    {
     "data": {
      "text/plain": [
       "False"
      ]
     },
     "execution_count": 35,
     "metadata": {},
     "output_type": "execute_result"
    }
   ],
   "source": [
    "bool({})"
   ]
  },
  {
   "cell_type": "code",
   "execution_count": 36,
   "metadata": {},
   "outputs": [
    {
     "data": {
      "text/plain": [
       "False"
      ]
     },
     "execution_count": 36,
     "metadata": {},
     "output_type": "execute_result"
    }
   ],
   "source": [
    "bool(None)"
   ]
  },
  {
   "cell_type": "markdown",
   "metadata": {},
   "source": [
    "### 字符串：单引号与双引号"
   ]
  },
  {
   "cell_type": "markdown",
   "metadata": {},
   "source": [
    "str 字符串\n",
    "#### 如何表示字符串\n",
    "单引号、双引号、三引号"
   ]
  },
  {
   "cell_type": "code",
   "execution_count": 1,
   "metadata": {},
   "outputs": [
    {
     "data": {
      "text/plain": [
       "int"
      ]
     },
     "execution_count": 1,
     "metadata": {},
     "output_type": "execute_result"
    }
   ],
   "source": [
    "type(1)"
   ]
  },
  {
   "cell_type": "code",
   "execution_count": 2,
   "metadata": {},
   "outputs": [
    {
     "data": {
      "text/plain": [
       "str"
      ]
     },
     "execution_count": 2,
     "metadata": {},
     "output_type": "execute_result"
    }
   ],
   "source": [
    "type('1')"
   ]
  },
  {
   "cell_type": "code",
   "execution_count": 3,
   "metadata": {},
   "outputs": [
    {
     "ename": "SyntaxError",
     "evalue": "invalid syntax (<ipython-input-3-58d8c8a129df>, line 1)",
     "output_type": "error",
     "traceback": [
      "\u001b[1;36m  File \u001b[1;32m\"<ipython-input-3-58d8c8a129df>\"\u001b[1;36m, line \u001b[1;32m1\u001b[0m\n\u001b[1;33m    'let's go'\u001b[0m\n\u001b[1;37m         ^\u001b[0m\n\u001b[1;31mSyntaxError\u001b[0m\u001b[1;31m:\u001b[0m invalid syntax\n"
     ]
    }
   ],
   "source": [
    "'let's go'"
   ]
  },
  {
   "cell_type": "code",
   "execution_count": 4,
   "metadata": {},
   "outputs": [
    {
     "data": {
      "text/plain": [
       "\"let's go\""
      ]
     },
     "execution_count": 4,
     "metadata": {},
     "output_type": "execute_result"
    }
   ],
   "source": [
    "\"let's go\""
   ]
  },
  {
   "cell_type": "code",
   "execution_count": 5,
   "metadata": {},
   "outputs": [
    {
     "data": {
      "text/plain": [
       "\"let's go\""
      ]
     },
     "execution_count": 5,
     "metadata": {},
     "output_type": "execute_result"
    }
   ],
   "source": [
    "'let\\'s go'"
   ]
  },
  {
   "cell_type": "markdown",
   "metadata": {},
   "source": [
    ">转义字符 \\"
   ]
  },
  {
   "cell_type": "markdown",
   "metadata": {},
   "source": [
    "#### 多行字符串"
   ]
  },
  {
   "cell_type": "code",
   "execution_count": 10,
   "metadata": {},
   "outputs": [
    {
     "ename": "NameError",
     "evalue": "name 'fef' is not defined",
     "output_type": "error",
     "traceback": [
      "\u001b[1;31m---------------------------------------------------------------------------\u001b[0m",
      "\u001b[1;31mNameError\u001b[0m                                 Traceback (most recent call last)",
      "\u001b[1;32m<ipython-input-10-c4fae0854a0d>\u001b[0m in \u001b[0;36m<module>\u001b[1;34m\u001b[0m\n\u001b[0;32m      1\u001b[0m \u001b[1;34m\"\"\u001b[0m\u001b[1;33m\u001b[0m\u001b[1;33m\u001b[0m\u001b[0m\n\u001b[1;32m----> 2\u001b[1;33m \u001b[0mfef\u001b[0m\u001b[1;33m\u001b[0m\u001b[1;33m\u001b[0m\u001b[0m\n\u001b[0m\u001b[0;32m      3\u001b[0m \u001b[0mfef\u001b[0m\u001b[1;33m\u001b[0m\u001b[1;33m\u001b[0m\u001b[0m\n\u001b[0;32m      4\u001b[0m \u001b[1;34m\"\"\u001b[0m\u001b[1;33m\u001b[0m\u001b[1;33m\u001b[0m\u001b[0m\n",
      "\u001b[1;31mNameError\u001b[0m: name 'fef' is not defined"
     ]
    }
   ],
   "source": [
    "\"\"\n",
    "fef\n",
    "fef\n",
    "\"\""
   ]
  },
  {
   "cell_type": "code",
   "execution_count": 6,
   "metadata": {},
   "outputs": [
    {
     "data": {
      "text/plain": [
       "'\\nhello world\\nhello world\\nhello world\\n'"
      ]
     },
     "execution_count": 6,
     "metadata": {},
     "output_type": "execute_result"
    }
   ],
   "source": [
    "'''\n",
    "hello world\n",
    "hello world\n",
    "hello world\n",
    "'''"
   ]
  },
  {
   "cell_type": "code",
   "execution_count": 11,
   "metadata": {},
   "outputs": [
    {
     "data": {
      "text/plain": [
       "'\\nhello world\\nhello world\\nhello world\\n'"
      ]
     },
     "execution_count": 11,
     "metadata": {},
     "output_type": "execute_result"
    }
   ],
   "source": [
    "\"\"\"\n",
    "hello world\n",
    "hello world\n",
    "hello world\n",
    "\"\"\""
   ]
  },
  {
   "cell_type": "code",
   "execution_count": 12,
   "metadata": {},
   "outputs": [
    {
     "data": {
      "text/plain": [
       "'\\nhello world\\nhello world\\nhello world\\n'"
      ]
     },
     "execution_count": 12,
     "metadata": {},
     "output_type": "execute_result"
    }
   ],
   "source": [
    "'\\nhello world\\nhello world\\nhello world\\n'"
   ]
  },
  {
   "cell_type": "code",
   "execution_count": 13,
   "metadata": {
    "scrolled": true
   },
   "outputs": [
    {
     "name": "stdout",
     "output_type": "stream",
     "text": [
      "\n",
      "hello world\n",
      "hello world\n",
      "hello world\n",
      "\n"
     ]
    }
   ],
   "source": [
    "print('\\nhello world\\nhello world\\nhello world\\n')"
   ]
  },
  {
   "cell_type": "code",
   "execution_count": 14,
   "metadata": {},
   "outputs": [
    {
     "data": {
      "text/plain": [
       "'123123'"
      ]
     },
     "execution_count": 14,
     "metadata": {},
     "output_type": "execute_result"
    }
   ],
   "source": [
    "'123\\\n",
    "123'"
   ]
  },
  {
   "cell_type": "code",
   "execution_count": 3,
   "metadata": {},
   "outputs": [
    {
     "name": "stdout",
     "output_type": "stream",
     "text": [
      "123\n",
      "123\n"
     ]
    }
   ],
   "source": [
    "print('123\\\n",
    "123')"
   ]
  },
  {
   "cell_type": "code",
   "execution_count": 23,
   "metadata": {},
   "outputs": [
    {
     "name": "stdout",
     "output_type": "stream",
     "text": [
      "1\n",
      "2\n",
      "3\n",
      "\n"
     ]
    }
   ],
   "source": [
    "print('''1\n",
    "2\n",
    "3\n",
    "''')"
   ]
  },
  {
   "cell_type": "markdown",
   "metadata": {},
   "source": [
    "引号必须成对出现，三个引号（单引号或者双引号）或者加转义字符\\n（表示回车），可以实现换行   \n",
    "单、双引号也直接可以实现换行，需要在要换行的位置加入反斜杠"
   ]
  },
  {
   "cell_type": "markdown",
   "metadata": {},
   "source": [
    "#### 转义字符"
   ]
  },
  {
   "cell_type": "markdown",
   "metadata": {},
   "source": [
    "转义字符是特殊字符，一般出现的情况是：   \n",
    "1.“看不见”的字符，如\\n，''' '''换行不显示打印显示   \n",
    "2.与语言本身有冲突的字符，如\\'，'let\\\\'s go'      \n",
    "常用的转义字符有：   \n",
    "\\n换行    \n",
    "\\\\'单引号   \n",
    "\\t横向制表符   \n",
    "\\r回车"
   ]
  },
  {
   "cell_type": "code",
   "execution_count": 19,
   "metadata": {},
   "outputs": [
    {
     "name": "stdout",
     "output_type": "stream",
     "text": [
      "hello \r",
      "321\n"
     ]
    }
   ],
   "source": [
    "print('hello \\r321')"
   ]
  },
  {
   "cell_type": "markdown",
   "metadata": {},
   "source": [
    "[换行符问题\\n \\r](https://www.zhihu.com/question/19751023)   \n",
    "[\\r,\\n,\\r\\n的区别：回车与换行](https://www.jianshu.com/p/c95a475707a5)"
   ]
  },
  {
   "cell_type": "code",
   "execution_count": 22,
   "metadata": {},
   "outputs": [
    {
     "name": "stdout",
     "output_type": "stream",
     "text": [
      "hello\\nworld\n"
     ]
    }
   ],
   "source": [
    "print('hello\\\\nworld')"
   ]
  },
  {
   "cell_type": "markdown",
   "metadata": {},
   "source": [
    "#### 原始字符串"
   ]
  },
  {
   "cell_type": "markdown",
   "metadata": {},
   "source": [
    "如何让转义字符不生效，如 print('hello\\nworld')如何能打印出hello\\nworld   \n",
    "两个解决办法：   \n",
    "1.\\n前面加\\，即\\\\\\n，此时\\\\变成转义字符，n变成普通字符    \n",
    "2.加r或R，如print(r'c:\\north\\northwest'), r表示后面不是一个普通字符串，因此此时\\n不会生效，表示的是原始字符串     \n",
    "注意：'let's go'前面不能加r，只能用'let\\\\'s go'，因为引号不是成对出现，不是普通字符串"
   ]
  },
  {
   "cell_type": "code",
   "execution_count": 23,
   "metadata": {},
   "outputs": [
    {
     "name": "stdout",
     "output_type": "stream",
     "text": [
      "c:\\northwind\\northwest\n"
     ]
    }
   ],
   "source": [
    "print('c:\\\\northwind\\\\northwest')"
   ]
  },
  {
   "cell_type": "code",
   "execution_count": 25,
   "metadata": {},
   "outputs": [
    {
     "name": "stdout",
     "output_type": "stream",
     "text": [
      "c:\\northwind\\northwest\n"
     ]
    }
   ],
   "source": [
    "print(r'c:\\northwind\\northwest')"
   ]
  },
  {
   "cell_type": "markdown",
   "metadata": {},
   "source": [
    "#### 字符串运算"
   ]
  },
  {
   "cell_type": "markdown",
   "metadata": {},
   "source": [
    "字符串的拼接"
   ]
  },
  {
   "cell_type": "code",
   "execution_count": 27,
   "metadata": {},
   "outputs": [
    {
     "data": {
      "text/plain": [
       "'hello world'"
      ]
     },
     "execution_count": 27,
     "metadata": {},
     "output_type": "execute_result"
    }
   ],
   "source": [
    "'hello '+'world'"
   ]
  },
  {
   "cell_type": "code",
   "execution_count": 28,
   "metadata": {},
   "outputs": [
    {
     "data": {
      "text/plain": [
       "'hello hello hello '"
      ]
     },
     "execution_count": 28,
     "metadata": {},
     "output_type": "execute_result"
    }
   ],
   "source": [
    "'hello '*3"
   ]
  },
  {
   "cell_type": "markdown",
   "metadata": {},
   "source": [
    "获取字符串的单个字符   \n",
    "下标从0开始   \n",
    "下标从0开始   \n",
    "下标从0开始   \n",
    "-1 倒数第一位"
   ]
  },
  {
   "cell_type": "code",
   "execution_count": 29,
   "metadata": {},
   "outputs": [
    {
     "data": {
      "text/plain": [
       "'h'"
      ]
     },
     "execution_count": 29,
     "metadata": {},
     "output_type": "execute_result"
    }
   ],
   "source": [
    "'hello world'[0]"
   ]
  },
  {
   "cell_type": "code",
   "execution_count": 31,
   "metadata": {},
   "outputs": [
    {
     "data": {
      "text/plain": [
       "'l'"
      ]
     },
     "execution_count": 31,
     "metadata": {},
     "output_type": "execute_result"
    }
   ],
   "source": [
    "\"hello world\"[3]"
   ]
  },
  {
   "cell_type": "code",
   "execution_count": 32,
   "metadata": {},
   "outputs": [
    {
     "data": {
      "text/plain": [
       "'d'"
      ]
     },
     "execution_count": 32,
     "metadata": {},
     "output_type": "execute_result"
    }
   ],
   "source": [
    "\"hello world\"[-1]"
   ]
  },
  {
   "cell_type": "code",
   "execution_count": 33,
   "metadata": {},
   "outputs": [
    {
     "data": {
      "text/plain": [
       "'r'"
      ]
     },
     "execution_count": 33,
     "metadata": {},
     "output_type": "execute_result"
    }
   ],
   "source": [
    "\"hello world\"[-3]"
   ]
  },
  {
   "cell_type": "markdown",
   "metadata": {},
   "source": [
    "截取一段字符"
   ]
  },
  {
   "cell_type": "code",
   "execution_count": 34,
   "metadata": {},
   "outputs": [
    {
     "data": {
      "text/plain": [
       "' world'"
      ]
     },
     "execution_count": 34,
     "metadata": {},
     "output_type": "execute_result"
    }
   ],
   "source": [
    "\"hello world\"[5:11]"
   ]
  },
  {
   "cell_type": "code",
   "execution_count": 35,
   "metadata": {},
   "outputs": [
    {
     "data": {
      "text/plain": [
       "'world'"
      ]
     },
     "execution_count": 35,
     "metadata": {},
     "output_type": "execute_result"
    }
   ],
   "source": [
    "\"hello world\"[-5:11]"
   ]
  },
  {
   "cell_type": "code",
   "execution_count": 36,
   "metadata": {},
   "outputs": [
    {
     "data": {
      "text/plain": [
       "'worl'"
      ]
     },
     "execution_count": 36,
     "metadata": {},
     "output_type": "execute_result"
    }
   ],
   "source": [
    "\"hello world\"[-5:-1]"
   ]
  },
  {
   "cell_type": "markdown",
   "metadata": {},
   "source": [
    "字符串截取注意：   \n",
    "str[a:b 1],截取出来的是第a位到第b位，而不是第b 1位；    \n",
    "str[0:-n],代表的意思是，去除掉后面的n位字符后的字符串，   \n",
    "此时，负数表示的是步长的概念"
   ]
  },
  {
   "cell_type": "code",
   "execution_count": 37,
   "metadata": {},
   "outputs": [
    {
     "data": {
      "text/plain": [
       "'world'"
      ]
     },
     "execution_count": 37,
     "metadata": {},
     "output_type": "execute_result"
    }
   ],
   "source": [
    "\"hello world\"[6:]"
   ]
  },
  {
   "cell_type": "markdown",
   "metadata": {},
   "source": [
    "## 第四章 “组”的概念与定义"
   ]
  },
  {
   "cell_type": "markdown",
   "metadata": {},
   "source": [
    "### 列表的定义\n",
    "python 除了数字和字符串，还有其他的数据类型：    \n",
    "    组的数据类型：   \n",
    "    python中表示组的概念：python中表示组的方法有很多种，并非只有一种。\n",
    "    组一：列表[1,2,3,4,5,6]    \n",
    "    type([1,2,3]) -> class 'list'    \n",
    "    列表重要的特性：列表中内容部元素的类型不是固定的，可以是字符，数字，bool,列表 等等。 ['hello',1,9, True, False，[1,2],[3,4]]  \n",
    "    嵌套列表：[[1,2],[3,4]] -->其他语言叫二维数组。"
   ]
  },
  {
   "cell_type": "code",
   "execution_count": 38,
   "metadata": {},
   "outputs": [
    {
     "data": {
      "text/plain": [
       "list"
      ]
     },
     "execution_count": 38,
     "metadata": {},
     "output_type": "execute_result"
    }
   ],
   "source": [
    "type([1,2,3])"
   ]
  },
  {
   "cell_type": "code",
   "execution_count": 42,
   "metadata": {},
   "outputs": [
    {
     "data": {
      "text/plain": [
       "list"
      ]
     },
     "execution_count": 42,
     "metadata": {},
     "output_type": "execute_result"
    }
   ],
   "source": [
    "type(['hello',1,9,True,False,[1,2],[3,4]])"
   ]
  },
  {
   "cell_type": "markdown",
   "metadata": {},
   "source": [
    "### 列表的基本操作"
   ]
  },
  {
   "cell_type": "markdown",
   "metadata": {},
   "source": [
    "1.这节课讲列表的基本操作(列表中的每个元素都分配一个下标)    \n",
    "2.通过[1,2,3]\\[0\\](这种方式叫访问列表对应的下标值，值是什么类型就返回什么类型,这个实例会返回1，数据类型是int)    \n",
    "3.通过[1,2,3]\\[0:1\\](这种方式叫   \n",
    "截取列表   \n",
    "截取列表   \n",
    "截取列表，哪怕这个列表只有一个元素，都是输出一个列表) ,没有冒号截取出来的元素类型与本身有关，字符串，数字等   \n",
    "4.两个列表可以相加，返回的是合并的列表，列表可以和数字n相乘，是将列表内容重复n遍，并且返回一个列表[1,2]*2=>[1,2,1,2]    !!!!!没有减法"
   ]
  },
  {
   "cell_type": "code",
   "execution_count": 44,
   "metadata": {},
   "outputs": [
    {
     "data": {
      "text/plain": [
       "1"
      ]
     },
     "execution_count": 44,
     "metadata": {},
     "output_type": "execute_result"
    }
   ],
   "source": [
    "[1,2,3,4,5,6][0]"
   ]
  },
  {
   "cell_type": "code",
   "execution_count": 45,
   "metadata": {},
   "outputs": [
    {
     "data": {
      "text/plain": [
       "[1]"
      ]
     },
     "execution_count": 45,
     "metadata": {},
     "output_type": "execute_result"
    }
   ],
   "source": [
    "[1,2,3,4,5,6][0:1]"
   ]
  },
  {
   "cell_type": "code",
   "execution_count": 46,
   "metadata": {},
   "outputs": [
    {
     "data": {
      "text/plain": [
       "[1, 2, 3]"
      ]
     },
     "execution_count": 46,
     "metadata": {},
     "output_type": "execute_result"
    }
   ],
   "source": [
    "[1,2,3,4,5,6][0:3]"
   ]
  },
  {
   "cell_type": "code",
   "execution_count": 47,
   "metadata": {},
   "outputs": [
    {
     "data": {
      "text/plain": [
       "[1, 2, 3, 4, 5, 6]"
      ]
     },
     "execution_count": 47,
     "metadata": {},
     "output_type": "execute_result"
    }
   ],
   "source": [
    "[1,2,3]+[4,5,6]"
   ]
  },
  {
   "cell_type": "code",
   "execution_count": 48,
   "metadata": {},
   "outputs": [
    {
     "data": {
      "text/plain": [
       "[1, 2, 3, 1, 2, 3]"
      ]
     },
     "execution_count": 48,
     "metadata": {},
     "output_type": "execute_result"
    }
   ],
   "source": [
    "[1, 2, 3]*2"
   ]
  },
  {
   "cell_type": "markdown",
   "metadata": {},
   "source": [
    "### 元组"
   ]
  },
  {
   "cell_type": "markdown",
   "metadata": {},
   "source": [
    "tuple   \n",
    "Python元组和Python列表数据类似，都是线性表。唯一不同的是，Python元组赋值后所存储的数据不能被程序修改，可以将元组看作是只能读取数据不能修改数据的列表。   \n",
    "[tuple与list的区别](https://blog.csdn.net/ruanxingzi123/article/details/83184909)"
   ]
  },
  {
   "cell_type": "code",
   "execution_count": 51,
   "metadata": {},
   "outputs": [
    {
     "data": {
      "text/plain": [
       "tuple"
      ]
     },
     "execution_count": 51,
     "metadata": {},
     "output_type": "execute_result"
    }
   ],
   "source": [
    "type((1,2,3,4,5))"
   ]
  },
  {
   "cell_type": "code",
   "execution_count": 53,
   "metadata": {},
   "outputs": [
    {
     "data": {
      "text/plain": [
       "(1, '-1', True)"
      ]
     },
     "execution_count": 53,
     "metadata": {},
     "output_type": "execute_result"
    }
   ],
   "source": [
    "(1,'-1',True)"
   ]
  },
  {
   "cell_type": "code",
   "execution_count": 54,
   "metadata": {},
   "outputs": [
    {
     "data": {
      "text/plain": [
       "1"
      ]
     },
     "execution_count": 54,
     "metadata": {},
     "output_type": "execute_result"
    }
   ],
   "source": [
    "(1,2,3,4)[0]"
   ]
  },
  {
   "cell_type": "code",
   "execution_count": 55,
   "metadata": {},
   "outputs": [
    {
     "data": {
      "text/plain": [
       "(1, 2, 3)"
      ]
     },
     "execution_count": 55,
     "metadata": {},
     "output_type": "execute_result"
    }
   ],
   "source": [
    "(1,2,3,4)[0:3]"
   ]
  },
  {
   "cell_type": "code",
   "execution_count": 56,
   "metadata": {},
   "outputs": [
    {
     "data": {
      "text/plain": [
       "(1, 2, 3, 4, 5, 6)"
      ]
     },
     "execution_count": 56,
     "metadata": {},
     "output_type": "execute_result"
    }
   ],
   "source": [
    "(1,2,3)+(4,5,6)"
   ]
  },
  {
   "cell_type": "code",
   "execution_count": 57,
   "metadata": {},
   "outputs": [
    {
     "data": {
      "text/plain": [
       "(1, 2, 3, 1, 2, 3, 1, 2, 3)"
      ]
     },
     "execution_count": 57,
     "metadata": {},
     "output_type": "execute_result"
    }
   ],
   "source": [
    "(1,2,3)*3"
   ]
  },
  {
   "cell_type": "code",
   "execution_count": 61,
   "metadata": {},
   "outputs": [
    {
     "data": {
      "text/plain": [
       "4"
      ]
     },
     "execution_count": 61,
     "metadata": {},
     "output_type": "execute_result"
    }
   ],
   "source": [
    "(1+1)*2"
   ]
  },
  {
   "cell_type": "markdown",
   "metadata": {},
   "source": [
    "()  表示运算优先级的符号或者元组   \n",
    "type((1))的类型之所以是 int，原因是，type不知道里面到底是运算（如（1 1）*2）还是元组，所以硬性规定，括号里只有一个类型表示此类型而非tuple"
   ]
  },
  {
   "cell_type": "code",
   "execution_count": 60,
   "metadata": {
    "scrolled": true
   },
   "outputs": [
    {
     "data": {
      "text/plain": [
       "int"
      ]
     },
     "execution_count": 60,
     "metadata": {},
     "output_type": "execute_result"
    }
   ],
   "source": [
    "type((1))"
   ]
  },
  {
   "cell_type": "markdown",
   "metadata": {},
   "source": [
    "如何定义只有一个元素的元组\n",
    "    在元素后面加一个逗号,假装还有一个元素"
   ]
  },
  {
   "cell_type": "code",
   "execution_count": 63,
   "metadata": {},
   "outputs": [
    {
     "data": {
      "text/plain": [
       "tuple"
      ]
     },
     "execution_count": 63,
     "metadata": {},
     "output_type": "execute_result"
    }
   ],
   "source": [
    "type((1,))"
   ]
  },
  {
   "cell_type": "raw",
   "metadata": {},
   "source": [
    "如何表示一个空的元组"
   ]
  },
  {
   "cell_type": "code",
   "execution_count": 64,
   "metadata": {},
   "outputs": [
    {
     "data": {
      "text/plain": [
       "tuple"
      ]
     },
     "execution_count": 64,
     "metadata": {},
     "output_type": "execute_result"
    }
   ],
   "source": [
    "type(())"
   ]
  },
  {
   "cell_type": "code",
   "execution_count": 65,
   "metadata": {},
   "outputs": [
    {
     "data": {
      "text/plain": [
       "list"
      ]
     },
     "execution_count": 65,
     "metadata": {},
     "output_type": "execute_result"
    }
   ],
   "source": [
    "type([1])"
   ]
  },
  {
   "cell_type": "markdown",
   "metadata": {},
   "source": [
    "### 序列总结\n",
    "str list tuple都是序列（python中组的概念）    \n",
    "通用：   截取单个字符（序列中每个元素都会被分配一个序号）      \n",
    "切片 [n:m]或者[n:m:b]从第n 1个到m个，中间隔b-1个字符      \n",
    "序列相加   \n",
    "序列*正整数  \n",
    "验证序列中是否有某个元素，a (not) in 序列 => a是否不在列表中，返回True/False      \n",
    "len(序列) 判断序列中的元素个数     \n",
    "max(序列) 判断序列中的最大值      \n",
    "min(序列) 判断序列中的最小值   \n",
    "ord( ) 查看 ascll码   \n",
    "字符串也有最大最小的概念（通过字母后面对应的ask11码、字符编码的数字来判断"
   ]
  },
  {
   "cell_type": "code",
   "execution_count": 67,
   "metadata": {},
   "outputs": [
    {
     "data": {
      "text/plain": [
       "'h'"
      ]
     },
     "execution_count": 67,
     "metadata": {},
     "output_type": "execute_result"
    }
   ],
   "source": [
    "'hello'[0]"
   ]
  },
  {
   "cell_type": "code",
   "execution_count": 70,
   "metadata": {},
   "outputs": [
    {
     "data": {
      "text/plain": [
       "[1, 3, 5, 7, 9]"
      ]
     },
     "execution_count": 70,
     "metadata": {},
     "output_type": "execute_result"
    }
   ],
   "source": [
    "[1,2,3,4,5,6,7,8,9,10][0:9:2]"
   ]
  },
  {
   "cell_type": "code",
   "execution_count": 71,
   "metadata": {},
   "outputs": [
    {
     "data": {
      "text/plain": [
       "True"
      ]
     },
     "execution_count": 71,
     "metadata": {},
     "output_type": "execute_result"
    }
   ],
   "source": [
    "3 in [1,2,3,4,5,6]"
   ]
  },
  {
   "cell_type": "code",
   "execution_count": 72,
   "metadata": {},
   "outputs": [
    {
     "data": {
      "text/plain": [
       "False"
      ]
     },
     "execution_count": 72,
     "metadata": {},
     "output_type": "execute_result"
    }
   ],
   "source": [
    "3 not in [1,2,3,4,5,6]"
   ]
  },
  {
   "cell_type": "code",
   "execution_count": 74,
   "metadata": {},
   "outputs": [
    {
     "data": {
      "text/plain": [
       "5"
      ]
     },
     "execution_count": 74,
     "metadata": {},
     "output_type": "execute_result"
    }
   ],
   "source": [
    "len([1,2,3,4,5])"
   ]
  },
  {
   "cell_type": "code",
   "execution_count": 75,
   "metadata": {},
   "outputs": [
    {
     "data": {
      "text/plain": [
       "11"
      ]
     },
     "execution_count": 75,
     "metadata": {},
     "output_type": "execute_result"
    }
   ],
   "source": [
    "len('hello world')"
   ]
  },
  {
   "cell_type": "code",
   "execution_count": 76,
   "metadata": {},
   "outputs": [
    {
     "data": {
      "text/plain": [
       "5"
      ]
     },
     "execution_count": 76,
     "metadata": {},
     "output_type": "execute_result"
    }
   ],
   "source": [
    "max([1,2,3,4,5])"
   ]
  },
  {
   "cell_type": "code",
   "execution_count": 77,
   "metadata": {},
   "outputs": [
    {
     "data": {
      "text/plain": [
       "1"
      ]
     },
     "execution_count": 77,
     "metadata": {},
     "output_type": "execute_result"
    }
   ],
   "source": [
    "min([1,2,3,4,5])"
   ]
  },
  {
   "cell_type": "code",
   "execution_count": 78,
   "metadata": {},
   "outputs": [
    {
     "data": {
      "text/plain": [
       "'w'"
      ]
     },
     "execution_count": 78,
     "metadata": {},
     "output_type": "execute_result"
    }
   ],
   "source": [
    "max('helo world')"
   ]
  },
  {
   "cell_type": "code",
   "execution_count": 79,
   "metadata": {},
   "outputs": [
    {
     "data": {
      "text/plain": [
       "' '"
      ]
     },
     "execution_count": 79,
     "metadata": {},
     "output_type": "execute_result"
    }
   ],
   "source": [
    "min('helo world')"
   ]
  },
  {
   "cell_type": "code",
   "execution_count": 80,
   "metadata": {},
   "outputs": [
    {
     "data": {
      "text/plain": [
       "'d'"
      ]
     },
     "execution_count": 80,
     "metadata": {},
     "output_type": "execute_result"
    }
   ],
   "source": [
    "min('heloworld')"
   ]
  },
  {
   "cell_type": "code",
   "execution_count": 81,
   "metadata": {},
   "outputs": [
    {
     "data": {
      "text/plain": [
       "119"
      ]
     },
     "execution_count": 81,
     "metadata": {},
     "output_type": "execute_result"
    }
   ],
   "source": [
    "ord('w')"
   ]
  },
  {
   "cell_type": "code",
   "execution_count": 82,
   "metadata": {},
   "outputs": [
    {
     "data": {
      "text/plain": [
       "100"
      ]
     },
     "execution_count": 82,
     "metadata": {},
     "output_type": "execute_result"
    }
   ],
   "source": [
    "ord('d')"
   ]
  },
  {
   "cell_type": "code",
   "execution_count": 83,
   "metadata": {},
   "outputs": [
    {
     "data": {
      "text/plain": [
       "32"
      ]
     },
     "execution_count": 83,
     "metadata": {},
     "output_type": "execute_result"
    }
   ],
   "source": [
    "ord(' ')"
   ]
  },
  {
   "cell_type": "markdown",
   "metadata": {},
   "source": [
    "### set集合"
   ]
  },
  {
   "cell_type": "markdown",
   "metadata": {},
   "source": [
    "集合 set { }    \n",
    "1,无序,随机的,    \n",
    "2,不重复,自动去重,    \n",
    "3,不可截取,但,,可 len , in ,not in     \n",
    "差集 - : {1,2,3,4,5,6} - {3,4}  结果:{1,2,5,6}    \n",
    "交集 & ：{1,2,3,4,5,6} & {3,4}  结果:{3,4}   \n",
    "并集 | ：{1,2,3,4,5,6} | {13,4,7} 结果:{1,2,3,4,5,6,7,13}   "
   ]
  },
  {
   "cell_type": "code",
   "execution_count": 1,
   "metadata": {},
   "outputs": [
    {
     "data": {
      "text/plain": [
       "set"
      ]
     },
     "execution_count": 1,
     "metadata": {},
     "output_type": "execute_result"
    }
   ],
   "source": [
    "type({1,2,3})"
   ]
  },
  {
   "cell_type": "code",
   "execution_count": 2,
   "metadata": {},
   "outputs": [
    {
     "ename": "TypeError",
     "evalue": "'set' object is not subscriptable",
     "output_type": "error",
     "traceback": [
      "\u001b[1;31m---------------------------------------------------------------------------\u001b[0m",
      "\u001b[1;31mTypeError\u001b[0m                                 Traceback (most recent call last)",
      "\u001b[1;32m<ipython-input-2-3f9de2f905c3>\u001b[0m in \u001b[0;36m<module>\u001b[1;34m\u001b[0m\n\u001b[1;32m----> 1\u001b[1;33m \u001b[1;33m{\u001b[0m\u001b[1;36m1\u001b[0m\u001b[1;33m,\u001b[0m\u001b[1;36m2\u001b[0m\u001b[1;33m,\u001b[0m\u001b[1;36m3\u001b[0m\u001b[1;33m}\u001b[0m\u001b[1;33m[\u001b[0m\u001b[1;36m0\u001b[0m\u001b[1;33m]\u001b[0m\u001b[1;33m\u001b[0m\u001b[1;33m\u001b[0m\u001b[0m\n\u001b[0m",
      "\u001b[1;31mTypeError\u001b[0m: 'set' object is not subscriptable"
     ]
    }
   ],
   "source": [
    "{1,2,3}[0]"
   ]
  },
  {
   "cell_type": "code",
   "execution_count": 3,
   "metadata": {},
   "outputs": [
    {
     "ename": "TypeError",
     "evalue": "'set' object is not subscriptable",
     "output_type": "error",
     "traceback": [
      "\u001b[1;31m---------------------------------------------------------------------------\u001b[0m",
      "\u001b[1;31mTypeError\u001b[0m                                 Traceback (most recent call last)",
      "\u001b[1;32m<ipython-input-3-ed0aa671d032>\u001b[0m in \u001b[0;36m<module>\u001b[1;34m\u001b[0m\n\u001b[1;32m----> 1\u001b[1;33m \u001b[1;33m{\u001b[0m\u001b[1;36m1\u001b[0m\u001b[1;33m,\u001b[0m\u001b[1;36m2\u001b[0m\u001b[1;33m,\u001b[0m\u001b[1;36m3\u001b[0m\u001b[1;33m}\u001b[0m\u001b[1;33m[\u001b[0m\u001b[1;36m0\u001b[0m\u001b[1;33m:\u001b[0m\u001b[1;36m2\u001b[0m\u001b[1;33m]\u001b[0m\u001b[1;33m\u001b[0m\u001b[1;33m\u001b[0m\u001b[0m\n\u001b[0m",
      "\u001b[1;31mTypeError\u001b[0m: 'set' object is not subscriptable"
     ]
    }
   ],
   "source": [
    "{1,2,3}[0:2]"
   ]
  },
  {
   "cell_type": "code",
   "execution_count": 4,
   "metadata": {},
   "outputs": [
    {
     "data": {
      "text/plain": [
       "{1, 2, 3}"
      ]
     },
     "execution_count": 4,
     "metadata": {},
     "output_type": "execute_result"
    }
   ],
   "source": [
    "{1,1,2,2,3,3}"
   ]
  },
  {
   "cell_type": "code",
   "execution_count": 5,
   "metadata": {},
   "outputs": [
    {
     "data": {
      "text/plain": [
       "3"
      ]
     },
     "execution_count": 5,
     "metadata": {},
     "output_type": "execute_result"
    }
   ],
   "source": [
    "len({1, 2, 3})"
   ]
  },
  {
   "cell_type": "code",
   "execution_count": 6,
   "metadata": {},
   "outputs": [
    {
     "data": {
      "text/plain": [
       "True"
      ]
     },
     "execution_count": 6,
     "metadata": {},
     "output_type": "execute_result"
    }
   ],
   "source": [
    "1 in {1, 2, 3}"
   ]
  },
  {
   "cell_type": "code",
   "execution_count": 7,
   "metadata": {},
   "outputs": [
    {
     "data": {
      "text/plain": [
       "False"
      ]
     },
     "execution_count": 7,
     "metadata": {},
     "output_type": "execute_result"
    }
   ],
   "source": [
    "1 not in {1, 2, 3}"
   ]
  },
  {
   "cell_type": "code",
   "execution_count": 8,
   "metadata": {},
   "outputs": [
    {
     "data": {
      "text/plain": [
       "{1, 2, 5, 6}"
      ]
     },
     "execution_count": 8,
     "metadata": {},
     "output_type": "execute_result"
    }
   ],
   "source": [
    "{1,2,3,4,5,6} - {3,4}"
   ]
  },
  {
   "cell_type": "code",
   "execution_count": 10,
   "metadata": {},
   "outputs": [
    {
     "data": {
      "text/plain": [
       "{3, 4}"
      ]
     },
     "execution_count": 10,
     "metadata": {},
     "output_type": "execute_result"
    }
   ],
   "source": [
    "{1,2,3,4,5,6} & {3,4}"
   ]
  },
  {
   "cell_type": "code",
   "execution_count": 11,
   "metadata": {},
   "outputs": [
    {
     "data": {
      "text/plain": [
       "{1, 2, 3, 4, 5, 6, 7, 13}"
      ]
     },
     "execution_count": 11,
     "metadata": {},
     "output_type": "execute_result"
    }
   ],
   "source": [
    "{1,2,3,4,5,6} | {13,4,7}"
   ]
  },
  {
   "cell_type": "markdown",
   "metadata": {},
   "source": [
    ">注:{}不能表示空集合，其类型为:dict,  使用set()表示空集合才是正确的   "
   ]
  },
  {
   "cell_type": "code",
   "execution_count": 12,
   "metadata": {},
   "outputs": [
    {
     "data": {
      "text/plain": [
       "dict"
      ]
     },
     "execution_count": 12,
     "metadata": {},
     "output_type": "execute_result"
    }
   ],
   "source": [
    "type({})"
   ]
  },
  {
   "cell_type": "code",
   "execution_count": 13,
   "metadata": {},
   "outputs": [
    {
     "data": {
      "text/plain": [
       "set"
      ]
     },
     "execution_count": 13,
     "metadata": {},
     "output_type": "execute_result"
    }
   ],
   "source": [
    "type(set())"
   ]
  },
  {
   "cell_type": "code",
   "execution_count": 15,
   "metadata": {},
   "outputs": [
    {
     "data": {
      "text/plain": [
       "0"
      ]
     },
     "execution_count": 15,
     "metadata": {},
     "output_type": "execute_result"
    }
   ],
   "source": [
    "len(set())"
   ]
  },
  {
   "cell_type": "markdown",
   "metadata": {},
   "source": [
    "### dict 字典"
   ]
  },
  {
   "cell_type": "markdown",
   "metadata": {},
   "source": [
    "字典：dict    \n",
    "字典是由key和value组成，每个字典是由无数个key和vlue组成的，是无序的，并不是序列与set相似   \n",
    "key：关键字    \n",
    "value：关键字代表的相应的数据值    \n",
    "字典操作：通过key找到value相应的数据值   \n",
    "字典定义：{key1:value1,key2:value2} {'Q': '新月打击', 'W': '苍白之瀑', 'E': '月之降临', 'R': '月神冲刺'}这就是一个完整的字典但是字典是无序的不能通过[0]来索引    \n",
    "特点：\n",
    "字典中不能有重复的key   \n",
    "key也可以为数字或字符串   \n",
    "但key必须是不可变类型如int str\n",
    "value可以选python中的任意一种数据类型str int float set dict"
   ]
  },
  {
   "cell_type": "code",
   "execution_count": 16,
   "metadata": {},
   "outputs": [
    {
     "data": {
      "text/plain": [
       "dict"
      ]
     },
     "execution_count": 16,
     "metadata": {},
     "output_type": "execute_result"
    }
   ],
   "source": [
    "type({'Q': '新月打击', 'W': '苍白之瀑', 'E': '月之降临', 'R': '月神冲刺'})"
   ]
  },
  {
   "cell_type": "markdown",
   "metadata": {},
   "source": [
    "字典不是序列，元素没有下标，类似集合"
   ]
  },
  {
   "cell_type": "code",
   "execution_count": 18,
   "metadata": {
    "scrolled": true
   },
   "outputs": [
    {
     "ename": "KeyError",
     "evalue": "0",
     "output_type": "error",
     "traceback": [
      "\u001b[1;31m---------------------------------------------------------------------------\u001b[0m",
      "\u001b[1;31mKeyError\u001b[0m                                  Traceback (most recent call last)",
      "\u001b[1;32m<ipython-input-18-bcf97419e273>\u001b[0m in \u001b[0;36m<module>\u001b[1;34m\u001b[0m\n\u001b[1;32m----> 1\u001b[1;33m \u001b[1;33m{\u001b[0m\u001b[1;34m'Q'\u001b[0m\u001b[1;33m:\u001b[0m \u001b[1;34m'新月打击'\u001b[0m\u001b[1;33m,\u001b[0m \u001b[1;34m'W'\u001b[0m\u001b[1;33m:\u001b[0m \u001b[1;34m'苍白之瀑'\u001b[0m\u001b[1;33m,\u001b[0m \u001b[1;34m'E'\u001b[0m\u001b[1;33m:\u001b[0m \u001b[1;34m'月之降临'\u001b[0m\u001b[1;33m,\u001b[0m \u001b[1;34m'R'\u001b[0m\u001b[1;33m:\u001b[0m \u001b[1;34m'月神冲刺'\u001b[0m\u001b[1;33m}\u001b[0m\u001b[1;33m[\u001b[0m\u001b[1;36m0\u001b[0m\u001b[1;33m]\u001b[0m\u001b[1;33m\u001b[0m\u001b[1;33m\u001b[0m\u001b[0m\n\u001b[0m",
      "\u001b[1;31mKeyError\u001b[0m: 0"
     ]
    }
   ],
   "source": [
    " {'Q': '新月打击', 'W': '苍白之瀑', 'E': '月之降临', 'R': '月神冲刺'}[0]"
   ]
  },
  {
   "cell_type": "markdown",
   "metadata": {},
   "source": [
    "访问方式"
   ]
  },
  {
   "cell_type": "code",
   "execution_count": 20,
   "metadata": {},
   "outputs": [
    {
     "data": {
      "text/plain": [
       "'新月打击'"
      ]
     },
     "execution_count": 20,
     "metadata": {},
     "output_type": "execute_result"
    }
   ],
   "source": [
    "{'Q': '新月打击', 'W': '苍白之瀑', 'E': '月之降临', 'R': '月神冲刺'}['Q']"
   ]
  },
  {
   "cell_type": "markdown",
   "metadata": {},
   "source": [
    ">字典中不能有相同的键"
   ]
  },
  {
   "cell_type": "code",
   "execution_count": 22,
   "metadata": {},
   "outputs": [
    {
     "data": {
      "text/plain": [
       "'苍白之瀑'"
      ]
     },
     "execution_count": 22,
     "metadata": {},
     "output_type": "execute_result"
    }
   ],
   "source": [
    "{'Q': '新月打击', 'Q': '苍白之瀑', 'E': '月之降临', 'R': '月神冲刺'}['Q']"
   ]
  },
  {
   "cell_type": "code",
   "execution_count": 24,
   "metadata": {},
   "outputs": [
    {
     "data": {
      "text/plain": [
       "{'Q': '苍白之瀑', 'E': '月之降临', 'R': '月神冲刺'}"
      ]
     },
     "execution_count": 24,
     "metadata": {},
     "output_type": "execute_result"
    }
   ],
   "source": [
    "{'Q': '新月打击', 'Q': '苍白之瀑', 'E': '月之降临', 'R': '月神冲刺'}"
   ]
  },
  {
   "cell_type": "code",
   "execution_count": 25,
   "metadata": {},
   "outputs": [
    {
     "data": {
      "text/plain": [
       "{1: '新月打击', '1': '苍白之瀑', 'E': '月之降临', 'R': '月神冲刺'}"
      ]
     },
     "execution_count": 25,
     "metadata": {},
     "output_type": "execute_result"
    }
   ],
   "source": [
    "{1: '新月打击', '1': '苍白之瀑', 'E': '月之降临', 'R': '月神冲刺'}"
   ]
  },
  {
   "cell_type": "markdown",
   "metadata": {},
   "source": [
    "键不一定非得是字符串，也可以是数字，上面数字1和字符串1就不是一个相同的key"
   ]
  },
  {
   "cell_type": "code",
   "execution_count": 26,
   "metadata": {},
   "outputs": [
    {
     "data": {
      "text/plain": [
       "'新月打击'"
      ]
     },
     "execution_count": 26,
     "metadata": {},
     "output_type": "execute_result"
    }
   ],
   "source": [
    "{1: '新月打击', '1': '苍白之瀑', 'E': '月之降临', 'R': '月神冲刺'}[1]"
   ]
  },
  {
   "cell_type": "code",
   "execution_count": 27,
   "metadata": {},
   "outputs": [
    {
     "data": {
      "text/plain": [
       "'苍白之瀑'"
      ]
     },
     "execution_count": 27,
     "metadata": {},
     "output_type": "execute_result"
    }
   ],
   "source": [
    "{1: '新月打击', '1': '苍白之瀑', 'E': '月之降临', 'R': '月神冲刺'}['1']"
   ]
  },
  {
   "cell_type": "code",
   "execution_count": 29,
   "metadata": {},
   "outputs": [
    {
     "data": {
      "text/plain": [
       "str"
      ]
     },
     "execution_count": 29,
     "metadata": {},
     "output_type": "execute_result"
    }
   ],
   "source": [
    "type({1: '新月打击', '1': '苍白之瀑', 'E': '{1:1}', 'R': '月神冲刺'}['1'])"
   ]
  },
  {
   "cell_type": "markdown",
   "metadata": {},
   "source": [
    "列表可变，元组不可变，key必须是不可变的类型"
   ]
  },
  {
   "cell_type": "code",
   "execution_count": 31,
   "metadata": {},
   "outputs": [
    {
     "ename": "TypeError",
     "evalue": "unhashable type: 'list'",
     "output_type": "error",
     "traceback": [
      "\u001b[1;31m---------------------------------------------------------------------------\u001b[0m",
      "\u001b[1;31mTypeError\u001b[0m                                 Traceback (most recent call last)",
      "\u001b[1;32m<ipython-input-31-76e18faaaa4c>\u001b[0m in \u001b[0;36m<module>\u001b[1;34m\u001b[0m\n\u001b[1;32m----> 1\u001b[1;33m \u001b[1;33m{\u001b[0m\u001b[1;33m[\u001b[0m\u001b[1;36m1.2\u001b[0m\u001b[1;33m]\u001b[0m\u001b[1;33m:\u001b[0m \u001b[1;34m'新月打击'\u001b[0m\u001b[1;33m,\u001b[0m \u001b[1;34m'W'\u001b[0m\u001b[1;33m:\u001b[0m \u001b[1;34m'苍白之瀑'\u001b[0m\u001b[1;33m,\u001b[0m \u001b[1;34m'E'\u001b[0m\u001b[1;33m:\u001b[0m \u001b[1;34m'月之降临'\u001b[0m\u001b[1;33m,\u001b[0m \u001b[1;34m'R'\u001b[0m\u001b[1;33m:\u001b[0m \u001b[1;34m'月神冲刺'\u001b[0m\u001b[1;33m}\u001b[0m\u001b[1;33m\u001b[0m\u001b[1;33m\u001b[0m\u001b[0m\n\u001b[0m",
      "\u001b[1;31mTypeError\u001b[0m: unhashable type: 'list'"
     ]
    }
   ],
   "source": [
    "{[1.2]: '新月打击', 'W': '苍白之瀑', 'E': '月之降临', 'R': '月神冲刺'}"
   ]
  },
  {
   "cell_type": "code",
   "execution_count": 33,
   "metadata": {},
   "outputs": [
    {
     "data": {
      "text/plain": [
       "{1.2: '新月打击', 'W': '苍白之瀑', 'E': '月之降临', 'R': '月神冲刺'}"
      ]
     },
     "execution_count": 33,
     "metadata": {},
     "output_type": "execute_result"
    }
   ],
   "source": [
    "{(1.2): '新月打击', 'W': '苍白之瀑', 'E': '月之降临', 'R': '月神冲刺'}"
   ]
  },
  {
   "cell_type": "markdown",
   "metadata": {},
   "source": [
    "空的字典如何表示"
   ]
  },
  {
   "cell_type": "code",
   "execution_count": 35,
   "metadata": {},
   "outputs": [
    {
     "data": {
      "text/plain": [
       "dict"
      ]
     },
     "execution_count": 35,
     "metadata": {},
     "output_type": "execute_result"
    }
   ],
   "source": [
    "type({})"
   ]
  },
  {
   "cell_type": "markdown",
   "metadata": {},
   "source": [
    "### 思维导图总结基本数据类型"
   ]
  },
  {
   "cell_type": "markdown",
   "metadata": {},
   "source": [
    "![](https://images.weserv.nl/?url=https://i0.hdslb.com/bfs/article/a594526b9d1614f38699f5a6c1f0357609ffd11d.png)"
   ]
  },
  {
   "cell_type": "markdown",
   "metadata": {},
   "source": [
    "字符串元组不可变，列表可变"
   ]
  },
  {
   "cell_type": "markdown",
   "metadata": {},
   "source": [
    "## 第五章 变量与运算符"
   ]
  },
  {
   "cell_type": "markdown",
   "metadata": {},
   "source": [
    "### 变量赋值"
   ]
  },
  {
   "cell_type": "code",
   "execution_count": 9,
   "metadata": {},
   "outputs": [
    {
     "data": {
      "text/plain": [
       "[1, 2, 3, 4, 5, 6, 1, 2, 3, 4, 5, 6, 1, 2, 3, 4, 5, 6, 1, 2, 3]"
      ]
     },
     "execution_count": 9,
     "metadata": {},
     "output_type": "execute_result"
    }
   ],
   "source": [
    "[1,2,3,4,5,6] * 3 + [1,2,3]"
   ]
  },
  {
   "cell_type": "code",
   "execution_count": 15,
   "metadata": {},
   "outputs": [
    {
     "name": "stdout",
     "output_type": "stream",
     "text": [
      "[1, 2, 3, 4, 5, 6]\n"
     ]
    }
   ],
   "source": [
    "A = [1,2,3,4,5,6];"
   ]
  },
  {
   "cell_type": "code",
   "execution_count": 18,
   "metadata": {},
   "outputs": [
    {
     "name": "stdout",
     "output_type": "stream",
     "text": [
      "[1, 2, 3, 4, 5, 6]\n"
     ]
    }
   ],
   "source": [
    "print(A)"
   ]
  },
  {
   "cell_type": "markdown",
   "metadata": {},
   "source": [
    "### 变量命名规则"
   ]
  },
  {
   "cell_type": "markdown",
   "metadata": {},
   "source": [
    "字母、数字、下划线组成\n",
    "变量首字符不能是数字    \n",
    "系统关键字不能用作变量名\n",
    "区分大小写"
   ]
  },
  {
   "cell_type": "code",
   "execution_count": 19,
   "metadata": {
    "scrolled": true
   },
   "outputs": [
    {
     "ename": "SyntaxError",
     "evalue": "invalid syntax (<ipython-input-19-971ad3f6197a>, line 1)",
     "output_type": "error",
     "traceback": [
      "\u001b[1;36m  File \u001b[1;32m\"<ipython-input-19-971ad3f6197a>\"\u001b[1;36m, line \u001b[1;32m1\u001b[0m\n\u001b[1;33m    1a = 2\u001b[0m\n\u001b[1;37m     ^\u001b[0m\n\u001b[1;31mSyntaxError\u001b[0m\u001b[1;31m:\u001b[0m invalid syntax\n"
     ]
    }
   ],
   "source": [
    "1a = 2"
   ]
  },
  {
   "cell_type": "markdown",
   "metadata": {},
   "source": [
    "与其他语言不同，python的变量不区分类型，可以将字符串赋值给变量，也可以将一个整形赋值给变量，所以python不需要定义变量，只需要给变量赋值"
   ]
  },
  {
   "cell_type": "code",
   "execution_count": 1,
   "metadata": {},
   "outputs": [],
   "source": [
    "a=1\n",
    "a='1'\n",
    "a=(1,2,3)\n",
    "a=[1,2,3]"
   ]
  },
  {
   "cell_type": "code",
   "execution_count": 22,
   "metadata": {},
   "outputs": [
    {
     "name": "stdout",
     "output_type": "stream",
     "text": [
      "1\n"
     ]
    }
   ],
   "source": [
    "a=1;\n",
    "b=a;\n",
    "a=3;\n",
    "print(b)"
   ]
  },
  {
   "cell_type": "code",
   "execution_count": 25,
   "metadata": {},
   "outputs": [
    {
     "name": "stdout",
     "output_type": "stream",
     "text": [
      "['1', 2, 3, 4, 5]\n",
      "['1', 2, 3, 4, 5]\n"
     ]
    }
   ],
   "source": [
    "a=[1,2,3,4,5]\n",
    "b=a\n",
    "a[0] = '1'\n",
    "print(a)\n",
    "print(b)"
   ]
  },
  {
   "cell_type": "markdown",
   "metadata": {},
   "source": [
    "出现上述代码问题原因：\n",
    "int 值类型\n",
    "list 引用类型"
   ]
  },
  {
   "cell_type": "markdown",
   "metadata": {},
   "source": [
    "### 值类型与引用类型"
   ]
  },
  {
   "cell_type": "markdown",
   "metadata": {},
   "source": [
    "int str tuple（不可改变） 值类型   \n",
    "list set dict （可改变）  引用类型\n",
    "\n"
   ]
  },
  {
   "cell_type": "code",
   "execution_count": 26,
   "metadata": {},
   "outputs": [
    {
     "name": "stdout",
     "output_type": "stream",
     "text": [
      "hello python\n"
     ]
    }
   ],
   "source": [
    "a = 'hello'\n",
    "a = a + ' python'\n",
    "print(a)"
   ]
  },
  {
   "cell_type": "markdown",
   "metadata": {},
   "source": [
    "没有出现报错  是因为字符串a与python想加得到了一个新的字符串，并没有改变   \n",
    "可以使用id函数确定\n",
    "id()  显示变量在内存中的地址 一般用十六进制表示hex(id())"
   ]
  },
  {
   "cell_type": "code",
   "execution_count": 27,
   "metadata": {},
   "outputs": [
    {
     "data": {
      "text/plain": [
       "2017642563376"
      ]
     },
     "execution_count": 27,
     "metadata": {},
     "output_type": "execute_result"
    }
   ],
   "source": [
    "id(a)"
   ]
  },
  {
   "cell_type": "code",
   "execution_count": 28,
   "metadata": {},
   "outputs": [
    {
     "name": "stdout",
     "output_type": "stream",
     "text": [
      "hello pythonhello python\n"
     ]
    }
   ],
   "source": [
    "a=a+a\n",
    "print(a)"
   ]
  },
  {
   "cell_type": "code",
   "execution_count": 29,
   "metadata": {},
   "outputs": [
    {
     "data": {
      "text/plain": [
       "2017642583904"
      ]
     },
     "execution_count": 29,
     "metadata": {},
     "output_type": "execute_result"
    }
   ],
   "source": [
    "id(a)"
   ]
  },
  {
   "cell_type": "code",
   "execution_count": 30,
   "metadata": {},
   "outputs": [
    {
     "data": {
      "text/plain": [
       "'h'"
      ]
     },
     "execution_count": 30,
     "metadata": {},
     "output_type": "execute_result"
    }
   ],
   "source": [
    "a[0]"
   ]
  },
  {
   "cell_type": "code",
   "execution_count": 31,
   "metadata": {},
   "outputs": [
    {
     "ename": "TypeError",
     "evalue": "'str' object does not support item assignment",
     "output_type": "error",
     "traceback": [
      "\u001b[1;31m---------------------------------------------------------------------------\u001b[0m",
      "\u001b[1;31mTypeError\u001b[0m                                 Traceback (most recent call last)",
      "\u001b[1;32m<ipython-input-31-a36630583149>\u001b[0m in \u001b[0;36m<module>\u001b[1;34m\u001b[0m\n\u001b[1;32m----> 1\u001b[1;33m \u001b[0ma\u001b[0m\u001b[1;33m[\u001b[0m\u001b[1;36m0\u001b[0m\u001b[1;33m]\u001b[0m \u001b[1;33m=\u001b[0m \u001b[1;34m'o'\u001b[0m\u001b[1;33m\u001b[0m\u001b[1;33m\u001b[0m\u001b[0m\n\u001b[0m",
      "\u001b[1;31mTypeError\u001b[0m: 'str' object does not support item assignment"
     ]
    }
   ],
   "source": [
    "a[0] = 'o'"
   ]
  },
  {
   "cell_type": "markdown",
   "metadata": {},
   "source": [
    "### 列表的可变与元组的不可变"
   ]
  },
  {
   "cell_type": "code",
   "execution_count": 37,
   "metadata": {},
   "outputs": [
    {
     "data": {
      "text/plain": [
       "2017642219464"
      ]
     },
     "execution_count": 37,
     "metadata": {},
     "output_type": "execute_result"
    }
   ],
   "source": [
    "a = [1,2,3];\n",
    "id(a)"
   ]
  },
  {
   "cell_type": "code",
   "execution_count": 38,
   "metadata": {},
   "outputs": [
    {
     "data": {
      "text/plain": [
       "'0x1d5c4d907c8'"
      ]
     },
     "execution_count": 38,
     "metadata": {},
     "output_type": "execute_result"
    }
   ],
   "source": [
    "hex(id(a))"
   ]
  },
  {
   "cell_type": "code",
   "execution_count": 44,
   "metadata": {},
   "outputs": [
    {
     "name": "stdout",
     "output_type": "stream",
     "text": [
      "[11, 2, 3]\n"
     ]
    },
    {
     "data": {
      "text/plain": [
       "2017642219464"
      ]
     },
     "execution_count": 44,
     "metadata": {},
     "output_type": "execute_result"
    }
   ],
   "source": [
    "a[0] = 11\n",
    "print(a)\n",
    "id(a)"
   ]
  },
  {
   "cell_type": "code",
   "execution_count": 45,
   "metadata": {},
   "outputs": [],
   "source": [
    "a = (1,2,3)"
   ]
  },
  {
   "cell_type": "code",
   "execution_count": 46,
   "metadata": {},
   "outputs": [
    {
     "ename": "TypeError",
     "evalue": "'tuple' object does not support item assignment",
     "output_type": "error",
     "traceback": [
      "\u001b[1;31m---------------------------------------------------------------------------\u001b[0m",
      "\u001b[1;31mTypeError\u001b[0m                                 Traceback (most recent call last)",
      "\u001b[1;32m<ipython-input-46-c8548dbc0a7e>\u001b[0m in \u001b[0;36m<module>\u001b[1;34m\u001b[0m\n\u001b[1;32m----> 1\u001b[1;33m \u001b[0ma\u001b[0m\u001b[1;33m[\u001b[0m\u001b[1;36m0\u001b[0m\u001b[1;33m]\u001b[0m \u001b[1;33m=\u001b[0m \u001b[1;36m1\u001b[0m\u001b[1;33m\u001b[0m\u001b[1;33m\u001b[0m\u001b[0m\n\u001b[0m",
      "\u001b[1;31mTypeError\u001b[0m: 'tuple' object does not support item assignment"
     ]
    }
   ],
   "source": [
    "a[0] = 1"
   ]
  },
  {
   "cell_type": "markdown",
   "metadata": {},
   "source": [
    "追加元素"
   ]
  },
  {
   "cell_type": "code",
   "execution_count": 48,
   "metadata": {},
   "outputs": [],
   "source": [
    "b = [1,2,3]"
   ]
  },
  {
   "cell_type": "code",
   "execution_count": 49,
   "metadata": {},
   "outputs": [
    {
     "name": "stdout",
     "output_type": "stream",
     "text": [
      "[1, 2, 3, 4]\n"
     ]
    }
   ],
   "source": [
    "b.append(4)\n",
    "print(b)"
   ]
  },
  {
   "cell_type": "code",
   "execution_count": 50,
   "metadata": {},
   "outputs": [],
   "source": [
    "c = (1,2,3)"
   ]
  },
  {
   "cell_type": "code",
   "execution_count": 51,
   "metadata": {},
   "outputs": [
    {
     "ename": "AttributeError",
     "evalue": "'tuple' object has no attribute 'append'",
     "output_type": "error",
     "traceback": [
      "\u001b[1;31m---------------------------------------------------------------------------\u001b[0m",
      "\u001b[1;31mAttributeError\u001b[0m                            Traceback (most recent call last)",
      "\u001b[1;32m<ipython-input-51-f1ce1e829ae5>\u001b[0m in \u001b[0;36m<module>\u001b[1;34m\u001b[0m\n\u001b[1;32m----> 1\u001b[1;33m \u001b[0mc\u001b[0m\u001b[1;33m.\u001b[0m\u001b[0mappend\u001b[0m\u001b[1;33m(\u001b[0m\u001b[1;36m4\u001b[0m\u001b[1;33m)\u001b[0m\u001b[1;33m\u001b[0m\u001b[1;33m\u001b[0m\u001b[0m\n\u001b[0m",
      "\u001b[1;31mAttributeError\u001b[0m: 'tuple' object has no attribute 'append'"
     ]
    }
   ],
   "source": [
    "c.append(4)"
   ]
  },
  {
   "cell_type": "code",
   "execution_count": 3,
   "metadata": {},
   "outputs": [],
   "source": [
    "a=(1,2,3,[1,2,4])"
   ]
  },
  {
   "cell_type": "code",
   "execution_count": 4,
   "metadata": {},
   "outputs": [
    {
     "data": {
      "text/plain": [
       "[1, 2, 4]"
      ]
     },
     "execution_count": 4,
     "metadata": {},
     "output_type": "execute_result"
    }
   ],
   "source": [
    "a[3]"
   ]
  },
  {
   "cell_type": "code",
   "execution_count": 5,
   "metadata": {},
   "outputs": [
    {
     "data": {
      "text/plain": [
       "4"
      ]
     },
     "execution_count": 5,
     "metadata": {},
     "output_type": "execute_result"
    }
   ],
   "source": [
    "a[3][2]"
   ]
  },
  {
   "cell_type": "code",
   "execution_count": 6,
   "metadata": {},
   "outputs": [
    {
     "name": "stdout",
     "output_type": "stream",
     "text": [
      "(1, 2, 3, [1, 2, 3])\n"
     ]
    }
   ],
   "source": [
    "a[3][2] = 3\n",
    "print(a)"
   ]
  },
  {
   "cell_type": "markdown",
   "metadata": {},
   "source": [
    "### 运算符"
   ]
  },
  {
   "cell_type": "markdown",
   "metadata": {},
   "source": [
    "#### 算数运算符"
   ]
  },
  {
   "cell_type": "code",
   "execution_count": 1,
   "metadata": {},
   "outputs": [
    {
     "data": {
      "text/html": [
       "<style> \n",
       "table {float:left} \n",
       "</style> \n"
      ],
      "text/plain": [
       "<IPython.core.display.HTML object>"
      ]
     },
     "metadata": {},
     "output_type": "display_data"
    }
   ],
   "source": [
    "%%html \n",
    "<style> \n",
    "table {float:left} \n",
    "</style> "
   ]
  },
  {
   "cell_type": "markdown",
   "metadata": {},
   "source": [
    "|运算符|含义|\n",
    "|:-:|:-:|\n",
    "|+  | 加  |\n",
    "|-  | 减  |\n",
    "|*  | 乘  |\n",
    "|/  | 除  |\n",
    "|// | 整除|\n",
    "|%  | 取余|\n",
    "|**2| 平方|\n",
    "|**3| 立方|"
   ]
  },
  {
   "cell_type": "markdown",
   "metadata": {},
   "source": [
    "[负数整除取余运算、py向下取整](https://blog.csdn.net/Hulksdnu/article/details/19507483)\n",
    "\n",
    "print(-123%10)   # 输出 7   \n",
    " \n",
    "print(-123%-10)  # 输出 -3   \n",
    "这里面第二条是我们一般意义上的取余操作。这里也特别标注一下，如果涉及到负数取余要用上述解决办法。   \n",
    "\n",
    "那么我们看第一条，结果等于7。这个结果有点让人摸不到头脑，不过这个结果与Python的底层机制有关。   \n",
    "\n",
    "在Python中，取余的计算公式与别的语言并没有什么区别：r=a-n*[a//n]   \n",
    "   \n",
    "这里r是余数，a是被除数，n是除数。   \n",
    "\n",
    "不过在“a//n”这一步，当a是负数的时候，我们上面说了，会向下取整，也就是说向负无穷方向取整。这也就得到：   \n",
    "\n",
    "-123%10 = -123 - 10 * (-123 // 10) = -123 - 10 * (-13) = 7   \n",
    "这里还不得不提的是   \n",
    "\n",
    "print(123%-10)   \n",
    "这个情况，结果为：   \n",
    "\n",
    "-7   \n"
   ]
  },
  {
   "cell_type": "code",
   "execution_count": 61,
   "metadata": {},
   "outputs": [
    {
     "data": {
      "text/plain": [
       "'hello world'"
      ]
     },
     "execution_count": 61,
     "metadata": {},
     "output_type": "execute_result"
    }
   ],
   "source": [
    "'hello' + ' world'"
   ]
  },
  {
   "cell_type": "code",
   "execution_count": 62,
   "metadata": {},
   "outputs": [
    {
     "data": {
      "text/plain": [
       "4"
      ]
     },
     "execution_count": 62,
     "metadata": {},
     "output_type": "execute_result"
    }
   ],
   "source": [
    "2**2"
   ]
  },
  {
   "cell_type": "code",
   "execution_count": 63,
   "metadata": {},
   "outputs": [
    {
     "data": {
      "text/plain": [
       "8"
      ]
     },
     "execution_count": 63,
     "metadata": {},
     "output_type": "execute_result"
    }
   ],
   "source": [
    "2**3"
   ]
  },
  {
   "cell_type": "markdown",
   "metadata": {},
   "source": [
    "#### 赋值运算符"
   ]
  },
  {
   "cell_type": "markdown",
   "metadata": {},
   "source": [
    "|运算符|含义|\n",
    "|:-:|:-:|\n",
    "|=||\n",
    "|+=||\n",
    "|\\*=||\n",
    "|/=||\n",
    "|%=||\n",
    "|**=||\n",
    "|//=||\n"
   ]
  },
  {
   "cell_type": "code",
   "execution_count": 70,
   "metadata": {},
   "outputs": [
    {
     "name": "stdout",
     "output_type": "stream",
     "text": [
      "2\n"
     ]
    }
   ],
   "source": [
    "c=1\n",
    "c+=1\n",
    "print(c)"
   ]
  },
  {
   "cell_type": "markdown",
   "metadata": {},
   "source": [
    "#### 比较（关系）运算符"
   ]
  },
  {
   "cell_type": "markdown",
   "metadata": {},
   "source": [
    "|运算符|含义|\n",
    "|:-:|:-:|\n",
    "|==|是否相等|\n",
    "|!=|不等于|\n",
    "|>|大于|\n",
    "|<|小于|\n",
    "|>=|大于等于|\n",
    "|<=|小于等于|\n",
    "||结果返回布尔值|"
   ]
  },
  {
   "cell_type": "code",
   "execution_count": 71,
   "metadata": {},
   "outputs": [
    {
     "data": {
      "text/plain": [
       "True"
      ]
     },
     "execution_count": 71,
     "metadata": {},
     "output_type": "execute_result"
    }
   ],
   "source": [
    "1 ==1 "
   ]
  },
  {
   "cell_type": "code",
   "execution_count": 72,
   "metadata": {},
   "outputs": [
    {
     "data": {
      "text/plain": [
       "True"
      ]
     },
     "execution_count": 72,
     "metadata": {},
     "output_type": "execute_result"
    }
   ],
   "source": [
    "1 >= 1"
   ]
  },
  {
   "cell_type": "code",
   "execution_count": 85,
   "metadata": {},
   "outputs": [
    {
     "name": "stdout",
     "output_type": "stream",
     "text": [
      "2\n"
     ]
    }
   ],
   "source": [
    "b=1\n",
    "b+=b>=1\n",
    "print(b)"
   ]
  },
  {
   "cell_type": "markdown",
   "metadata": {},
   "source": [
    "b=b+(b>=1)   \n",
    "b=b+True\n",
    "b=b+1"
   ]
  },
  {
   "cell_type": "code",
   "execution_count": 87,
   "metadata": {},
   "outputs": [
    {
     "data": {
      "text/plain": [
       "1"
      ]
     },
     "execution_count": 87,
     "metadata": {},
     "output_type": "execute_result"
    }
   ],
   "source": [
    "int(True)"
   ]
  },
  {
   "cell_type": "code",
   "execution_count": 89,
   "metadata": {},
   "outputs": [
    {
     "name": "stdout",
     "output_type": "stream",
     "text": [
      "3\n"
     ]
    }
   ],
   "source": [
    "b=2\n",
    "b=b+True\n",
    "print(b)"
   ]
  },
  {
   "cell_type": "code",
   "execution_count": 91,
   "metadata": {},
   "outputs": [
    {
     "data": {
      "text/plain": [
       "False"
      ]
     },
     "execution_count": 91,
     "metadata": {},
     "output_type": "execute_result"
    }
   ],
   "source": [
    "'a' > 'b'"
   ]
  },
  {
   "cell_type": "code",
   "execution_count": 93,
   "metadata": {},
   "outputs": [
    {
     "data": {
      "text/plain": [
       "97"
      ]
     },
     "execution_count": 93,
     "metadata": {},
     "output_type": "execute_result"
    }
   ],
   "source": [
    "ord('a')"
   ]
  },
  {
   "cell_type": "code",
   "execution_count": 94,
   "metadata": {},
   "outputs": [
    {
     "data": {
      "text/plain": [
       "98"
      ]
     },
     "execution_count": 94,
     "metadata": {},
     "output_type": "execute_result"
    }
   ],
   "source": [
    "ord('b')"
   ]
  },
  {
   "cell_type": "markdown",
   "metadata": {},
   "source": [
    "比较的是ascii码"
   ]
  },
  {
   "cell_type": "markdown",
   "metadata": {},
   "source": [
    "#### 逻辑运算符"
   ]
  },
  {
   "cell_type": "markdown",
   "metadata": {},
   "source": [
    "|运算符|含义|\n",
    "|:-:|:-:|\n",
    "|and|与|\n",
    "|or|或|\n",
    "|not|非|"
   ]
  },
  {
   "cell_type": "code",
   "execution_count": 96,
   "metadata": {},
   "outputs": [
    {
     "data": {
      "text/plain": [
       "'b'"
      ]
     },
     "execution_count": 96,
     "metadata": {},
     "output_type": "execute_result"
    }
   ],
   "source": [
    "'a' and 'b'"
   ]
  },
  {
   "cell_type": "markdown",
   "metadata": {},
   "source": [
    "'a' and 'b'为什么不是直接输出true而是b？   \n",
    "因为逻辑运算本身就是输出后面一个   \n",
    "例如and是俩个都为真时才为真，当第一个为真时无法判断and的真假，所以要判断第二个，故返回第二个的值。\n",
    "0 and 2 则返回0，因为and第一个可以判断真假，因此返回第一个的值"
   ]
  },
  {
   "cell_type": "code",
   "execution_count": 98,
   "metadata": {},
   "outputs": [
    {
     "data": {
      "text/plain": [
       "'a'"
      ]
     },
     "execution_count": 98,
     "metadata": {},
     "output_type": "execute_result"
    }
   ],
   "source": [
    "'a' or 'b'"
   ]
  },
  {
   "cell_type": "code",
   "execution_count": 99,
   "metadata": {},
   "outputs": [
    {
     "data": {
      "text/plain": [
       "False"
      ]
     },
     "execution_count": 99,
     "metadata": {},
     "output_type": "execute_result"
    }
   ],
   "source": [
    "not 'a'"
   ]
  },
  {
   "cell_type": "markdown",
   "metadata": {},
   "source": [
    "int float 0表示False  非0表示True    \n",
    "str list tuple set dict 空表示为False，非空表示为True"
   ]
  },
  {
   "cell_type": "markdown",
   "metadata": {},
   "source": [
    "#### 成员运算符"
   ]
  },
  {
   "cell_type": "markdown",
   "metadata": {},
   "source": [
    "一个元素是否在另外的一组元素里    \n",
    "返回值是布尔类型"
   ]
  },
  {
   "cell_type": "markdown",
   "metadata": {},
   "source": [
    "|运算符|含义|\n",
    "|:-:|:-:|\n",
    "|in||\n",
    "|not in||"
   ]
  },
  {
   "cell_type": "code",
   "execution_count": 100,
   "metadata": {},
   "outputs": [
    {
     "data": {
      "text/plain": [
       "True"
      ]
     },
     "execution_count": 100,
     "metadata": {},
     "output_type": "execute_result"
    }
   ],
   "source": [
    "a = 1\n",
    "a in [1,2,3,4,5,6]"
   ]
  },
  {
   "cell_type": "code",
   "execution_count": 101,
   "metadata": {},
   "outputs": [
    {
     "data": {
      "text/plain": [
       "False"
      ]
     },
     "execution_count": 101,
     "metadata": {},
     "output_type": "execute_result"
    }
   ],
   "source": [
    "b = 6\n",
    "b in [1,2,3,4,5]"
   ]
  },
  {
   "cell_type": "code",
   "execution_count": 102,
   "metadata": {},
   "outputs": [
    {
     "data": {
      "text/plain": [
       "False"
      ]
     },
     "execution_count": 102,
     "metadata": {},
     "output_type": "execute_result"
    }
   ],
   "source": [
    "b = 'a'\n",
    "b in {'c':1}"
   ]
  },
  {
   "cell_type": "code",
   "execution_count": 103,
   "metadata": {},
   "outputs": [
    {
     "data": {
      "text/plain": [
       "False"
      ]
     },
     "execution_count": 103,
     "metadata": {},
     "output_type": "execute_result"
    }
   ],
   "source": [
    "b = 1\n",
    "b in {'c':1}"
   ]
  },
  {
   "cell_type": "code",
   "execution_count": 104,
   "metadata": {},
   "outputs": [
    {
     "data": {
      "text/plain": [
       "True"
      ]
     },
     "execution_count": 104,
     "metadata": {},
     "output_type": "execute_result"
    }
   ],
   "source": [
    "b = 'c'\n",
    "b in {'c':1}"
   ]
  },
  {
   "cell_type": "markdown",
   "metadata": {},
   "source": [
    "**字典的成员运算是根据key来进行的**"
   ]
  },
  {
   "cell_type": "markdown",
   "metadata": {},
   "source": [
    "#### 身份运算符"
   ]
  },
  {
   "cell_type": "markdown",
   "metadata": {},
   "source": [
    "|运算符|含义|\n",
    "|:-:|:-:|\n",
    "|is||\n",
    "|is not||"
   ]
  },
  {
   "cell_type": "code",
   "execution_count": 105,
   "metadata": {},
   "outputs": [
    {
     "data": {
      "text/plain": [
       "False"
      ]
     },
     "execution_count": 105,
     "metadata": {},
     "output_type": "execute_result"
    }
   ],
   "source": [
    "a = 1\n",
    "b = 2\n",
    "a == b"
   ]
  },
  {
   "cell_type": "code",
   "execution_count": 106,
   "metadata": {},
   "outputs": [
    {
     "data": {
      "text/plain": [
       "True"
      ]
     },
     "execution_count": 106,
     "metadata": {},
     "output_type": "execute_result"
    }
   ],
   "source": [
    "a = 1\n",
    "b = 1\n",
    "a is b"
   ]
  },
  {
   "cell_type": "code",
   "execution_count": 107,
   "metadata": {},
   "outputs": [
    {
     "data": {
      "text/plain": [
       "True"
      ]
     },
     "execution_count": 107,
     "metadata": {},
     "output_type": "execute_result"
    }
   ],
   "source": [
    "a == b"
   ]
  },
  {
   "cell_type": "code",
   "execution_count": 108,
   "metadata": {},
   "outputs": [
    {
     "data": {
      "text/plain": [
       "True"
      ]
     },
     "execution_count": 108,
     "metadata": {},
     "output_type": "execute_result"
    }
   ],
   "source": [
    "a =1 \n",
    "b= 1.0\n",
    "a == b"
   ]
  },
  {
   "cell_type": "code",
   "execution_count": 109,
   "metadata": {},
   "outputs": [
    {
     "data": {
      "text/plain": [
       "False"
      ]
     },
     "execution_count": 109,
     "metadata": {},
     "output_type": "execute_result"
    }
   ],
   "source": [
    "a is b"
   ]
  },
  {
   "cell_type": "code",
   "execution_count": 111,
   "metadata": {},
   "outputs": [
    {
     "data": {
      "text/plain": [
       "140735731704208"
      ]
     },
     "execution_count": 111,
     "metadata": {},
     "output_type": "execute_result"
    }
   ],
   "source": [
    "id(a)"
   ]
  },
  {
   "cell_type": "code",
   "execution_count": 112,
   "metadata": {},
   "outputs": [
    {
     "data": {
      "text/plain": [
       "2017688507408"
      ]
     },
     "execution_count": 112,
     "metadata": {},
     "output_type": "execute_result"
    }
   ],
   "source": [
    "id(b)"
   ]
  },
  {
   "cell_type": "markdown",
   "metadata": {},
   "source": [
    "**== 比较值是否相等     \n",
    "is 不是比较值相等 比较的是两个变量身份是否相等**"
   ]
  },
  {
   "cell_type": "code",
   "execution_count": 113,
   "metadata": {},
   "outputs": [
    {
     "data": {
      "text/plain": [
       "True"
      ]
     },
     "execution_count": 113,
     "metadata": {},
     "output_type": "execute_result"
    }
   ],
   "source": [
    "a = {1,2,3}\n",
    "b = {2,1,3}\n",
    "a == b"
   ]
  },
  {
   "cell_type": "markdown",
   "metadata": {},
   "source": [
    "集合是无序的"
   ]
  },
  {
   "cell_type": "code",
   "execution_count": 114,
   "metadata": {},
   "outputs": [
    {
     "data": {
      "text/plain": [
       "False"
      ]
     },
     "execution_count": 114,
     "metadata": {},
     "output_type": "execute_result"
    }
   ],
   "source": [
    "a is b"
   ]
  },
  {
   "cell_type": "markdown",
   "metadata": {},
   "source": [
    "比较的是内存地址"
   ]
  },
  {
   "cell_type": "code",
   "execution_count": 115,
   "metadata": {},
   "outputs": [
    {
     "data": {
      "text/plain": [
       "False"
      ]
     },
     "execution_count": 115,
     "metadata": {},
     "output_type": "execute_result"
    }
   ],
   "source": [
    "c = (1,2,3)\n",
    "d = (2,1,3)\n",
    "c == d"
   ]
  },
  {
   "cell_type": "markdown",
   "metadata": {},
   "source": [
    "元组是有序的"
   ]
  },
  {
   "cell_type": "code",
   "execution_count": 116,
   "metadata": {},
   "outputs": [
    {
     "data": {
      "text/plain": [
       "False"
      ]
     },
     "execution_count": 116,
     "metadata": {},
     "output_type": "execute_result"
    }
   ],
   "source": [
    "c is d"
   ]
  },
  {
   "cell_type": "markdown",
   "metadata": {},
   "source": [
    "**类型判断**   "
   ]
  },
  {
   "cell_type": "code",
   "execution_count": 117,
   "metadata": {},
   "outputs": [
    {
     "data": {
      "text/plain": [
       "False"
      ]
     },
     "execution_count": 117,
     "metadata": {},
     "output_type": "execute_result"
    }
   ],
   "source": [
    "a = 'hello'\n",
    "type(a) == int"
   ]
  },
  {
   "cell_type": "code",
   "execution_count": 118,
   "metadata": {},
   "outputs": [
    {
     "data": {
      "text/plain": [
       "True"
      ]
     },
     "execution_count": 118,
     "metadata": {},
     "output_type": "execute_result"
    }
   ],
   "source": [
    "type(a) == str"
   ]
  },
  {
   "cell_type": "markdown",
   "metadata": {},
   "source": [
    "可以用上述方法判断但是不推荐\n",
    "建议用isinstance函数判断"
   ]
  },
  {
   "cell_type": "code",
   "execution_count": 119,
   "metadata": {},
   "outputs": [
    {
     "data": {
      "text/plain": [
       "True"
      ]
     },
     "execution_count": 119,
     "metadata": {},
     "output_type": "execute_result"
    }
   ],
   "source": [
    "isinstance(a,str)"
   ]
  },
  {
   "cell_type": "code",
   "execution_count": 120,
   "metadata": {},
   "outputs": [
    {
     "data": {
      "text/plain": [
       "True"
      ]
     },
     "execution_count": 120,
     "metadata": {},
     "output_type": "execute_result"
    }
   ],
   "source": [
    "isinstance(a,(int,str,float))"
   ]
  },
  {
   "cell_type": "markdown",
   "metadata": {},
   "source": [
    "**对象的三个特征**    \n",
    "id value type     \n",
    "is == instance"
   ]
  },
  {
   "cell_type": "markdown",
   "metadata": {},
   "source": [
    "#### 位运算符"
   ]
  },
  {
   "cell_type": "markdown",
   "metadata": {},
   "source": [
    "|运算符|含义|\n",
    "|:-:|:-:|\n",
    "|&|按位与|\n",
    "|\\||按位或|\n",
    "|^|按位异或|\n",
    "|~|按位取反|\n",
    "|<<|左移动|\n",
    "|>>|右移动|\n",
    "||都是对二进制数进行运算(其他进制会转换成二进制)|"
   ]
  },
  {
   "cell_type": "code",
   "execution_count": 121,
   "metadata": {},
   "outputs": [
    {
     "data": {
      "text/plain": [
       "2"
      ]
     },
     "execution_count": 121,
     "metadata": {},
     "output_type": "execute_result"
    }
   ],
   "source": [
    "a = 2\n",
    "b = 3\n",
    "a & b"
   ]
  },
  {
   "cell_type": "markdown",
   "metadata": {},
   "source": [
    "1 0==>2   \n",
    "1 1==>3  \n",
    "1 0==>按位与"
   ]
  },
  {
   "cell_type": "markdown",
   "metadata": {},
   "source": [
    "## 第六章 分支、循环、条件与枚举"
   ]
  },
  {
   "cell_type": "markdown",
   "metadata": {},
   "source": [
    "### 什么是表达式"
   ]
  },
  {
   "cell_type": "markdown",
   "metadata": {},
   "source": [
    "表达式（Expression）是运算符（operator）和操作数（operand）所构成的序列"
   ]
  },
  {
   "cell_type": "markdown",
   "metadata": {},
   "source": [
    "### 表达式的优先级"
   ]
  },
  {
   "cell_type": "markdown",
   "metadata": {},
   "source": [
    "![](https://images.weserv.nl/?url=https://i0.hdslb.com/bfs/article/d67da57a0963972642217a6dda5b9fba0f33de11.png)"
   ]
  },
  {
   "cell_type": "code",
   "execution_count": 124,
   "metadata": {},
   "outputs": [
    {
     "data": {
      "text/plain": [
       "1"
      ]
     },
     "execution_count": 124,
     "metadata": {},
     "output_type": "execute_result"
    }
   ],
   "source": [
    "a = 1\n",
    "b = 2\n",
    "c = 3\n",
    "a or b and c"
   ]
  },
  {
   "cell_type": "markdown",
   "metadata": {},
   "source": [
    "### 条件控制if"
   ]
  },
  {
   "cell_type": "markdown",
   "metadata": {},
   "source": [
    "单行注释 #   \n",
    "多行注释   \n",
    "'''\n",
    "\n",
    "'''"
   ]
  },
  {
   "cell_type": "markdown",
   "metadata": {},
   "source": [
    "基本格式：   \n",
    "if 判断条件：   \n",
    "&nbsp;&nbsp;&nbsp;&nbsp;执行语句……   \n",
    "else ：   \n",
    "&nbsp;&nbsp;&nbsp;&nbsp;执行语句……   "
   ]
  },
  {
   "cell_type": "code",
   "execution_count": 125,
   "metadata": {},
   "outputs": [
    {
     "name": "stdout",
     "output_type": "stream",
     "text": [
      "go to left\n"
     ]
    }
   ],
   "source": [
    "mood = True\n",
    "if mood :\n",
    "    print('go to left')\n",
    "else :\n",
    "    print('go to right')"
   ]
  },
  {
   "cell_type": "code",
   "execution_count": 3,
   "metadata": {},
   "outputs": [
    {
     "name": "stdout",
     "output_type": "stream",
     "text": [
      "please input ACCOUNT\n",
      "lzx\n",
      "please input PASSWORD\n",
      "123456\n",
      "sucess\n"
     ]
    }
   ],
   "source": [
    "ACCOUNT = 'lzx'\n",
    "PASSWORD = '123456'\n",
    "print('please input ACCOUNT')\n",
    "user_account = input()    \n",
    "print('please input PASSWORD')\n",
    "user_password = input()\n",
    "if user_account == ACCOUNT and user_password == PASSWORD:\n",
    "    print('sucess')\n",
    "else:\n",
    "    print('fail')\n",
    "    "
   ]
  },
  {
   "cell_type": "markdown",
   "metadata": {},
   "source": [
    "常量与Pylint规范：\n",
    "constant常量   \n",
    "形式上的常量所有字母必须大写"
   ]
  },
  {
   "cell_type": "markdown",
   "metadata": {},
   "source": [
    "### 嵌套分支"
   ]
  },
  {
   "cell_type": "code",
   "execution_count": 131,
   "metadata": {},
   "outputs": [],
   "source": [
    "if condition:\n",
    "    if condition:\n",
    "        pass\n",
    "    else:\n",
    "        pass\n",
    "else:\n",
    "    pass\n",
    "\n",
    "#pass   空语句，占位语句，保证程序正常执行"
   ]
  },
  {
   "cell_type": "markdown",
   "metadata": {},
   "source": [
    "### elif"
   ]
  },
  {
   "cell_type": "markdown",
   "metadata": {},
   "source": [
    "if <条件判断1>:   \n",
    "&nbsp;&nbsp;&nbsp;&nbsp;<执行1>   \n",
    "elif <条件判断2>:   \n",
    "&nbsp;&nbsp;&nbsp;&nbsp;<执行2>   \n",
    "elif <条件判断3>:   \n",
    "&nbsp;&nbsp;&nbsp;&nbsp;<执行3>   \n",
    "else:   \n",
    "&nbsp;&nbsp;&nbsp;&nbsp;<执行4>   "
   ]
  },
  {
   "cell_type": "code",
   "execution_count": 3,
   "metadata": {},
   "outputs": [
    {
     "name": "stdout",
     "output_type": "stream",
     "text": [
      "1\n",
      "a is 1\n",
      "<class 'str'>\n",
      "shopping\n"
     ]
    }
   ],
   "source": [
    "a = input()\n",
    "print('a is ' + a)\n",
    "print(type(a))\n",
    "if a == 1:\n",
    "    print('apple')\n",
    "elif a == 2:\n",
    "    print('orange')\n",
    "elif a== 3:\n",
    "    print('banana')\n",
    "else:\n",
    "    print('shopping')\n",
    "    \n",
    "#a接收到的是字符串   不是整型，所以会直接跳转到else语句"
   ]
  },
  {
   "cell_type": "code",
   "execution_count": 139,
   "metadata": {},
   "outputs": [
    {
     "name": "stdout",
     "output_type": "stream",
     "text": [
      "1\n",
      "a is 1\n",
      "<class 'str'>\n",
      "<class 'int'>\n",
      "apple\n"
     ]
    }
   ],
   "source": [
    "a = input()\n",
    "print('a is ' + a)\n",
    "print(type(a))\n",
    "a=int(a)\n",
    "print(type(a))\n",
    "if a == 1:\n",
    "    print('apple')\n",
    "elif a == 2:\n",
    "    print('orange')\n",
    "elif a== 3:\n",
    "    print('banana')\n",
    "else:\n",
    "    print('shopping')\n",
    "\n",
    "#需要将字符串转化成整型"
   ]
  },
  {
   "cell_type": "markdown",
   "metadata": {},
   "source": [
    "### while循环"
   ]
  },
  {
   "cell_type": "markdown",
   "metadata": {},
   "source": [
    "while <条件判断1>:   \n",
    "&nbsp;&nbsp;&nbsp;&nbsp;<执行1>   \n",
    "else:   \n",
    "&nbsp;&nbsp;&nbsp;&nbsp;<执行2>   \n",
    "\n",
    "一般在递归的情况下使用while循环"
   ]
  },
  {
   "cell_type": "code",
   "execution_count": 142,
   "metadata": {},
   "outputs": [
    {
     "name": "stdout",
     "output_type": "stream",
     "text": [
      "1\n",
      "2\n",
      "3\n",
      "4\n",
      "5\n",
      "6\n",
      "7\n",
      "8\n",
      "9\n",
      "10\n",
      "EOF\n"
     ]
    }
   ],
   "source": [
    "COUNTER = 1\n",
    "while COUNTER <= 10:\n",
    "    print(COUNTER)\n",
    "    COUNTER += 1\n",
    "else:\n",
    "    print('EOF')"
   ]
  },
  {
   "cell_type": "markdown",
   "metadata": {},
   "source": [
    "### for循环"
   ]
  },
  {
   "cell_type": "markdown",
   "metadata": {},
   "source": [
    "主要用于遍历、循环 序列或者集合、字典"
   ]
  },
  {
   "cell_type": "code",
   "execution_count": 143,
   "metadata": {},
   "outputs": [
    {
     "name": "stdout",
     "output_type": "stream",
     "text": [
      "apple\n",
      "orange\n",
      "banana\n",
      "grape\n"
     ]
    }
   ],
   "source": [
    "a = ['apple','orange','banana','grape']\n",
    "for x in a:\n",
    "    print(x)"
   ]
  },
  {
   "cell_type": "code",
   "execution_count": 153,
   "metadata": {},
   "outputs": [
    {
     "name": "stdout",
     "output_type": "stream",
     "text": [
      "apple\n",
      "orange\n",
      "banana\n",
      "grape\n",
      "1\n",
      "2\n",
      "3\n",
      "fruit is gone\n"
     ]
    }
   ],
   "source": [
    "a = [['apple','orange','banana','grape'],(1,2,3)]\n",
    "for x in a:\n",
    "    for y in x:\n",
    "        print(y)\n",
    "else:\n",
    "    print('fruit is gone')\n",
    "#当列表中所有元素被遍历完之后，else才会被执行"
   ]
  },
  {
   "cell_type": "markdown",
   "metadata": {},
   "source": [
    "每个元素在一行打印出来"
   ]
  },
  {
   "cell_type": "code",
   "execution_count": 151,
   "metadata": {},
   "outputs": [
    {
     "name": "stdout",
     "output_type": "stream",
     "text": [
      "apple orange banana grape 1 2 3 "
     ]
    }
   ],
   "source": [
    "a = [['apple','orange','banana','grape'],(1,2,3)]\n",
    "for x in a:\n",
    "    for y in x:\n",
    "        print(y,end=' ')"
   ]
  },
  {
   "cell_type": "markdown",
   "metadata": {},
   "source": [
    "#### break"
   ]
  },
  {
   "cell_type": "markdown",
   "metadata": {},
   "source": [
    "Python break语句，就像在C语言中，打破了最小封闭for或while循环。\n",
    "\n",
    "break语句用来终止循环语句，即循环条件没有False条件或者序列还没被完全递归完，也会停止执行循环语句。\n",
    "\n",
    "break语句用在while和for循环中。\n",
    "\n",
    "如果您使用嵌套循环，break语句将停止执行最深层的循环，并开始执行下一行代码。"
   ]
  },
  {
   "cell_type": "code",
   "execution_count": 4,
   "metadata": {},
   "outputs": [
    {
     "name": "stdout",
     "output_type": "stream",
     "text": [
      "1\n"
     ]
    }
   ],
   "source": [
    "a = [1,2,3]\n",
    "for x in a:\n",
    "    if x == 2:\n",
    "        break\n",
    "    print(x)\n",
    "else:\n",
    "    print('EOF')"
   ]
  },
  {
   "cell_type": "code",
   "execution_count": 3,
   "metadata": {},
   "outputs": [
    {
     "name": "stdout",
     "output_type": "stream",
     "text": [
      "apple\n",
      "1\n",
      "2\n",
      "3\n",
      "fruit is gone\n"
     ]
    }
   ],
   "source": [
    "a = [['apple','orange','banana','grape'],(1,2,3)]\n",
    "for x in a:\n",
    "    for y in x:\n",
    "        if y == 'orange':\n",
    "            break\n",
    "        print(y)\n",
    "else:\n",
    "    print('fruit is gone')\n",
    "#breake只是跳出了内部循环，外部循环还是要执行的"
   ]
  },
  {
   "cell_type": "markdown",
   "metadata": {},
   "source": [
    "[跳出多层循环](https://spaces.ac.cn/archives/4159)"
   ]
  },
  {
   "cell_type": "markdown",
   "metadata": {},
   "source": [
    "#### continue"
   ]
  },
  {
   "cell_type": "markdown",
   "metadata": {},
   "source": [
    "Python continue 语句跳出本次循环，而break跳出整个循环。\n",
    "\n",
    "continue 语句用来告诉Python跳过当前循环的剩余语句，然后继续进行下一轮循环。\n",
    "\n",
    "continue语句用在while和for循环中。"
   ]
  },
  {
   "cell_type": "code",
   "execution_count": 159,
   "metadata": {},
   "outputs": [
    {
     "name": "stdout",
     "output_type": "stream",
     "text": [
      "1\n",
      "3\n",
      "EOF\n"
     ]
    }
   ],
   "source": [
    "a = [1,2,3]\n",
    "for x in a:\n",
    "    if x == 2:\n",
    "        continue\n",
    "    print(x)\n",
    "else:\n",
    "    print('EOF')"
   ]
  },
  {
   "cell_type": "code",
   "execution_count": 1,
   "metadata": {},
   "outputs": [
    {
     "name": "stdout",
     "output_type": "stream",
     "text": [
      "apple\n",
      "banana\n",
      "grape\n",
      "1\n",
      "2\n",
      "3\n",
      "fruit is gone\n"
     ]
    }
   ],
   "source": [
    "a = [['apple','orange','banana','grape'],(1,2,3)]\n",
    "for x in a:\n",
    "    for y in x:\n",
    "        if y == 'orange':\n",
    "            continue\n",
    "        print(y)\n",
    "else:\n",
    "    print('fruit is gone')"
   ]
  },
  {
   "cell_type": "markdown",
   "metadata": {},
   "source": [
    "#### range函数"
   ]
  },
  {
   "cell_type": "markdown",
   "metadata": {},
   "source": [
    "一般用在 for 循环中   \n",
    "可以产生一个等差数列   \n",
    "格式：range(start,end,step)三个参数都是整zhi数   \n",
    "start-数列开始的数（包含）如果专是0可以参略   \n",
    "end-数列结属束的数（不包含）   \n",
    "step-步长，如果是1可以参略   \n",
    "如：range(5)产生0，1，2，3，4   \n",
    "range(1,5,2)产生1，3   \n",
    "range(5,1,-1)产生5，4，3，2   "
   ]
  },
  {
   "cell_type": "code",
   "execution_count": 5,
   "metadata": {},
   "outputs": [
    {
     "name": "stdout",
     "output_type": "stream",
     "text": [
      "0\n",
      "1\n",
      "2\n",
      "3\n",
      "4\n",
      "5\n"
     ]
    }
   ],
   "source": [
    "for x in range(0,6):\n",
    "    print(x)"
   ]
  },
  {
   "cell_type": "code",
   "execution_count": 9,
   "metadata": {},
   "outputs": [
    {
     "name": "stdout",
     "output_type": "stream",
     "text": [
      "0 | 1 | 2 | 3 | 4 | 5 | "
     ]
    }
   ],
   "source": [
    "for x in range(0,6):\n",
    "    print(x,end=' | ')\n",
    "#将x以行打印出来并用|分隔"
   ]
  },
  {
   "cell_type": "code",
   "execution_count": 12,
   "metadata": {},
   "outputs": [
    {
     "name": "stdout",
     "output_type": "stream",
     "text": [
      "1 | 3 | 5 | 7 | "
     ]
    }
   ],
   "source": [
    "a = [1,2,3,4,5,6,7,8]\n",
    "for x in range(0,len(a),2):\n",
    "    print(a[x],end=' | ')"
   ]
  },
  {
   "cell_type": "code",
   "execution_count": 17,
   "metadata": {},
   "outputs": [
    {
     "name": "stdout",
     "output_type": "stream",
     "text": [
      "[1, 3, 5, 7]\n"
     ]
    }
   ],
   "source": [
    "a = [1,2,3,4,5,6,7,8]\n",
    "b = a[0:len(a):2]\n",
    "print(b)"
   ]
  },
  {
   "cell_type": "markdown",
   "metadata": {},
   "source": [
    "## 第七章 包、模块、函数与变量作用域"
   ]
  },
  {
   "cell_type": "markdown",
   "metadata": {},
   "source": [
    "### python组织结构"
   ]
  },
  {
   "cell_type": "markdown",
   "metadata": {},
   "source": [
    "包===》文件夹    \n",
    "模块===》文件，存在于包下面 .py    \n",
    "类   \n",
    "函数、变量\n"
   ]
  },
  {
   "cell_type": "markdown",
   "metadata": {},
   "source": [
    "包的名字---文件夹的名字   \n",
    "模块的名字---文件的名字   \n",
    "\n",
    "使用命名空间（路径）来区分模块   \n",
    "包的名字.模块名字(如果重名也能正确区分   \n",
    "Python是如何区分一个普通文件夹和一个包？   \n",
    "一个包里有一个特定的文件--\\_\\_init\\_\\_.py，而普通文件夹里是没有这个文件。   \n",
    "\\_\\_init\\_\\_.py文件的模块名就是它所在的包名   \n",
    "**\\_\\_init\\_\\_.py本身也是一个模块，里面可以空，也可以写代码**"
   ]
  },
  {
   "cell_type": "markdown",
   "metadata": {},
   "source": [
    "### import模块导入"
   ]
  },
  {
   "cell_type": "code",
   "execution_count": 5,
   "metadata": {},
   "outputs": [
    {
     "name": "stdout",
     "output_type": "stream",
     "text": [
      "3\n"
     ]
    }
   ],
   "source": [
    "import sys\n",
    "sys.path.append(r'D:\\WORK\\GitWorkSpace\\STUDY\\Python\\test1')\n",
    "import pack.c1\n",
    "print(pack.c1.c)"
   ]
  },
  {
   "cell_type": "markdown",
   "metadata": {},
   "source": [
    "import t.c7   \n",
    "print(t.c7.a)     \n",
    "\n",
    "等同于   \n",
    "import t.c7 as m   \n",
    "print(m.a)"
   ]
  },
  {
   "cell_type": "code",
   "execution_count": 9,
   "metadata": {},
   "outputs": [
    {
     "name": "stdout",
     "output_type": "stream",
     "text": [
      "3\n"
     ]
    }
   ],
   "source": [
    "import sys\n",
    "sys.path.append(r'D:\\WORK\\GitWorkSpace\\STUDY\\Python\\test')\n",
    "from pack.c1 import c\n",
    "print(c)"
   ]
  },
  {
   "cell_type": "markdown",
   "metadata": {},
   "source": [
    "**import ... 导入的是模块   \n",
    "from .. import ... 导入的是具体函数或变量   \n",
    "如果想要全部导入from 模块名 import *   \n",
    "如果想要导入想要的几个变量，在被导入的文件中加__all__=[变量1/函数1，变量2/函数2]可以完成指定导入**"
   ]
  },
  {
   "cell_type": "markdown",
   "metadata": {},
   "source": [
    "### \\_\\_init\\_\\_.py用法"
   ]
  },
  {
   "cell_type": "code",
   "execution_count": 10,
   "metadata": {},
   "outputs": [
    {
     "name": "stdout",
     "output_type": "stream",
     "text": [
      "3\n"
     ]
    }
   ],
   "source": [
    "#python建议一行不超过80个字符  手动换行在行尾加上反斜杠回车即可\n",
    "import sys\n",
    "sys.path.append(r'D:\\WORK\\GitWorkSpace\\STUDY\\Python\\test1')\n",
    "from pack.c1 import b,\\\n",
    "c\n",
    "print(c)"
   ]
  },
  {
   "cell_type": "code",
   "execution_count": 11,
   "metadata": {},
   "outputs": [
    {
     "name": "stdout",
     "output_type": "stream",
     "text": [
      "3\n"
     ]
    }
   ],
   "source": [
    "#也可以使用括号进行换行\n",
    "import sys\n",
    "sys.path.append(r'D:\\WORK\\GitWorkSpace\\STUDY\\Python\\test1')\n",
    "from pack.c1 import (b,\n",
    "c)\n",
    "print(c)"
   ]
  },
  {
   "cell_type": "markdown",
   "metadata": {},
   "source": [
    "关于\\_\\_init\\_\\_.py   \n",
    "（1）每个包里都会有一个\\_\\_init\\_\\_.py文件   \n",
    "（2）导入一个包或者包下面的模块时，里面的\\_\\_init\\_\\_.py会首先被执行     \n",
    "（3）在\\_\\_init\\_\\_.py里，同样可以通过\\_\\_all\\_\\_\\['modular1','modular2'\\]限定import * 时可以应用的module1.py和module2.py   \n",
    "（4）如果有多个module.py想要导入sys这个系统module，可以在某个文件夹t里的\\_\\_init\\_\\_.py里import sys，然后import t后可以直接使用t.sys."
   ]
  },
  {
   "cell_type": "markdown",
   "metadata": {},
   "source": [
    "![image.png](http://ww1.sinaimg.cn/large/005UiupEly1gkeb53yhhej30fd06gdfr.jpg)"
   ]
  },
  {
   "cell_type": "markdown",
   "metadata": {},
   "source": [
    "![](http://ww1.sinaimg.cn/large/005UiupEly1gkeayrhlwkj30fw0ayt8s.jpg)"
   ]
  },
  {
   "cell_type": "markdown",
   "metadata": {},
   "source": [
    "### 包与模块的常见错误"
   ]
  },
  {
   "cell_type": "markdown",
   "metadata": {},
   "source": [
    "1.包和模块不会被重复导入比如：t1中存在import t2，然后在t3模块中import t1，import t2，t2只会被引用一次   \n",
    "2.尽量避免循环导入如t1中import t2；t2中import t1，就会报错   \n",
    "3.导入模块之后，就会自动执行导入模块中的所有代码，但是无论导入多少次，只会执行一次   \n",
    "4.入口文件的概念就是一开始执行的那个模块   "
   ]
  },
  {
   "cell_type": "markdown",
   "metadata": {},
   "source": [
    "### 模块内置变量"
   ]
  },
  {
   "cell_type": "markdown",
   "metadata": {},
   "source": [
    "1.模块内置变量：dir()函数返回当前模块下的所有变量   \n",
    "2.几个内置变量认知   \n",
    "\\_\\_name\\_\\_：模块的命名空间，包名称.模块名   \n",
    "\\_\\_package\\_\\_：模块所在的包   \n",
    "\\_\\_doc\\_\\_：模块注释,就是在模块文件开头使用''’ ...  '''注释的内容  \n",
    "\\_\\_file\\_\\_：该模块在系统中存放的物理路径   \n",
    "报错解读：   \n",
    "1.Traceback这部分是错误的堆栈信息   \n",
    "2.TypeError指明了出错的原因  \n",
    "\n",
    "\\_\\_doc\\_\\_函数   \n",
    "可以用作项目自动文档生成工具"
   ]
  },
  {
   "cell_type": "code",
   "execution_count": 25,
   "metadata": {},
   "outputs": [
    {
     "name": "stdout",
     "output_type": "stream",
     "text": [
      "['In', 'Out', '_', '_24', '__', '___', '__builtin__', '__builtins__', '__doc__', '__loader__', '__name__', '__package__', '__spec__', '_dh', '_i', '_i1', '_i10', '_i11', '_i12', '_i13', '_i14', '_i15', '_i16', '_i17', '_i18', '_i19', '_i2', '_i20', '_i21', '_i22', '_i23', '_i24', '_i25', '_i3', '_i4', '_i5', '_i6', '_i7', '_i8', '_i9', '_ih', '_ii', '_iii', '_oh', 'b', 'c', 'exit', 'get_ipython', 'pack', 'quit', 'sys']\n"
     ]
    }
   ],
   "source": [
    "print(dir())"
   ]
  },
  {
   "cell_type": "markdown",
   "metadata": {},
   "source": [
    "![](https://images.weserv.nl/?url=https://i0.hdslb.com/bfs/article/8431397aa4e6e5aa2651f8dc2b6a017793a4b83f.png)"
   ]
  },
  {
   "cell_type": "markdown",
   "metadata": {},
   "source": [
    "dir（）里面如果含参数可以显示指定的模块、类或对象，如果不含参数则显示当前模块的可见变量。"
   ]
  },
  {
   "cell_type": "markdown",
   "metadata": {},
   "source": [
    "![](http://ww1.sinaimg.cn/large/005UiupEly1gked85uso2j30gy06umx5.jpg)"
   ]
  },
  {
   "cell_type": "markdown",
   "metadata": {},
   "source": [
    "![](http://ww1.sinaimg.cn/large/005UiupEly1gked8mu17uj30h20bimxc.jpg)"
   ]
  },
  {
   "cell_type": "markdown",
   "metadata": {},
   "source": [
    "### 入口文件和普通模块内置变量区别"
   ]
  },
  {
   "cell_type": "markdown",
   "metadata": {},
   "source": [
    "![](http://ww1.sinaimg.cn/large/005UiupEly1gkee6j7gy2j30gz0fct97.jpg)"
   ]
  },
  {
   "cell_type": "markdown",
   "metadata": {},
   "source": [
    "![](http://ww1.sinaimg.cn/large/005UiupEly1gkee6xl97uj30ns0g73z5.jpg)"
   ]
  },
  {
   "cell_type": "markdown",
   "metadata": {},
   "source": [
    "入口文件和普通文件内置变量的区别：     \n",
    "当作为普通模块被导入时，   \n",
    "\\_\\_name\\_\\_ 具有完整的模块名（t.c9)   \n",
    "\\_\\_file\\_\\_ 当前模块在系统里的物理路径_package_%3A模块所在的包   \n",
    "\\_\\_doc\\_\\_ 当前模块是否有文档注释   \n",
    "而当作为入口文件通过python命令执行时：   \n",
    "\\_\\_name\\_\\_ 不会显示模块名称，只会显示为 \\_\\_main\\_\\_   \n",
    "\\_\\_package\\_\\_ 入口文件不属于任何包，即使在模块目录下且包含init文件      \n",
    "\\_\\_doc\\_\\_ 判断当前模块有无注释文档，有就显示文档注释内容   \n",
    "\\_\\_file\\_\\_ 显示与执行路径有关,python命令后面直接跟文件名，就显示文件名，跟相对路径就显示相对路径，跟绝对路径就显示绝对路径     "
   ]
  },
  {
   "cell_type": "markdown",
   "metadata": {},
   "source": [
    "### \\_\\_name\\_\\_的典型应用"
   ]
  },
  {
   "cell_type": "markdown",
   "metadata": {},
   "source": [
    "if \\_\\_name\\_\\_ == '\\_\\_main\\_\\_':   \n",
    "&nbsp;&nbsp;&nbsp;&nbsp;pass   \n",
    "pass   \n",
    "make a scriptboth importable andexecutable(让脚本既可以被调用也可以成为可执行的文件)   \n",
    "name内置变量的经典用法，作为可执行文件时，打印两个（if里的，和if外的）；作为调用文件时，只是if执行外面的      \n",
    "执行时输入python -m 包.模块名（没有.py） 可以让此文件作为模块被调用。如果想要让一个文件被引用当作模块，那这个文件必须有包，所以就要在他的上级目录引用   "
   ]
  },
  {
   "cell_type": "markdown",
   "metadata": {},
   "source": [
    "![](http://ww1.sinaimg.cn/large/005UiupEly1gkffbrsb92j312y09iq3a.jpg)"
   ]
  },
  {
   "cell_type": "markdown",
   "metadata": {},
   "source": [
    "![](https://images.weserv.nl/?url=https://i0.hdslb.com/bfs/article/b95b6e4c522abc0b4690f0f54302283e85865c1b.png)"
   ]
  },
  {
   "cell_type": "markdown",
   "metadata": {},
   "source": [
    "### 相对导入和绝对导入"
   ]
  },
  {
   "cell_type": "markdown",
   "metadata": {},
   "source": [
    "顶级包是：   \n",
    "与文件入口、可执行文件同级的且模块所在的包（目录），就是该模块的的顶级包。即决定模块的顶级包在哪的关键因素在于入口文件在什么地方，与入口文件同级的包，就是模块的顶级包。   \n",
    "绝对导入：   \n",
    "1从顶级包到最后的模块一级一级找的绝对路径，这样导入叫绝对导入（package2.package4.m2）   \n",
    "2在入口文件中是不能用相对路径来导入的     \n",
    "相对导入：   \n",
    "1.导入同级模块，..导入上一级模块，...导入上上级模块，以此类推   \n",
    "2import命令无法执行.m2这种相对导入from.m2import变量from命令可以用相对导入   \n",
    "3用...相对导入模块时，如果和入口文件同级，则没有顶级包，会报错   "
   ]
  },
  {
   "cell_type": "markdown",
   "metadata": {},
   "source": [
    "![](https://images.weserv.nl/?url=https://i0.hdslb.com/bfs/article/921797369e6b20db847e3f6316494db8ed937c70.png)"
   ]
  },
  {
   "cell_type": "markdown",
   "metadata": {},
   "source": [
    "package2.package4.m2  ==> 绝对路径"
   ]
  },
  {
   "cell_type": "markdown",
   "metadata": {},
   "source": [
    "![](https://images.weserv.nl/?url=https://i0.hdslb.com/bfs/article/72f984400be4d0c5e77148b0e55c79612b36bd00.png)"
   ]
  },
  {
   "cell_type": "markdown",
   "metadata": {},
   "source": [
    "入口文件中不能用相对路径来"
   ]
  },
  {
   "cell_type": "markdown",
   "metadata": {},
   "source": [
    "![](https://images.weserv.nl/?url=https://i0.hdslb.com/bfs/article/02ee7885d2a379ea5a8c22f06cfddb49b7e7f792.png)"
   ]
  },
  {
   "cell_type": "code",
   "execution_count": null,
   "metadata": {},
   "outputs": [],
   "source": []
  },
  {
   "cell_type": "markdown",
   "metadata": {},
   "source": [
    "![](https://images.weserv.nl/?url=https://i0.hdslb.com/bfs/article/4aec320ff3c7970273c9505668af2a985e010f14.png)"
   ]
  },
  {
   "cell_type": "markdown",
   "metadata": {},
   "source": [
    "模块文件中可以用相对路径"
   ]
  },
  {
   "cell_type": "markdown",
   "metadata": {},
   "source": [
    "![](https://images.weserv.nl/?url=https://i0.hdslb.com/bfs/article/cb78ac37831c02594db5b011be322383eccd9bb0.png)"
   ]
  },
  {
   "cell_type": "markdown",
   "metadata": {},
   "source": [
    "模块如果和入口文件同级，相对导入会报错"
   ]
  },
  {
   "cell_type": "markdown",
   "metadata": {},
   "source": [
    "入口文件中可以使用绝对路径,但是不可以使用相对路径。   \n",
    "相对路径能够找到对应的模块是根据内置模块变量\\_\\_name\\_\\_来定位，入口文件被执行后\\_\\_name\\_\\_就不是所谓的模块名而是将被python改成\\_\\_main\\_\\_,\\_\\_main\\_\\_模块是不存在的，所以不可以使用相对路径导入。如果想用相对导入也是可以的，用模块的形式，返回模块的上一级 python -m demo.main   "
   ]
  },
  {
   "cell_type": "markdown",
   "metadata": {},
   "source": [
    "![](https://images.weserv.nl/?url=https://i0.hdslb.com/bfs/article/bd34ed4a61ed545c59ba75299b3b530a8744597b.png)"
   ]
  },
  {
   "cell_type": "markdown",
   "metadata": {},
   "source": [
    "## 第八章 函数"
   ]
  },
  {
   "cell_type": "markdown",
   "metadata": {},
   "source": [
    "### 函数"
   ]
  },
  {
   "cell_type": "code",
   "execution_count": 2,
   "metadata": {},
   "outputs": [
    {
     "name": "stdout",
     "output_type": "stream",
     "text": [
      "1.12\n"
     ]
    }
   ],
   "source": [
    "a = 1.12386\n",
    "result = round(a,2)\n",
    "print(result)"
   ]
  },
  {
   "cell_type": "markdown",
   "metadata": {},
   "source": [
    "由内置函数round引出查看内置函数方法：  \n",
    "1round(number，n)函数   \n",
    "该函数可以把一个小数number保留小数点后面n位，并进行四舍五入   \n",
    "2如何察看内置函数的功能   \n",
    "a在终端输入python回车可以看到有help字样   \n",
    "b如输入help(round)回车   \n",
    "c会显示round内置函数的介绍   \n",
    "d按回车键可以翻页看较长的功能介绍   \n",
    "3 import this   \n",
    "打印出python之禅   \n",
    "4对函数的理解   \n",
    "a功能性   \n",
    "b隐藏细节   \n",
    "c避免编写重复的代码   "
   ]
  },
  {
   "cell_type": "code",
   "execution_count": 3,
   "metadata": {},
   "outputs": [
    {
     "name": "stdout",
     "output_type": "stream",
     "text": [
      "Help on built-in function round in module builtins:\n",
      "\n",
      "round(number, ndigits=None)\n",
      "    Round a number to a given precision in decimal digits.\n",
      "    \n",
      "    The return value is an integer if ndigits is omitted or None.  Otherwise\n",
      "    the return value has the same type as the number.  ndigits may be negative.\n",
      "\n"
     ]
    }
   ],
   "source": [
    "help(round)"
   ]
  },
  {
   "cell_type": "code",
   "execution_count": 1,
   "metadata": {},
   "outputs": [
    {
     "name": "stdout",
     "output_type": "stream",
     "text": [
      "The Zen of Python, by Tim Peters\n",
      "\n",
      "Beautiful is better than ugly.\n",
      "Explicit is better than implicit.\n",
      "Simple is better than complex.\n",
      "Complex is better than complicated.\n",
      "Flat is better than nested.\n",
      "Sparse is better than dense.\n",
      "Readability counts.\n",
      "Special cases aren't special enough to break the rules.\n",
      "Although practicality beats purity.\n",
      "Errors should never pass silently.\n",
      "Unless explicitly silenced.\n",
      "In the face of ambiguity, refuse the temptation to guess.\n",
      "There should be one-- and preferably only one --obvious way to do it.\n",
      "Although that way may not be obvious at first unless you're Dutch.\n",
      "Now is better than never.\n",
      "Although never is often better than *right* now.\n",
      "If the implementation is hard to explain, it's a bad idea.\n",
      "If the implementation is easy to explain, it may be a good idea.\n",
      "Namespaces are one honking great idea -- let's do more of those!\n"
     ]
    }
   ],
   "source": [
    "import this"
   ]
  },
  {
   "cell_type": "markdown",
   "metadata": {},
   "source": [
    "### 函数定义"
   ]
  },
  {
   "cell_type": "markdown",
   "metadata": {},
   "source": [
    "函数的定义：   \n",
    "1、表达式   \n",
    "def funcname(parameter_list):   \n",
    "&nbsp;&nbsp;&nbsp;&nbsp;pass   \n",
    "2、特点   \n",
    "(a)参数列表parameter list可以没有   \n",
    "(b)return value用return命令来返回值，不返回值则为None   \n",
    "(c)避免用内置函数来定义   \n",
    "\n",
    "进阶小知识之增加递归次数：   \n",
    "1、命令行   \n",
    "import sys   \n",
    "sys.setrecursionlimit(1000)   \n",
    "2、如增加到1000次递归，但系统对python有递归的极限，不会无限的递归   "
   ]
  },
  {
   "cell_type": "markdown",
   "metadata": {},
   "source": [
    "![](https://images.weserv.nl/?url=https://i0.hdslb.com/bfs/article/a2f7e306a3732032beed1704c54f0a445e81f418.png)"
   ]
  },
  {
   "cell_type": "markdown",
   "metadata": {},
   "source": [
    "定义函数返回多个结果说明：   \n",
    "1、return后面的语句不会被执行   \n",
    "2、return后面的多个变量，逗号隔开就可以实现返回多个结果   "
   ]
  },
  {
   "cell_type": "code",
   "execution_count": 3,
   "metadata": {},
   "outputs": [
    {
     "data": {
      "text/plain": [
       "(9, 22)"
      ]
     },
     "execution_count": 3,
     "metadata": {},
     "output_type": "execute_result"
    }
   ],
   "source": [
    "def damage(skill1,skill2):\n",
    "    damage1=skill1*3 \n",
    "    damage2=skill2*2+10\n",
    "    return damage1,damage2\n",
    "damage(3,6)"
   ]
  },
  {
   "cell_type": "code",
   "execution_count": 11,
   "metadata": {},
   "outputs": [
    {
     "data": {
      "text/plain": [
       "tuple"
      ]
     },
     "execution_count": 11,
     "metadata": {},
     "output_type": "execute_result"
    }
   ],
   "source": [
    "damages = damage(3,6)\n",
    "type(damages)"
   ]
  },
  {
   "cell_type": "markdown",
   "metadata": {},
   "source": [
    "3、返回的多个结果是tuple元组类型   \n",
    "4、提取返回的结果除了元组后加[0][1]外还有更直观的方法   \n",
    "damage[0]  damage[1]    \n"
   ]
  },
  {
   "cell_type": "code",
   "execution_count": 13,
   "metadata": {},
   "outputs": [
    {
     "name": "stdout",
     "output_type": "stream",
     "text": [
      "9 22\n"
     ]
    }
   ],
   "source": [
    "print(damages[0],damages[1])"
   ]
  },
  {
   "cell_type": "markdown",
   "metadata": {},
   "source": [
    "5、序列解包   \n",
    "使用有意义的变量名称来接收函数返回结果，便于后期维护  "
   ]
  },
  {
   "cell_type": "code",
   "execution_count": 4,
   "metadata": {},
   "outputs": [
    {
     "name": "stdout",
     "output_type": "stream",
     "text": [
      "9 22\n"
     ]
    }
   ],
   "source": [
    "skill1_damage,skill2_damage=damage(3,6)   \n",
    "print(skill1_damage,skill2_damage)   "
   ]
  },
  {
   "cell_type": "code",
   "execution_count": 5,
   "metadata": {},
   "outputs": [
    {
     "name": "stdout",
     "output_type": "stream",
     "text": [
      "1 2\n"
     ]
    }
   ],
   "source": [
    "print(1,2)"
   ]
  },
  {
   "cell_type": "markdown",
   "metadata": {},
   "source": [
    "### 序列解包与链式赋值"
   ]
  },
  {
   "cell_type": "markdown",
   "metadata": {},
   "source": [
    "a = 1   \n",
    "b = 2   \n",
    "c = 3   \n",
    "可以写成\n",
    "a,b,c = 1,2,3"
   ]
  },
  {
   "cell_type": "code",
   "execution_count": 16,
   "metadata": {},
   "outputs": [
    {
     "name": "stdout",
     "output_type": "stream",
     "text": [
      "<class 'tuple'>\n"
     ]
    }
   ],
   "source": [
    "d = 1,2,3\n",
    "print(type(d))"
   ]
  },
  {
   "cell_type": "markdown",
   "metadata": {},
   "source": [
    "序列解包：a=1，b=2，c=3可以写为a,b,c=1，2，3序列解包的方法可以   \n",
    "用于所有组合，字典中只会返回KEY.需要注意的是，变量的数量，必须和组   \n",
    "合内元素的数量一致，才可以使用序列解包。   \n",
    "d=1,2，3   \n",
    "d=(1,2,3）d就会变成一个tuple类型，这个是反向解包，反向解包只能生产元组。   \n",
    "如果对多个变量赋予相同的值，可以用链式赋值，a=b=c=1   "
   ]
  },
  {
   "cell_type": "markdown",
   "metadata": {},
   "source": [
    "### 必须参数与关键字参数"
   ]
  },
  {
   "cell_type": "markdown",
   "metadata": {},
   "source": [
    "1.必须参数：   \n",
    "def add(x,y)：在函数的参数列表里定义的参数必须要成立的   \n",
    "result=x+y   \n",
    "return result   \n",
    "形式参数：在定义的过程中，例如（x，y）   \n",
    "实际参数：在调用的过程中，往函数放入实际的参数，例如，（1，2）   \n",
    "2.关键字参数   \n",
    "def add(x,y):   \n",
    "result=x+y   \n",
    "return result   \n",
    "c=add(y=3,x=2)：在做函数调用的时候明确告诉python你所赋值的实际参   \n",
    "数到底是给哪一个形式参数来赋值的   \n",
    "#意义在于代码的可读性,不需要按照固定顺序传递参数   "
   ]
  },
  {
   "cell_type": "markdown",
   "metadata": {},
   "source": [
    "### 默认参数"
   ]
  },
  {
   "cell_type": "markdown",
   "metadata": {},
   "source": [
    "设计函数的原则：   \n",
    "①设计函数的时候不应该设计很长的参数列表   \n",
    "②一定要有很长的参数列表的话，还是要封装成一个对象来传递   \n",
    "默认函数的规则：   \n",
    "1哪个参数需要有默认值，就在该形参之后加=来赋值   \n",
    "2调用函数时，没给默认值的参数是一定要传实参的   \n",
    "3如果想改变默认值，调用时正常传递实参就可以了   \n",
    "注意事项：   \n",
    "1默认参数要放到最后，后面不能再加必须传入的参数，语法错误   \n",
    "2多个默认参数中，调用时只想更改其中一个，方法是关键字参数赋值   \n",
    "3调用函数时同样，默认参数和必须传入的参数不能混着调用   "
   ]
  },
  {
   "cell_type": "code",
   "execution_count": 9,
   "metadata": {},
   "outputs": [
    {
     "name": "stdout",
     "output_type": "stream",
     "text": [
      "我叫鸡小萌\n",
      "我今年18岁\n",
      "我是男生\n",
      "我在人民路高中上学\n",
      "~~~~~~~~~~~~~~~~~~~~~~~~~~~~~\n",
      "我叫森小乐\n",
      "我今年18岁\n",
      "我是男生\n",
      "我在人民路高中上学\n",
      "~~~~~~~~~~~~~~~~~~~~~~~~~~~~~\n",
      "我叫喜小乐\n",
      "我今年16岁\n",
      "我是女生\n",
      "我在人民路高中上学\n",
      "~~~~~~~~~~~~~~~~~~~~~~~~~~~~~\n",
      "我叫果果\n",
      "我今年17岁\n",
      "我是男生\n",
      "我在人民路高中上学\n",
      "~~~~~~~~~~~~~~~~~~~~~~~~~~~~~\n"
     ]
    }
   ],
   "source": [
    "def print_student_files(name,gender='男',age=18,college='人民路高中'):\n",
    "    print('我叫' + name)\n",
    "    print('我今年' + str(age) +'岁')\n",
    "    print('我是' + gender + '生')\n",
    "    print('我在' + college +'上学')\n",
    "print_student_files('鸡小萌','男',18,'人民路高中')\n",
    "print('~~~~~~~~~~~~~~~~~~~~~~~~~~~~~')\n",
    "print_student_files('森小乐')\n",
    "print('~~~~~~~~~~~~~~~~~~~~~~~~~~~~~')\n",
    "print_student_files('喜小乐','女',16)\n",
    "print('~~~~~~~~~~~~~~~~~~~~~~~~~~~~~')\n",
    "print_student_files('果果',age = 17)\n",
    "print('~~~~~~~~~~~~~~~~~~~~~~~~~~~~~')\n"
   ]
  },
  {
   "cell_type": "markdown",
   "metadata": {},
   "source": [
    "### 可变参数"
   ]
  },
  {
   "cell_type": "code",
   "execution_count": 10,
   "metadata": {},
   "outputs": [
    {
     "name": "stdout",
     "output_type": "stream",
     "text": [
      "a\n",
      "1\n",
      "(2, 3)\n"
     ]
    }
   ],
   "source": [
    "#必须参数 默认参数 可变参数\n",
    "def demo(param1,param2=2,*param):\n",
    "    print(param1)\n",
    "    print(param2)\n",
    "    print(param)\n",
    "demo('a',1,2,3)"
   ]
  },
  {
   "cell_type": "code",
   "execution_count": 11,
   "metadata": {},
   "outputs": [
    {
     "name": "stdout",
     "output_type": "stream",
     "text": [
      "a\n",
      "(1, 2, 3, 'param')\n",
      "2\n",
      "a\n",
      "(1, 2, 3)\n",
      "param\n"
     ]
    }
   ],
   "source": [
    "# 关键字参数\n",
    "def demo(param1,*param,param2=2):\n",
    "    print(param1)\n",
    "    print(param)\n",
    "    print(param2)\n",
    "demo('a',1,2,3,'param')\n",
    "demo('a',1,2,3,param2='param')"
   ]
  },
  {
   "cell_type": "markdown",
   "metadata": {},
   "source": [
    "可变参数：   \n",
    "1调用时可传入多个实参，返回的结果是tuple类型   \n",
    "2方式为def demo（\\*参数）（即在参数前面加*号）   \n",
    "3调用时如果实参为元组tuple，则返回的会是二维元组   \n",
    "调用：a=（1,2，3，4,5,6）   \n",
    "demo(a)   \n",
    "返回：（（1，2，3，4，5，6），）   \n",
    "4如何解组，方法是调用时在元组实参前也加*   \n",
    "调用：demo（*a）   \n",
    "返回：（1，2，3，4,5，6）   \n",
    "5可变函数可以与必须参数、默认参数一起使用   \n",
    "6形参没法跳过默认参数，所以默认函数建议放在最后   \n",
    "7经验指明，形参不要设计太多种类   "
   ]
  },
  {
   "cell_type": "code",
   "execution_count": 9,
   "metadata": {},
   "outputs": [
    {
     "name": "stdout",
     "output_type": "stream",
     "text": [
      "((1, 2, 3, 4, 5, 6),)\n",
      "<class 'tuple'>\n",
      "(1, 2, 3, 4, 5, 6)\n",
      "<class 'tuple'>\n"
     ]
    }
   ],
   "source": [
    "def demo(*param):\n",
    "    print(param)\n",
    "    print(type(param))\n",
    "a = (1,2,3,4,5,6)\n",
    "demo(a)\n",
    "demo(*a)"
   ]
  },
  {
   "cell_type": "markdown",
   "metadata": {},
   "source": [
    "### 关键字可变参数"
   ]
  },
  {
   "cell_type": "markdown",
   "metadata": {},
   "source": [
    "1、关键字可变的参数传入后返回的类型其实是dict字典   \n",
    "2、方式是在可变参数的基础上再加一个*       \n",
    "def demo（\\*\\*param）：   \n",
    "3、遍历字典dict的方法    \n",
    "def demo（\\*\\*param）：    \n",
    "for key,value in param.items（）：  \n",
    "补充：    \n",
    ".items（）是调用键和值，   \n",
    ".keys（）是调用键，   \n",
    ".values（）是调用值 如果不加标注，默认是调用键      \n",
    "4、调用函数时可以直接写入关键字参数，也可以定义一个变量后，传入时也加**    \n",
    "5、关键字可变参数，在调用时可以不传入实参，结果为{}空字典"
   ]
  },
  {
   "cell_type": "code",
   "execution_count": 5,
   "metadata": {
    "scrolled": true
   },
   "outputs": [
    {
     "name": "stdout",
     "output_type": "stream",
     "text": [
      "55\n",
      "55\n"
     ]
    }
   ],
   "source": [
    "def squsum(*param):\n",
    "    sum=0\n",
    "    for i in param:\n",
    "        sum += i*i\n",
    "    print(sum)\n",
    "squsum(1,2,3,4,5)\n",
    "squsum(*[1,2,3,4,5])"
   ]
  },
  {
   "cell_type": "code",
   "execution_count": 1,
   "metadata": {},
   "outputs": [
    {
     "name": "stdout",
     "output_type": "stream",
     "text": [
      "{'bj': '32c', 'xm': '23c', 'sh': '31c'}\n",
      "<class 'dict'>\n"
     ]
    }
   ],
   "source": [
    "def city_temp(**param):\n",
    "    print(param)\n",
    "    print(type(param))\n",
    "    pass\n",
    "city_temp(bj='32c',xm='23c',sh='31c')"
   ]
  },
  {
   "cell_type": "code",
   "execution_count": 2,
   "metadata": {},
   "outputs": [
    {
     "name": "stdout",
     "output_type": "stream",
     "text": [
      "bj\n",
      "xm\n",
      "sh\n"
     ]
    }
   ],
   "source": [
    "def city_temp(**param):\n",
    "    for c in param:\n",
    "        print(c)\n",
    "city_temp(bj='32c',xm='23c',sh='31c')"
   ]
  },
  {
   "cell_type": "code",
   "execution_count": 3,
   "metadata": {},
   "outputs": [
    {
     "name": "stdout",
     "output_type": "stream",
     "text": [
      "b : j\n",
      "x : m\n",
      "s : h\n"
     ]
    }
   ],
   "source": [
    "def city_temp(**param):\n",
    "    for key,value in param:\n",
    "        print(key,':',value)\n",
    "city_temp(bj='32c',xm='23c',sh='31c')"
   ]
  },
  {
   "cell_type": "code",
   "execution_count": 7,
   "metadata": {},
   "outputs": [
    {
     "name": "stdout",
     "output_type": "stream",
     "text": [
      "bj : 32c\n",
      "xm : 23c\n",
      "sh : 31c\n",
      "bj : 32c\n",
      "xm : 23c\n",
      "sh : 31c\n"
     ]
    }
   ],
   "source": [
    "def city_temp(**param):\n",
    "    for key,value in param.items():\n",
    "        print(key,':',value)\n",
    "a = {'bj':'32c','xm':'23c','sh':'31c'}\n",
    "city_temp(bj='32c',xm='23c',sh='31c')\n",
    "city_temp(**a)"
   ]
  },
  {
   "cell_type": "markdown",
   "metadata": {},
   "source": [
    "### 变量作用域"
   ]
  },
  {
   "cell_type": "markdown",
   "metadata": {},
   "source": [
    "变量的作用域：   \n",
    "1全局变量   \n",
    "全局变量是作用于整个模块下的   \n",
    "2局部变量   \n",
    "函数内部的变量是局部变量，只作用于函数内，函数外调用无效   \n",
    "3python没有块级作用域   \n",
    "①函数内部的for in语句等并不能形成一个块级作用域   \n",
    "②for in语句内部的变量与函数内部的局部变量同级   "
   ]
  },
  {
   "cell_type": "code",
   "execution_count": 11,
   "metadata": {},
   "outputs": [
    {
     "name": "stdout",
     "output_type": "stream",
     "text": [
      "3\n",
      "50\n"
     ]
    }
   ],
   "source": [
    "c = 50\n",
    "def add(x,y):\n",
    "    c = x + y\n",
    "    print(c)\n",
    "add(1,2)\n",
    "print(c)"
   ]
  },
  {
   "cell_type": "code",
   "execution_count": 13,
   "metadata": {},
   "outputs": [
    {
     "ename": "NameError",
     "evalue": "name 'd' is not defined",
     "output_type": "error",
     "traceback": [
      "\u001b[1;31m---------------------------------------------------------------------------\u001b[0m",
      "\u001b[1;31mNameError\u001b[0m                                 Traceback (most recent call last)",
      "\u001b[1;32m<ipython-input-13-6c2db55d31c6>\u001b[0m in \u001b[0;36m<module>\u001b[1;34m\u001b[0m\n\u001b[0;32m      1\u001b[0m \u001b[1;32mdef\u001b[0m \u001b[0mdemo\u001b[0m\u001b[1;33m(\u001b[0m\u001b[1;33m)\u001b[0m\u001b[1;33m:\u001b[0m\u001b[1;33m\u001b[0m\u001b[1;33m\u001b[0m\u001b[0m\n\u001b[0;32m      2\u001b[0m     \u001b[0md\u001b[0m \u001b[1;33m=\u001b[0m \u001b[1;36m10\u001b[0m\u001b[1;33m\u001b[0m\u001b[1;33m\u001b[0m\u001b[0m\n\u001b[1;32m----> 3\u001b[1;33m \u001b[0mprint\u001b[0m\u001b[1;33m(\u001b[0m\u001b[0md\u001b[0m\u001b[1;33m)\u001b[0m\u001b[1;33m\u001b[0m\u001b[1;33m\u001b[0m\u001b[0m\n\u001b[0m",
      "\u001b[1;31mNameError\u001b[0m: name 'd' is not defined"
     ]
    }
   ],
   "source": [
    "def demo():\n",
    "    d = 10\n",
    "print(d)"
   ]
  },
  {
   "cell_type": "code",
   "execution_count": 15,
   "metadata": {},
   "outputs": [
    {
     "name": "stdout",
     "output_type": "stream",
     "text": [
      "50\n"
     ]
    }
   ],
   "source": [
    "d = 10          #全局变量\n",
    "def demo():     \n",
    "    d = 50      #局部变量      \n",
    "    print(d)\n",
    "demo()"
   ]
  },
  {
   "cell_type": "code",
   "execution_count": 18,
   "metadata": {},
   "outputs": [
    {
     "name": "stdout",
     "output_type": "stream",
     "text": [
      "59\n"
     ]
    }
   ],
   "source": [
    "c = 10          \n",
    "def demo():     \n",
    "    c = 50      #局部变量是相对的      \n",
    "    for i in range(0,9):\n",
    "        c += 1\n",
    "    print(c)\n",
    "demo()"
   ]
  },
  {
   "cell_type": "code",
   "execution_count": 19,
   "metadata": {},
   "outputs": [
    {
     "name": "stdout",
     "output_type": "stream",
     "text": [
      "59\n",
      "a\n"
     ]
    }
   ],
   "source": [
    "c = 10          \n",
    "def demo():     \n",
    "    c = 50            \n",
    "    for i in range(0,9):\n",
    "        c += 1\n",
    "        a = 'a'\n",
    "    print(c)\n",
    "    print(a)\n",
    "demo()"
   ]
  },
  {
   "cell_type": "markdown",
   "metadata": {},
   "source": [
    "### 作用域链"
   ]
  },
  {
   "cell_type": "markdown",
   "metadata": {},
   "source": [
    "1）局部变量会在作用域内被优先使用；    \n",
    "2）局部变量具有相对性。如c=2这个变量在func1（）函数中是局部变量，但对func2（）函数来说，却是它的上一级，因此不是局部变\n",
    "量，可以被func2（）来引用；    \n",
    "3）逐层逐级向外寻找变量的定义，很像一个链条，因此作用域有链式的特性；    \n",
    "4）如果是for循环向函数体内寻找变量，算作用域链吗？不算。原因是for循环体不是一个作用域，它对循环体外变量的调用属于\n",
    "函数体内变量调用的正常行为。    "
   ]
  },
  {
   "cell_type": "code",
   "execution_count": 20,
   "metadata": {},
   "outputs": [
    {
     "name": "stdout",
     "output_type": "stream",
     "text": [
      "3\n"
     ]
    }
   ],
   "source": [
    "c = 1\n",
    "def func1():\n",
    "    c = 2\n",
    "    def func2():\n",
    "        c = 3\n",
    "        print(c)\n",
    "    func2()\n",
    "func1()"
   ]
  },
  {
   "cell_type": "code",
   "execution_count": 22,
   "metadata": {},
   "outputs": [
    {
     "name": "stdout",
     "output_type": "stream",
     "text": [
      "2\n"
     ]
    }
   ],
   "source": [
    "c = 1\n",
    "def func1():\n",
    "    c = 2\n",
    "    def func2():\n",
    "        #c = 3\n",
    "        print(c)\n",
    "    func2()\n",
    "func1()"
   ]
  },
  {
   "cell_type": "code",
   "execution_count": 23,
   "metadata": {},
   "outputs": [
    {
     "name": "stdout",
     "output_type": "stream",
     "text": [
      "1\n"
     ]
    }
   ],
   "source": [
    "c = 1\n",
    "def func1():\n",
    "    #c = 2\n",
    "    def func2():\n",
    "        #c = 3\n",
    "        print(c)\n",
    "    func2()\n",
    "func1()"
   ]
  },
  {
   "cell_type": "markdown",
   "metadata": {},
   "source": [
    "### global关键字"
   ]
  },
  {
   "cell_type": "markdown",
   "metadata": {},
   "source": [
    "global关键字：   \n",
    "作用：在函数外部引用函数内部变量，即把局部变量变成函数外部可引用的变量。   \n",
    "```\n",
    "def demo():   \n",
    "    global c   \n",
    "    C = 2   \n",
    "demo（）   \n",
    "print(c)\n",
    "```\n",
    "ps：import 导入模块后可以使用模块的全局变量。   "
   ]
  },
  {
   "cell_type": "markdown",
   "metadata": {},
   "source": [
    "![](https://images.weserv.nl/?url=https://i0.hdslb.com/bfs/article/0f7b8cc68f09a3cfda7ba4266d6170800cb0aff3.png)"
   ]
  },
  {
   "cell_type": "markdown",
   "metadata": {},
   "source": [
    "## 第九章 面向对象"
   ]
  },
  {
   "cell_type": "markdown",
   "metadata": {},
   "source": [
    "### 类的定义"
   ]
  },
  {
   "cell_type": "markdown",
   "metadata": {},
   "source": [
    "1、类的基本作用是封装代码，类只负责定义或者刻画/描述某些东西，作出行\n",
    "为，不负责运行。（运行/调用这个类，必须放在类的外部。）   \n",
    "2、类的定义，类的使用/调用，应该放在不同的模块中。   \n",
    "3、类的命名规范，首字母大写，不用下划线连接单词，关联单词用单词首\n",
    "字母大写区分，如StudentHomework。   \n",
    "4、类下面的函数统称“方法”，要想使用方法，必须加“self”，类所定义\n",
    "的变量必须用“self.”操作符来引用。   \n",
    "5、类的实例化：student=Student（)类下面的的方法调用：student.print_file()      "
   ]
  },
  {
   "cell_type": "code",
   "execution_count": 27,
   "metadata": {},
   "outputs": [
    {
     "name": "stdout",
     "output_type": "stream",
     "text": [
      "name:\n",
      "age:0\n"
     ]
    }
   ],
   "source": [
    "class Student():\n",
    "    name = ''\n",
    "    age = 0\n",
    "    \n",
    "    def print_file(self):\n",
    "        print('name:' + self.name)\n",
    "        print('age:' + str(self.age))\n",
    "student = Student()\n",
    "student.print_file()"
   ]
  },
  {
   "cell_type": "markdown",
   "metadata": {},
   "source": [
    "### 函数和方法的区别"
   ]
  },
  {
   "cell_type": "markdown",
   "metadata": {},
   "source": [
    "方法：方法是面向对象中的一个概念，而面向对象更关注的是“设计”，比如   \n",
    "设计函数、设计封装   \n",
    "函数：函数更多的是一种面向过程的概念，没达到“设计”的层。函数定义在   \n",
    "模块中时最好称之为“函数”，定义在类中时最好称之为“方法”。      \n",
    "自己的理解：方法更加考虑代码整体层面的东西，目的是为了让代码的每一部   \n",
    "分都适配最终的需求；而函数可以理解为\"战术”，可以理解为一栋房子的“砖   \n",
    "头”   "
   ]
  },
  {
   "cell_type": "markdown",
   "metadata": {},
   "source": [
    "![](https://images.weserv.nl/?url=https://i0.hdslb.com/bfs/article/1519ef97b4643c7242416180681e44f9d95143d0.png)"
   ]
  },
  {
   "cell_type": "markdown",
   "metadata": {},
   "source": [
    "### 类和对象"
   ]
  },
  {
   "cell_type": "markdown",
   "metadata": {},
   "source": [
    "类和对象：   \n",
    "1）两者是通过实例化关联在一起。如：student=Student)   \n",
    "2)类的理解：它将数据以及这些数据上的操作封装在一起；   \n",
    "3)在类中：数据成员（即变量）刻画类的特征；方法（即函数）描述类的行   \n",
    "为。就像描述student除了name和age，还有其相应的行为，比如做作业和考   \n",
    "试。    \n",
    "4）类设计得好不好，就在于能否抓住类的行为和特征；   \n",
    "5）所以把print_file（）这个函数放在student类下是不合适的，所以最好再设   \n",
    "置一个类printer   \n",
    "对象：   \n",
    "1)对象表示一个具体的概念。类是一个共同的群体名，而对象是类的具体实   \n",
    "例；   \n",
    "2）向类传递具体的参数，可以产生不同对象。   \n",
    "\n",
    "类和对象是什么，有什么关系。   \n",
    "1.类：现实世界或思维世界中的实体在计算机中的反映，它将数据以及这些数   \n",
    "据上的操作封装在一起。   \n",
    "2.类的特征利用类里面的数据成员来表示与刻画，行为用类里的方法表示。   \n",
    "3.print_file这样的行为不是学生的行为，因此放在Class Students不合适。   \n",
    "因此行为应该找对主体。   \n",
    "4.类经过实例化以后就可以得到一个具体的对象。类就算是一模板，都有共同   \n",
    "的特性。通过类你可以产生很多具体的对象   "
   ]
  },
  {
   "cell_type": "markdown",
   "metadata": {},
   "source": [
    "[《面向对象编程思想概览》 课程](http://open.163.com/newview/movie/free?pid=M8S7J6MD7&mid=M8S7S1CO0)"
   ]
  },
  {
   "cell_type": "code",
   "execution_count": 8,
   "metadata": {},
   "outputs": [
    {
     "name": "stdout",
     "output_type": "stream",
     "text": [
      "homework\n"
     ]
    }
   ],
   "source": [
    "class Student():\n",
    "    name = ''\n",
    "    age = 0\n",
    "    #行为与特征\n",
    "    def do_homework(self):\n",
    "        print('homework')\n",
    "student = Student()\n",
    "student.do_homework()"
   ]
  },
  {
   "cell_type": "markdown",
   "metadata": {},
   "source": [
    "### 构造函数"
   ]
  },
  {
   "cell_type": "markdown",
   "metadata": {},
   "source": [
    "构造函数的格式：   \n",
    "```\n",
    "def __init__(self):   \n",
    "    pass\n",
    "```\n",
    "1.构造函数的名字是固定的：\\_\\_init\\_\\_   \n",
    "2.构造函数的调用是自动进行的（实例化的时候，会自动调用构造函数）   \n",
    "3.构造函数也能显式调用（但很少这样做，因为实例化的时候已经调用了），   \n",
    "4.构造函数显式调用和普通函数一样，但不能强制返回除None以外类型的值，只能返回None   \n",
    "5.构造函数作用：让模板生成不同的对象   \n",
    "6.在构造函数中初始化对象的特征值（最后通过实例化传入不同的参数）   "
   ]
  },
  {
   "cell_type": "code",
   "execution_count": 11,
   "metadata": {},
   "outputs": [
    {
     "name": "stdout",
     "output_type": "stream",
     "text": [
      "student\n",
      "student\n"
     ]
    }
   ],
   "source": [
    "class Student():\n",
    "    name = ''\n",
    "    age = 0\n",
    "    def __init__(self):\n",
    "        print('student')\n",
    "    def do_homework(self):\n",
    "        print('homework')\n",
    "student1 = Student()\n",
    "student1.__init__()  #调用一次打印两次"
   ]
  },
  {
   "cell_type": "code",
   "execution_count": 1,
   "metadata": {},
   "outputs": [
    {
     "name": "stdout",
     "output_type": "stream",
     "text": [
      "student\n",
      "student\n",
      "None\n",
      "<class 'NoneType'>\n"
     ]
    }
   ],
   "source": [
    "class Student():\n",
    "    name = ''\n",
    "    age = 0\n",
    "    def __init__(self):\n",
    "        print('student')\n",
    "    def do_homework(self):\n",
    "        print('homework')\n",
    "student1 = Student()\n",
    "a = student1.__init__() \n",
    "print(a)\n",
    "print(type(a))\n",
    "#构造函数也是一个普通函数"
   ]
  },
  {
   "cell_type": "code",
   "execution_count": 13,
   "metadata": {},
   "outputs": [
    {
     "name": "stdout",
     "output_type": "stream",
     "text": [
      "student\n"
     ]
    },
    {
     "ename": "TypeError",
     "evalue": "__init__() should return None, not 'str'",
     "output_type": "error",
     "traceback": [
      "\u001b[1;31m---------------------------------------------------------------------------\u001b[0m",
      "\u001b[1;31mTypeError\u001b[0m                                 Traceback (most recent call last)",
      "\u001b[1;32m<ipython-input-13-503c4106691a>\u001b[0m in \u001b[0;36m<module>\u001b[1;34m\u001b[0m\n\u001b[0;32m      7\u001b[0m     \u001b[1;32mdef\u001b[0m \u001b[0mdo_homework\u001b[0m\u001b[1;33m(\u001b[0m\u001b[0mself\u001b[0m\u001b[1;33m)\u001b[0m\u001b[1;33m:\u001b[0m\u001b[1;33m\u001b[0m\u001b[1;33m\u001b[0m\u001b[0m\n\u001b[0;32m      8\u001b[0m         \u001b[0mprint\u001b[0m\u001b[1;33m(\u001b[0m\u001b[1;34m'homework'\u001b[0m\u001b[1;33m)\u001b[0m\u001b[1;33m\u001b[0m\u001b[1;33m\u001b[0m\u001b[0m\n\u001b[1;32m----> 9\u001b[1;33m \u001b[0mstudent1\u001b[0m \u001b[1;33m=\u001b[0m \u001b[0mStudent\u001b[0m\u001b[1;33m(\u001b[0m\u001b[1;33m)\u001b[0m\u001b[1;33m\u001b[0m\u001b[1;33m\u001b[0m\u001b[0m\n\u001b[0m\u001b[0;32m     10\u001b[0m \u001b[0ma\u001b[0m \u001b[1;33m=\u001b[0m \u001b[0mstudent1\u001b[0m\u001b[1;33m.\u001b[0m\u001b[0m__init__\u001b[0m\u001b[1;33m(\u001b[0m\u001b[1;33m)\u001b[0m\u001b[1;33m\u001b[0m\u001b[1;33m\u001b[0m\u001b[0m\n\u001b[0;32m     11\u001b[0m \u001b[0mprint\u001b[0m\u001b[1;33m(\u001b[0m\u001b[0ma\u001b[0m\u001b[1;33m)\u001b[0m\u001b[1;33m\u001b[0m\u001b[1;33m\u001b[0m\u001b[0m\n",
      "\u001b[1;31mTypeError\u001b[0m: __init__() should return None, not 'str'"
     ]
    }
   ],
   "source": [
    "class Student():\n",
    "    name = ''\n",
    "    age = 0\n",
    "    def __init__(self):\n",
    "        print('student')\n",
    "        return 'student'\n",
    "    def do_homework(self):\n",
    "        print('homework')\n",
    "student1 = Student()\n",
    "a = student1.__init__() \n",
    "print(a)\n",
    "print(type(a))\n",
    "#构造函数只能返回none"
   ]
  },
  {
   "cell_type": "code",
   "execution_count": 3,
   "metadata": {},
   "outputs": [
    {
     "name": "stdout",
     "output_type": "stream",
     "text": [
      "\n",
      "0\n"
     ]
    }
   ],
   "source": [
    "class Student():\n",
    "    name = ''\n",
    "    age = 0\n",
    "    def __init__(self,name,age):\n",
    "        name = name\n",
    "        age = age\n",
    "    def print_file(self):\n",
    "        print('name:'+ self.name)\n",
    "        print('age:'+ str(self.age))\n",
    "        print('fypx')\n",
    "student1 = Student('ypx',18)\n",
    "print(student1.name)\n",
    "print(student1.age)\n",
    "#注意此时student1.name仍然是“”，而不是ypx"
   ]
  },
  {
   "cell_type": "markdown",
   "metadata": {},
   "source": [
    " ### 区别模块变量与类中的变量"
   ]
  },
  {
   "cell_type": "code",
   "execution_count": 5,
   "metadata": {},
   "outputs": [
    {
     "name": "stdout",
     "output_type": "stream",
     "text": [
      "3\n",
      "50\n"
     ]
    }
   ],
   "source": [
    "#局部变量不会覆盖全局变量，局部变量的作用域仅在函数内\n",
    "c = 50\n",
    "def add(x,y):\n",
    "    c = x + y\n",
    "    print(c)\n",
    "add(1,2)\n",
    "print(c)"
   ]
  },
  {
   "cell_type": "markdown",
   "metadata": {},
   "source": [
    "区别模块变量与类中的变量   \n",
    "模块中局部变量和全局变量的机制与类中变量的机制完全不同   \n",
    "1、模块变量的机制：局部变量不会覆盖全局变量，局部变量的作用域仅在函数内   \n",
    "2、而类中变量的机制与“类变量”和“实例变量”相关   \n",
    "2.1、类变量：与类相关的变量（即是在类里面定义的属性就是类变量）   \n",
    "例：\n",
    "```\n",
    "class Student():   \n",
    "    name=’类变量’   \n",
    "```\n",
    "2.2、实例变量：与对象相关联的变量（即是在构造函数中用self.变量名保存特征值的就是实例变量）   \n",
    "例：\n",
    "```\n",
    "def __init__(self,name):   \n",
    "    self.name=’保存的是实例变量’   \n",
    "```\n",
    "\n",
    "2.3有什么不同：\n",
    "对象名.变量名！=类名.对象名   \n",
    "2.4注意点：  \n",
    "不要把模块和类看起来相似的地方等同起来！    \n",
    "类变量值的定义要与类有关，不要定义为与具体对象的特征值有关   \n",
    "例如：Student类中   \n",
    "sum =100#sun为学生的数量   \n",
    "name=’'   \n",
    "age=0   "
   ]
  },
  {
   "cell_type": "markdown",
   "metadata": {},
   "source": [
    "### 类变量与实例变量"
   ]
  },
  {
   "cell_type": "markdown",
   "metadata": {},
   "source": [
    "1、在模块中，局部变量不会覆盖全局变量；局部变量局限于函数作用域内部。   \n",
    "2、类的机制和模块的机制不同。   \n",
    "1)类变量：和类本身相关的变量   \n",
    "2）实例变量：和对象相关的变量。在类中函数体内用self.nane来定义，只和对象相关，而和   \n",
    "类没有关系。   \n",
    "注意：不要把模块和类看起来相似的地方等同起来！   \n",
    "3、self不是关键字，因为可以改为任何名字。   \n",
    "4、类变量不是面向对象的，所以定义类变量时，不要定义那些与对象有关的变量。   \n",
    "类变量和实例变量的区别在于：类变量是所有对象共有，其中一个对象将它值改变，其他对象得到的\n",
    "就是改变后的结果；而实例变量则属对象私有，某一个对象将其值改变，不影响其他对象\n",
    "\n",
    "```\n",
    "class Student(）：\n",
    "    #此处定义的是类变量\n",
    "    sum=0\n",
    "    def _init (self,name,age):\n",
    "        #此处定义的是实例变量\n",
    "        self.nane=nane\n",
    "        self.age=age\n",
    "```"
   ]
  },
  {
   "cell_type": "markdown",
   "metadata": {},
   "source": [
    "### 类与对象变量的查找顺序"
   ]
  },
  {
   "cell_type": "markdown",
   "metadata": {},
   "source": [
    "```\n",
    "1、对象中内置__dict__：以字典的方式返回对象中所有变量。调用方式：对象名.__dict__。\n",
    "注：也可以访问类的__dict__，返回当前类的所有相关变量（类变量）。调用方式：类名.__dict__\n",
    "2、变量寻找机制：python会先在实例中查找若实例中没有找到（__dict__中没有该变量）\n",
    "python不会返回会再去类中查找类中找不到会再到父类中查找\n",
    "注意的坑：\n",
    "机制的描述：在实例方法中如果要寻找某个变量，会先到实例中的_dict_中寻找。\n",
    "在这里说会到实例中的__dict__中寻找，但是这种变量寻找机制的前提条件是，你的变量名得是\n",
    "self.变量名。不然会报错\n",
    "```"
   ]
  },
  {
   "cell_type": "code",
   "execution_count": 17,
   "metadata": {},
   "outputs": [
    {
     "name": "stdout",
     "output_type": "stream",
     "text": [
      "{}\n"
     ]
    }
   ],
   "source": [
    "#类和对象都有一个内置变量__dict__用来保存其所拥有的变量\n",
    "class Student():\n",
    "    #类变量\n",
    "    su = 10\n",
    "    name = \"john\"\n",
    "    age = 1\n",
    "    def __init__(self,name,age):\n",
    "        name = name\n",
    "        age = age\n",
    "    def getstuinfo(self):\n",
    "        print(self.name + \" \" + str(self.age))\n",
    "s1 = Student(\"a\",11)\n",
    "print(s1.__dict__)\n",
    "#输出{}\n",
    "#意味看对象并没有变量"
   ]
  },
  {
   "cell_type": "code",
   "execution_count": 20,
   "metadata": {},
   "outputs": [
    {
     "name": "stdout",
     "output_type": "stream",
     "text": [
      "{'name': 'a', 'age': 11}\n"
     ]
    }
   ],
   "source": [
    "class Student():\n",
    "    #类变量\n",
    "    su = 10\n",
    "    name = \"john\"\n",
    "    age = 1\n",
    "    def __init__(self,name,age):\n",
    "        self.name = name\n",
    "        self.age = age\n",
    "s1 = Student(\"a\",11)\n",
    "print(s1.__dict__)"
   ]
  },
  {
   "cell_type": "code",
   "execution_count": 19,
   "metadata": {},
   "outputs": [
    {
     "name": "stdout",
     "output_type": "stream",
     "text": [
      "{'__module__': '__main__', 'su': 10, 'name': 'john', 'age': 1, '__init__': <function Student.__init__ at 0x000002032B3D2708>, 'getstuinfo': <function Student.getstuinfo at 0x000002032B3D2798>, '__dict__': <attribute '__dict__' of 'Student' objects>, '__weakref__': <attribute '__weakref__' of 'Student' objects>, '__doc__': None}\n"
     ]
    }
   ],
   "source": [
    "class Student():\n",
    "    #类变量\n",
    "    su = 10\n",
    "    name = \"john\"\n",
    "    age = 1\n",
    "    def __init__(self,name,age):\n",
    "        name = name\n",
    "        age = age\n",
    "s1 = Student(\"a\",11)\n",
    "print(Student.__dict__)\n",
    "#输出类变量集是字典，有’sum':10,'name'：'john','age':1\n",
    "#如果尝试访问一个实例变量，首先PYTHON先在实例变量的列表中寻找，\n",
    "#如果找不到，就会在类变量中寻找，并不会报错。有同名的就会返回。如果类中找不到，就会去父类中寻找"
   ]
  },
  {
   "cell_type": "markdown",
   "metadata": {},
   "source": [
    "### self与实例方法"
   ]
  },
  {
   "cell_type": "code",
   "execution_count": 25,
   "metadata": {},
   "outputs": [
    {
     "name": "stdout",
     "output_type": "stream",
     "text": [
      "11\n",
      "a\n",
      "{'name': 'a', 'age': 11}\n"
     ]
    }
   ],
   "source": [
    "class Student():\n",
    "    #类变量\n",
    "    su = 10\n",
    "    name = \"john\"\n",
    "    age = 1\n",
    "    def __init__(self,name,age):\n",
    "        self.name = name\n",
    "        self.age = age\n",
    "        print(age)  #这个是参数age\n",
    "        print(name) #这个是参数name\n",
    "    def do_homework(self):\n",
    "        print('homework')\n",
    "s1 = Student('a',11)\n",
    "print(s1.__dict__)"
   ]
  },
  {
   "cell_type": "markdown",
   "metadata": {},
   "source": [
    "实例方法：   \n",
    "1、方法的参数列表第一位，必须写上self（可以换成其它的，但下面使用时必须一致），python建议是self。   \n",
    "2、self是python默认传入的，调用时不需要赋值。   \n",
    "3、self是当前调用的某一方法的对象，只和对象有关，和类无关；谁调用了方法，self就指代谁，即self代表实例而不是类。   \n",
    "4、实例方法：实例可以调用的方法。第一个参数需要传入self。   "
   ]
  },
  {
   "cell_type": "markdown",
   "metadata": {},
   "source": [
    "### 在实例方法中访问实例变量和类变量"
   ]
  },
  {
   "cell_type": "markdown",
   "metadata": {},
   "source": [
    "一、类   \n",
    "1.变量：①类变量②实例变量；   \n",
    "2.方法：①实例方法；②类方法；③静态方法   \n",
    "3.构造函数（特殊的实例方法）   \n",
    "二、方法与变量的关系：在绝大多数情况下，方法需要对变量做一系列的运算或者一些   \n",
    "逻辑上的操作，最终去改变变量的一些状态；   \n",
    "三、构造函数与实例方法的区别   \n",
    "1.调用方式不一样   \n",
    "①构造函数：类（参数）   \n",
    "②实例方法：对象.实例方法（参数）   \n",
    "2.意义不一样   \n",
    "①构造函数：初始化类的特征   \n",
    "②实例方法：描述类的行为   \n",
    "四、访问实例变量与类变量   \n",
    "1.实例方法访问实例变量：self.变量      \n",
    "2.实例方法访问类变量：   \n",
    "①self.\\_\\_class\\_\\_.变量   \n",
    "②类.变量   \n",
    "③在类的外部访问到问类变量：类.变量   "
   ]
  },
  {
   "cell_type": "code",
   "execution_count": 26,
   "metadata": {},
   "outputs": [
    {
     "name": "stdout",
     "output_type": "stream",
     "text": [
      "a\n",
      "a\n"
     ]
    }
   ],
   "source": [
    "class Student():\n",
    "    #类变量\n",
    "    su = 10\n",
    "    name = \"john\"\n",
    "    age = 1\n",
    "    def __init__(self,name,age):\n",
    "        self.name = name\n",
    "        self.age = age\n",
    "        print(self.name)  #这个是参数age\n",
    "        print(name) #这个是参数name\n",
    "    def do_homework(self):\n",
    "        print('homework')\n",
    "s1 = Student('a',11)"
   ]
  },
  {
   "cell_type": "code",
   "execution_count": 27,
   "metadata": {},
   "outputs": [
    {
     "name": "stdout",
     "output_type": "stream",
     "text": [
      "a\n"
     ]
    },
    {
     "ename": "NameError",
     "evalue": "name 'name' is not defined",
     "output_type": "error",
     "traceback": [
      "\u001b[1;31m---------------------------------------------------------------------------\u001b[0m",
      "\u001b[1;31mNameError\u001b[0m                                 Traceback (most recent call last)",
      "\u001b[1;32m<ipython-input-27-2d5f99924c7b>\u001b[0m in \u001b[0;36m<module>\u001b[1;34m\u001b[0m\n\u001b[0;32m     11\u001b[0m     \u001b[1;32mdef\u001b[0m \u001b[0mdo_homework\u001b[0m\u001b[1;33m(\u001b[0m\u001b[0mself\u001b[0m\u001b[1;33m)\u001b[0m\u001b[1;33m:\u001b[0m\u001b[1;33m\u001b[0m\u001b[1;33m\u001b[0m\u001b[0m\n\u001b[0;32m     12\u001b[0m         \u001b[0mprint\u001b[0m\u001b[1;33m(\u001b[0m\u001b[1;34m'homework'\u001b[0m\u001b[1;33m)\u001b[0m\u001b[1;33m\u001b[0m\u001b[1;33m\u001b[0m\u001b[0m\n\u001b[1;32m---> 13\u001b[1;33m \u001b[0ms1\u001b[0m \u001b[1;33m=\u001b[0m \u001b[0mStudent\u001b[0m\u001b[1;33m(\u001b[0m\u001b[1;34m'a'\u001b[0m\u001b[1;33m,\u001b[0m\u001b[1;36m11\u001b[0m\u001b[1;33m)\u001b[0m\u001b[1;33m\u001b[0m\u001b[1;33m\u001b[0m\u001b[0m\n\u001b[0m",
      "\u001b[1;32m<ipython-input-27-2d5f99924c7b>\u001b[0m in \u001b[0;36m__init__\u001b[1;34m(self, name1, age)\u001b[0m\n\u001b[0;32m      8\u001b[0m         \u001b[0mself\u001b[0m\u001b[1;33m.\u001b[0m\u001b[0mage\u001b[0m \u001b[1;33m=\u001b[0m \u001b[0mage\u001b[0m\u001b[1;33m\u001b[0m\u001b[1;33m\u001b[0m\u001b[0m\n\u001b[0;32m      9\u001b[0m         \u001b[0mprint\u001b[0m\u001b[1;33m(\u001b[0m\u001b[0mself\u001b[0m\u001b[1;33m.\u001b[0m\u001b[0mname\u001b[0m\u001b[1;33m)\u001b[0m  \u001b[1;31m#这个是参数age\u001b[0m\u001b[1;33m\u001b[0m\u001b[1;33m\u001b[0m\u001b[0m\n\u001b[1;32m---> 10\u001b[1;33m         \u001b[0mprint\u001b[0m\u001b[1;33m(\u001b[0m\u001b[0mname\u001b[0m\u001b[1;33m)\u001b[0m \u001b[1;31m#这个是参数name\u001b[0m\u001b[1;33m\u001b[0m\u001b[1;33m\u001b[0m\u001b[0m\n\u001b[0m\u001b[0;32m     11\u001b[0m     \u001b[1;32mdef\u001b[0m \u001b[0mdo_homework\u001b[0m\u001b[1;33m(\u001b[0m\u001b[0mself\u001b[0m\u001b[1;33m)\u001b[0m\u001b[1;33m:\u001b[0m\u001b[1;33m\u001b[0m\u001b[1;33m\u001b[0m\u001b[0m\n\u001b[0;32m     12\u001b[0m         \u001b[0mprint\u001b[0m\u001b[1;33m(\u001b[0m\u001b[1;34m'homework'\u001b[0m\u001b[1;33m)\u001b[0m\u001b[1;33m\u001b[0m\u001b[1;33m\u001b[0m\u001b[0m\n",
      "\u001b[1;31mNameError\u001b[0m: name 'name' is not defined"
     ]
    }
   ],
   "source": [
    "class Student():\n",
    "    #类变量\n",
    "    su = 10\n",
    "    name = \"john\"\n",
    "    age = 1\n",
    "    def __init__(self,name1,age):\n",
    "        self.name = name1\n",
    "        self.age = age\n",
    "        print(self.name)  #这个是参数age\n",
    "        print(name) #这个是参数name\n",
    "    def do_homework(self):\n",
    "        print('homework')\n",
    "s1 = Student('a',11)"
   ]
  },
  {
   "cell_type": "code",
   "execution_count": 29,
   "metadata": {},
   "outputs": [
    {
     "name": "stdout",
     "output_type": "stream",
     "text": [
      "a\n",
      "{'name': 'a', 'age': 11}\n"
     ]
    },
    {
     "ename": "NameError",
     "evalue": "name 'name' is not defined",
     "output_type": "error",
     "traceback": [
      "\u001b[1;31m---------------------------------------------------------------------------\u001b[0m",
      "\u001b[1;31mNameError\u001b[0m                                 Traceback (most recent call last)",
      "\u001b[1;32m<ipython-input-29-8a80b3588e95>\u001b[0m in \u001b[0;36m<module>\u001b[1;34m\u001b[0m\n\u001b[0;32m     12\u001b[0m     \u001b[1;32mdef\u001b[0m \u001b[0mdo_homework\u001b[0m\u001b[1;33m(\u001b[0m\u001b[0mself\u001b[0m\u001b[1;33m)\u001b[0m\u001b[1;33m:\u001b[0m\u001b[1;33m\u001b[0m\u001b[1;33m\u001b[0m\u001b[0m\n\u001b[0;32m     13\u001b[0m         \u001b[0mprint\u001b[0m\u001b[1;33m(\u001b[0m\u001b[1;34m'homework'\u001b[0m\u001b[1;33m)\u001b[0m\u001b[1;33m\u001b[0m\u001b[1;33m\u001b[0m\u001b[0m\n\u001b[1;32m---> 14\u001b[1;33m \u001b[0ms1\u001b[0m \u001b[1;33m=\u001b[0m \u001b[0mStudent\u001b[0m\u001b[1;33m(\u001b[0m\u001b[1;34m'a'\u001b[0m\u001b[1;33m,\u001b[0m\u001b[1;36m11\u001b[0m\u001b[1;33m)\u001b[0m\u001b[1;33m\u001b[0m\u001b[1;33m\u001b[0m\u001b[0m\n\u001b[0m",
      "\u001b[1;32m<ipython-input-29-8a80b3588e95>\u001b[0m in \u001b[0;36m__init__\u001b[1;34m(self, name1, age)\u001b[0m\n\u001b[0;32m      9\u001b[0m         \u001b[0mprint\u001b[0m\u001b[1;33m(\u001b[0m\u001b[0mself\u001b[0m\u001b[1;33m.\u001b[0m\u001b[0mname\u001b[0m\u001b[1;33m)\u001b[0m  \u001b[1;31m#这个是参数age\u001b[0m\u001b[1;33m\u001b[0m\u001b[1;33m\u001b[0m\u001b[0m\n\u001b[0;32m     10\u001b[0m         \u001b[0mprint\u001b[0m\u001b[1;33m(\u001b[0m\u001b[0mself\u001b[0m\u001b[1;33m.\u001b[0m\u001b[0m__dict__\u001b[0m\u001b[1;33m)\u001b[0m\u001b[1;33m\u001b[0m\u001b[1;33m\u001b[0m\u001b[0m\n\u001b[1;32m---> 11\u001b[1;33m         \u001b[0mprint\u001b[0m\u001b[1;33m(\u001b[0m\u001b[0mname\u001b[0m\u001b[1;33m)\u001b[0m \u001b[1;31m#在实例内部，通过__dict__查找是不可以的，在外部调用是可以的。因此访问实例变量需要加上self\u001b[0m\u001b[1;33m\u001b[0m\u001b[1;33m\u001b[0m\u001b[0m\n\u001b[0m\u001b[0;32m     12\u001b[0m     \u001b[1;32mdef\u001b[0m \u001b[0mdo_homework\u001b[0m\u001b[1;33m(\u001b[0m\u001b[0mself\u001b[0m\u001b[1;33m)\u001b[0m\u001b[1;33m:\u001b[0m\u001b[1;33m\u001b[0m\u001b[1;33m\u001b[0m\u001b[0m\n\u001b[0;32m     13\u001b[0m         \u001b[0mprint\u001b[0m\u001b[1;33m(\u001b[0m\u001b[1;34m'homework'\u001b[0m\u001b[1;33m)\u001b[0m\u001b[1;33m\u001b[0m\u001b[1;33m\u001b[0m\u001b[0m\n",
      "\u001b[1;31mNameError\u001b[0m: name 'name' is not defined"
     ]
    }
   ],
   "source": [
    "class Student():\n",
    "    #类变量\n",
    "    su = 10\n",
    "    name = \"john\"\n",
    "    age = 1\n",
    "    def __init__(self,name1,age):\n",
    "        self.name = name1\n",
    "        self.age = age\n",
    "        print(self.name)  #这个是参数age\n",
    "        print(self.__dict__)\n",
    "        print(name) #在实例内部，通过__dict__查找是不可以的，在外部调用是可以的。因此访问实例变量需要加上self\n",
    "    def do_homework(self):\n",
    "        print('homework')\n",
    "s1 = Student('a',11)"
   ]
  },
  {
   "cell_type": "markdown",
   "metadata": {},
   "source": [
    "在实例中访问类变量"
   ]
  },
  {
   "cell_type": "code",
   "execution_count": 31,
   "metadata": {},
   "outputs": [
    {
     "name": "stdout",
     "output_type": "stream",
     "text": [
      "a\n",
      "11\n"
     ]
    },
    {
     "ename": "NameError",
     "evalue": "name 'su' is not defined",
     "output_type": "error",
     "traceback": [
      "\u001b[1;31m---------------------------------------------------------------------------\u001b[0m",
      "\u001b[1;31mNameError\u001b[0m                                 Traceback (most recent call last)",
      "\u001b[1;32m<ipython-input-31-6890fe971c1a>\u001b[0m in \u001b[0;36m<module>\u001b[1;34m\u001b[0m\n\u001b[0;32m     12\u001b[0m     \u001b[1;32mdef\u001b[0m \u001b[0mdo_homework\u001b[0m\u001b[1;33m(\u001b[0m\u001b[0mself\u001b[0m\u001b[1;33m)\u001b[0m\u001b[1;33m:\u001b[0m\u001b[1;33m\u001b[0m\u001b[1;33m\u001b[0m\u001b[0m\n\u001b[0;32m     13\u001b[0m         \u001b[0mprint\u001b[0m\u001b[1;33m(\u001b[0m\u001b[1;34m'homework'\u001b[0m\u001b[1;33m)\u001b[0m\u001b[1;33m\u001b[0m\u001b[1;33m\u001b[0m\u001b[0m\n\u001b[1;32m---> 14\u001b[1;33m \u001b[0ms1\u001b[0m \u001b[1;33m=\u001b[0m \u001b[0mStudent\u001b[0m\u001b[1;33m(\u001b[0m\u001b[1;34m'a'\u001b[0m\u001b[1;33m,\u001b[0m\u001b[1;36m11\u001b[0m\u001b[1;33m)\u001b[0m\u001b[1;33m\u001b[0m\u001b[1;33m\u001b[0m\u001b[0m\n\u001b[0m",
      "\u001b[1;32m<ipython-input-31-6890fe971c1a>\u001b[0m in \u001b[0;36m__init__\u001b[1;34m(self, name, age)\u001b[0m\n\u001b[0;32m      9\u001b[0m         \u001b[0mprint\u001b[0m\u001b[1;33m(\u001b[0m\u001b[0mself\u001b[0m\u001b[1;33m.\u001b[0m\u001b[0mname\u001b[0m\u001b[1;33m)\u001b[0m  \u001b[1;31m#这个是参数age\u001b[0m\u001b[1;33m\u001b[0m\u001b[1;33m\u001b[0m\u001b[0m\n\u001b[0;32m     10\u001b[0m         \u001b[0mprint\u001b[0m\u001b[1;33m(\u001b[0m\u001b[0mself\u001b[0m\u001b[1;33m.\u001b[0m\u001b[0mage\u001b[0m\u001b[1;33m)\u001b[0m\u001b[1;33m\u001b[0m\u001b[1;33m\u001b[0m\u001b[0m\n\u001b[1;32m---> 11\u001b[1;33m         \u001b[0mprint\u001b[0m\u001b[1;33m(\u001b[0m\u001b[0msu\u001b[0m\u001b[1;33m)\u001b[0m\u001b[1;33m\u001b[0m\u001b[1;33m\u001b[0m\u001b[0m\n\u001b[0m\u001b[0;32m     12\u001b[0m     \u001b[1;32mdef\u001b[0m \u001b[0mdo_homework\u001b[0m\u001b[1;33m(\u001b[0m\u001b[0mself\u001b[0m\u001b[1;33m)\u001b[0m\u001b[1;33m:\u001b[0m\u001b[1;33m\u001b[0m\u001b[1;33m\u001b[0m\u001b[0m\n\u001b[0;32m     13\u001b[0m         \u001b[0mprint\u001b[0m\u001b[1;33m(\u001b[0m\u001b[1;34m'homework'\u001b[0m\u001b[1;33m)\u001b[0m\u001b[1;33m\u001b[0m\u001b[1;33m\u001b[0m\u001b[0m\n",
      "\u001b[1;31mNameError\u001b[0m: name 'su' is not defined"
     ]
    }
   ],
   "source": [
    "class Student():\n",
    "    #类变量\n",
    "    su = 10\n",
    "    name = \"john\"\n",
    "    age = 1\n",
    "    def __init__(self,name,age):\n",
    "        self.name = name\n",
    "        self.age = age\n",
    "        print(self.name)  #这个是参数age\n",
    "        print(self.age)\n",
    "        print(su)\n",
    "    def do_homework(self):\n",
    "        print('homework')\n",
    "s1 = Student('a',11)"
   ]
  },
  {
   "cell_type": "code",
   "execution_count": 34,
   "metadata": {},
   "outputs": [
    {
     "name": "stdout",
     "output_type": "stream",
     "text": [
      "a\n",
      "11\n",
      "10\n",
      "10\n",
      "10\n"
     ]
    }
   ],
   "source": [
    "class Student():\n",
    "    #类变量\n",
    "    su = 10\n",
    "    name = \"john\"\n",
    "    age = 1\n",
    "    def __init__(self,name,age):\n",
    "        self.name = name\n",
    "        self.age = age\n",
    "        print(self.name)  #这个是参数age\n",
    "        print(self.age)\n",
    "        print(Student.su)#在实例中访问类变量方法一\n",
    "        print(self.__class__.su)#在实例中访问类变量方法二\n",
    "    def do_homework(self):\n",
    "        print('homework')\n",
    "s1 = Student('a',11)\n",
    "print(Student.su)\n"
   ]
  },
  {
   "cell_type": "markdown",
   "metadata": {},
   "source": [
    "### 类方法"
   ]
  },
  {
   "cell_type": "code",
   "execution_count": 10,
   "metadata": {},
   "outputs": [
    {
     "name": "stdout",
     "output_type": "stream",
     "text": [
      "当前班级总人数为： 1\n",
      "当前班级总人数为： 2\n",
      "当前班级总人数为： 3\n"
     ]
    }
   ],
   "source": [
    "class Student():\n",
    "    #类变量\n",
    "    su = 0\n",
    "    def __init__(self,name,age):\n",
    "        self.name = name\n",
    "        self.age = age\n",
    "        self.__class__.su += 1\n",
    "        print(\"当前班级总人数为： \" + str(self.__class__.su))#在实例中访问类变量方法二\n",
    "    def do_homework(self):\n",
    "        print('homework')\n",
    "        print(\"当前班级总人数为： \" + str(self.__class__.su))\n",
    "student1 = Student('a',1)\n",
    "student2 = Student('b',2)\n",
    "student3 = Student('c',3)"
   ]
  },
  {
   "cell_type": "markdown",
   "metadata": {},
   "source": [
    "实例变量初始化一般都是在构造函数中进行。   \n",
    "实例方法通常是用来操作实例变量的，类变量他通常用类方法操作。   \n",
    "类方法：操作和类相关的变量。   \n",
    "```\n",
    "@classmethod\n",
    "def plus_sum(cls):\n",
    "    c1s.sum += 1\n",
    "    print(c1s.sum)\n",
    "```\n",
    "调用方法：类名.函数名（）   \n",
    "如：Student.plus_sum（）   \n",
    "注：cls可以更改为任意名称，但前后要一致，一般建议用cls。   \n",
    "实例方法与类方法的区别：   \n",
    "实例方法关联的是对象，类方法关联的是类本身。   \n",
    "可以用对象调用类的方法，但最好不要用，逻辑上说不通。   "
   ]
  },
  {
   "cell_type": "code",
   "execution_count": 14,
   "metadata": {},
   "outputs": [
    {
     "name": "stdout",
     "output_type": "stream",
     "text": [
      "当前班级总人数为： 1\n",
      "当前班级总人数为： 2\n",
      "当前班级总人数为： 3\n"
     ]
    }
   ],
   "source": [
    "class Student():\n",
    "    #类变量\n",
    "    su = 0\n",
    "    def __init__(self,name,age):\n",
    "        self.name = name\n",
    "        self.age = age\n",
    "    def do_homework(self):\n",
    "        print('homework')\n",
    "    @classmethod\n",
    "    def plus_su(cls):\n",
    "        cls.su += 1\n",
    "        print(\"当前班级总人数为： \" + str(cls.su))\n",
    "student1 = Student('a',1)\n",
    "Student.plus_su()\n",
    "student2 = Student('b',2)\n",
    "Student.plus_su()\n",
    "student3 = Student('c',3)\n",
    "Student.plus_su()"
   ]
  },
  {
   "cell_type": "markdown",
   "metadata": {},
   "source": [
    "### 静态方法"
   ]
  },
  {
   "cell_type": "markdown",
   "metadata": {},
   "source": [
    "实例方法：默认有self参数.   \n",
    "类方法（@classmethod)：默认有c1s参数，需要加上装饰器.  \n",
    "静态方法（@staticmethod)：不带self参数，需要加上装饰器.类的静态方法可以没   \n",
    "有参数。   \n",
    "调用：   \n",
    "实例方法：只能被实例（对象）调用。   \n",
    "类方法：可以被类和对象调用.   \n",
    "静态方法：可以被类和对象调用。   \n",
    "\n",
    "1.静态方法定义：   \n",
    "```\n",
    "@staticme thod\n",
    "def 方法名（参数数1，参数2）：\n",
    "    pass\n",
    "```\n",
    "2.静态方法和类方法实例方法的区别：   \n",
    "（1）静态方法没有指定默认参数列表。   \n",
    "（类方法：c1s，实例方法：self）   \n",
    "（2）静态方法可以被实例（对象）和类调用   \n",
    "（3）静态方法内部可以访问类变量   \n",
    "类名.参数名   \n",
    "Student.sum   \n",
    "（4）静态方法不可以访问实例变量（self.参数名）   \n",
    "3.静态方法的调用：   \n",
    "（1）通过类：   \n",
    "类名.方法名（）   \n",
    "Student.add(1,2)   \n",
    "（2）通过实例：   \n",
    "实例名.方法名（1，2）   \n",
    "student1.add(）   \n",
    "4.静态方法的作用：   \n",
    "（1）静态方法都可以用类方法代替   \n",
    "\n",
    "5.从静态方法的使用中可以看出，   \n",
    "静态方法不会访问到class本身.   \n",
    "静态方法只是一个函数，在语法上就像一个方法一样，但是没有访问类的内部字段或者其   \n",
    "他方法.   \n",
    "静态方法本身可以访问类变量，但是静态方法本身没有 对象（self)或类（c1s）传递进来，   \n",
    "和普通函数几乎没有区别.   \n",
    "和面向对象关联性非常弱，和类和对象几乎没有关系.在静态方法和类及对象没太大关系   \n",
    "时候用静态方法，一般不用。   \n",
    "相反，   \n",
    "实例方法会访问self字段   \n",
    "类方法会访问cls字段   "
   ]
  },
  {
   "cell_type": "code",
   "execution_count": 6,
   "metadata": {},
   "outputs": [
    {
     "name": "stdout",
     "output_type": "stream",
     "text": [
      "0\n",
      "this is a static method\n",
      "0\n",
      "this is a static method\n"
     ]
    }
   ],
   "source": [
    "# 静态方法。 对象和类均可以调用\n",
    "#静态方法中可以访问类变量\n",
    "#\n",
    "class Student():\n",
    "    #类变量\n",
    "    su = 0\n",
    "    def __init__(self,name,age):\n",
    "        self.name = name\n",
    "        self.age = age\n",
    "    def do_homework(self):\n",
    "        print('homework')\n",
    "    @classmethod\n",
    "    def plus_su(cls):\n",
    "        cls.su += 1\n",
    "        print(\"当前班级总人数为： \" + str(cls.su))\n",
    "    @staticmethod\n",
    "    def add(x,y):\n",
    "        print(Student.su)\n",
    "        print('this is a static method')\n",
    "student1 = Student('a',1)\n",
    "student1.add(1,2)\n",
    "Student.add(1,2)"
   ]
  },
  {
   "cell_type": "code",
   "execution_count": 7,
   "metadata": {},
   "outputs": [
    {
     "ename": "NameError",
     "evalue": "name 'self' is not defined",
     "output_type": "error",
     "traceback": [
      "\u001b[1;31m---------------------------------------------------------------------------\u001b[0m",
      "\u001b[1;31mNameError\u001b[0m                                 Traceback (most recent call last)",
      "\u001b[1;32m<ipython-input-7-281c759baac5>\u001b[0m in \u001b[0;36m<module>\u001b[1;34m\u001b[0m\n\u001b[0;32m     21\u001b[0m         \u001b[0mprint\u001b[0m\u001b[1;33m(\u001b[0m\u001b[0mself\u001b[0m\u001b[1;33m.\u001b[0m\u001b[0mname\u001b[0m\u001b[1;33m)\u001b[0m\u001b[1;33m\u001b[0m\u001b[1;33m\u001b[0m\u001b[0m\n\u001b[0;32m     22\u001b[0m \u001b[0mstudent1\u001b[0m \u001b[1;33m=\u001b[0m \u001b[0mStudent\u001b[0m\u001b[1;33m(\u001b[0m\u001b[1;34m'a'\u001b[0m\u001b[1;33m,\u001b[0m\u001b[1;36m1\u001b[0m\u001b[1;33m)\u001b[0m\u001b[1;33m\u001b[0m\u001b[1;33m\u001b[0m\u001b[0m\n\u001b[1;32m---> 23\u001b[1;33m \u001b[0mstudent1\u001b[0m\u001b[1;33m.\u001b[0m\u001b[0madd\u001b[0m\u001b[1;33m(\u001b[0m\u001b[1;36m1\u001b[0m\u001b[1;33m,\u001b[0m\u001b[1;36m2\u001b[0m\u001b[1;33m)\u001b[0m\u001b[1;33m\u001b[0m\u001b[1;33m\u001b[0m\u001b[0m\n\u001b[0m\u001b[0;32m     24\u001b[0m \u001b[0mStudent\u001b[0m\u001b[1;33m.\u001b[0m\u001b[0madd\u001b[0m\u001b[1;33m(\u001b[0m\u001b[1;36m1\u001b[0m\u001b[1;33m,\u001b[0m\u001b[1;36m2\u001b[0m\u001b[1;33m)\u001b[0m\u001b[1;33m\u001b[0m\u001b[1;33m\u001b[0m\u001b[0m\n\u001b[0;32m     25\u001b[0m \u001b[0mStudent\u001b[0m\u001b[1;33m.\u001b[0m\u001b[0mplus_su\u001b[0m\u001b[1;33m(\u001b[0m\u001b[1;33m)\u001b[0m\u001b[1;33m\u001b[0m\u001b[1;33m\u001b[0m\u001b[0m\n",
      "\u001b[1;32m<ipython-input-7-281c759baac5>\u001b[0m in \u001b[0;36madd\u001b[1;34m(x, y)\u001b[0m\n\u001b[0;32m     19\u001b[0m         \u001b[1;31m#print(Student.su)\u001b[0m\u001b[1;33m\u001b[0m\u001b[1;33m\u001b[0m\u001b[1;33m\u001b[0m\u001b[0m\n\u001b[0;32m     20\u001b[0m         \u001b[1;31m#print('this is a static method')\u001b[0m\u001b[1;33m\u001b[0m\u001b[1;33m\u001b[0m\u001b[1;33m\u001b[0m\u001b[0m\n\u001b[1;32m---> 21\u001b[1;33m         \u001b[0mprint\u001b[0m\u001b[1;33m(\u001b[0m\u001b[0mself\u001b[0m\u001b[1;33m.\u001b[0m\u001b[0mname\u001b[0m\u001b[1;33m)\u001b[0m\u001b[1;33m\u001b[0m\u001b[1;33m\u001b[0m\u001b[0m\n\u001b[0m\u001b[0;32m     22\u001b[0m \u001b[0mstudent1\u001b[0m \u001b[1;33m=\u001b[0m \u001b[0mStudent\u001b[0m\u001b[1;33m(\u001b[0m\u001b[1;34m'a'\u001b[0m\u001b[1;33m,\u001b[0m\u001b[1;36m1\u001b[0m\u001b[1;33m)\u001b[0m\u001b[1;33m\u001b[0m\u001b[1;33m\u001b[0m\u001b[0m\n\u001b[0;32m     23\u001b[0m \u001b[0mstudent1\u001b[0m\u001b[1;33m.\u001b[0m\u001b[0madd\u001b[0m\u001b[1;33m(\u001b[0m\u001b[1;36m1\u001b[0m\u001b[1;33m,\u001b[0m\u001b[1;36m2\u001b[0m\u001b[1;33m)\u001b[0m\u001b[1;33m\u001b[0m\u001b[1;33m\u001b[0m\u001b[0m\n",
      "\u001b[1;31mNameError\u001b[0m: name 'self' is not defined"
     ]
    }
   ],
   "source": [
    "#静态方法不可以访问实例变量\n",
    "class Student():\n",
    "    #类变量\n",
    "    su = 0\n",
    "    name = \"john\"\n",
    "    age = 1\n",
    "    def __init__(self,name,age):\n",
    "        self.name = name\n",
    "        self.age = age\n",
    "    def do_homework(self):\n",
    "        print('homework')\n",
    "    @classmethod\n",
    "    def plus_su(cls):\n",
    "        cls.su += 1\n",
    "        #print(\"当前班级总人数为： \" + str(cls.su))\n",
    "        print(self.name)\n",
    "    @staticmethod\n",
    "    def add(x,y):\n",
    "        #print(Student.su)\n",
    "        #print('this is a static method')\n",
    "        print(self.name)   \n",
    "student1 = Student('a',1)\n",
    "student1.add(1,2)\n",
    "Student.add(1,2)\n",
    "Student.plus_su()\n",
    "student1.plus_su()"
   ]
  },
  {
   "cell_type": "markdown",
   "metadata": {},
   "source": [
    "### 成员可见性 公开和私有"
   ]
  },
  {
   "cell_type": "markdown",
   "metadata": {},
   "source": [
    "变量和方法的可见性   \n",
    "1.实例方法调用  \n",
    "①在类的外部调用：   \n",
    "实例名.方法名（参数1，参数2）  \n",
    "类名.方法名（实例名，参数1，参数2）  \n",
    "②在类的内部调用：  \n",
    "如截图，在   \n",
    "do homework(self)   \n",
    "函数的内部通过  \n",
    "self.do_english homework()   \n",
    "来调用类内部别的实例方法   \n",
    "   \n"
   ]
  },
  {
   "cell_type": "code",
   "execution_count": 10,
   "metadata": {},
   "outputs": [],
   "source": [
    "class Student():\n",
    "    #类变量\n",
    "    su = 0\n",
    "    def __init__(self,name,age):\n",
    "        self.name = name\n",
    "        self.age = age\n",
    "    def do_homework(self):\n",
    "        self.do_english_homework(self)   #内部调用\n",
    "        print('homework')\n",
    "    def do_english_homework(self):\n",
    "        print('englishhomework')\n",
    "    @classmethod\n",
    "    def plus_su(cls):\n",
    "        cls.su += 1\n",
    "        print(\"当前班级总人数为： \" + str(cls.su))\n",
    "    @staticmethod\n",
    "    def add(x,y):\n",
    "        print(Student.su)\n",
    "        print('this is a static method')\n",
    "student1 = Student('a',1)\n",
    "student1.do_homework()#外部调用"
   ]
  },
  {
   "cell_type": "code",
   "execution_count": null,
   "metadata": {},
   "outputs": [],
   "source": [
    "2.类变量，实例变量   \n",
    "注：   \n",
    "①类数据，实例数据，在任何地方（实例中，类外部）都可以修改，数据不安全   \n",
    "（1）实例变量在类的外部修改   \n",
    "实例（对象）名.参数名=新数据   \n",
    "（2）实例变量在类的内部修改   \n",
    "def 新实例方法名（self，新参数）：   \n",
    "self.参数名=新参数   \n",
    "定义好函数之后用：   \n",
    "☆实例名.新实例方法名（新参数）   \n",
    "来修改参数   \n",
    "注：   \n",
    "①通过新的实例方法修改实例数据更安全，因为可以在其内部设置限制方法（限制条件）来合理的修改数据。   \n",
    "②类下的类变量是比较重要的，也是同样的道理，修改类的变量也要通过方法来实现.   \n",
    "\n"
   ]
  },
  {
   "cell_type": "code",
   "execution_count": 34,
   "metadata": {},
   "outputs": [
    {
     "name": "stdout",
     "output_type": "stream",
     "text": [
      "不能给别人打负分\n"
     ]
    }
   ],
   "source": [
    "class Student():\n",
    "    #类变量\n",
    "    su = 0\n",
    "    score = 0\n",
    "    def __init__(self,name,age):\n",
    "        self.name = name\n",
    "        self.age = age\n",
    "        self.__class__.su += 1\n",
    "    def marking(self,score):\n",
    "        self.score = score\n",
    "        if self.score < 0:\n",
    "            return '不能给别人打负分'\n",
    "        print(self.name + '同学本次考试分数为：' + str(self.score))\n",
    "    def do_english_homework(self):\n",
    "        print(\"englishhomework\")\n",
    "    def do_homework(self):\n",
    "        self.do_english_homework()\n",
    "        print('homework')\n",
    "    @classmethod\n",
    "    def plus_su(cls):\n",
    "        cls.su += 1\n",
    "        print(\"当前班级总人数为： \" + str(cls.su))\n",
    "    @staticmethod\n",
    "    def add(x,y):\n",
    "        print(Student.su)\n",
    "        print('this is a static method')\n",
    "student1 = Student('a',1)\n",
    "result=student1.marking(-1)\n",
    "print(result)\n",
    "\n",
    "#修改类特征值建议通过方法进行修改"
   ]
  },
  {
   "cell_type": "markdown",
   "metadata": {},
   "source": [
    "3.成员可见性：   \n",
    "公开的public   \n",
    "私有的 private   \n",
    "1.在python中，对变量（或方法）的开头加双下划线，代表这个变量（或方法）是私有的。   \n",
    "2.私有的变量（或方法）只能在类的内部进行修改（或调用）   \n",
    "3.python动态语言的特性，在类的外部通过实例名.变量名会创建一个新的实例变量：变量名而不   \n",
    "是真正的实例里的私有变量（下节讲解）"
   ]
  },
  {
   "cell_type": "code",
   "execution_count": 36,
   "metadata": {},
   "outputs": [
    {
     "ename": "AttributeError",
     "evalue": "'Student' object has no attribute '__marking'",
     "output_type": "error",
     "traceback": [
      "\u001b[1;31m---------------------------------------------------------------------------\u001b[0m",
      "\u001b[1;31mAttributeError\u001b[0m                            Traceback (most recent call last)",
      "\u001b[1;32m<ipython-input-36-5af4b0fb3204>\u001b[0m in \u001b[0;36m<module>\u001b[1;34m\u001b[0m\n\u001b[0;32m     26\u001b[0m         \u001b[0mprint\u001b[0m\u001b[1;33m(\u001b[0m\u001b[1;34m'this is a static method'\u001b[0m\u001b[1;33m)\u001b[0m\u001b[1;33m\u001b[0m\u001b[1;33m\u001b[0m\u001b[0m\n\u001b[0;32m     27\u001b[0m \u001b[0mstudent1\u001b[0m \u001b[1;33m=\u001b[0m \u001b[0mStudent\u001b[0m\u001b[1;33m(\u001b[0m\u001b[1;34m'a'\u001b[0m\u001b[1;33m,\u001b[0m\u001b[1;36m1\u001b[0m\u001b[1;33m)\u001b[0m\u001b[1;33m\u001b[0m\u001b[1;33m\u001b[0m\u001b[0m\n\u001b[1;32m---> 28\u001b[1;33m \u001b[0mresult\u001b[0m\u001b[1;33m=\u001b[0m\u001b[0mstudent1\u001b[0m\u001b[1;33m.\u001b[0m\u001b[0m__marking\u001b[0m\u001b[1;33m(\u001b[0m\u001b[1;33m-\u001b[0m\u001b[1;36m1\u001b[0m\u001b[1;33m)\u001b[0m\u001b[1;33m\u001b[0m\u001b[1;33m\u001b[0m\u001b[0m\n\u001b[0m\u001b[0;32m     29\u001b[0m \u001b[0mprint\u001b[0m\u001b[1;33m(\u001b[0m\u001b[0mresult\u001b[0m\u001b[1;33m)\u001b[0m\u001b[1;33m\u001b[0m\u001b[1;33m\u001b[0m\u001b[0m\n",
      "\u001b[1;31mAttributeError\u001b[0m: 'Student' object has no attribute '__marking'"
     ]
    }
   ],
   "source": [
    "class Student():\n",
    "    #类变量\n",
    "    su = 0\n",
    "    score = 0\n",
    "    def __init__(self,name,age):\n",
    "        self.name = name\n",
    "        self.age = age\n",
    "        self.__class__.su += 1\n",
    "    def __marking(self,score):  #私有方法\n",
    "        self.score = score\n",
    "        if self.score < 0:\n",
    "            return '不能给别人打负分'\n",
    "        print(self.name + '同学本次考试分数为：' + str(self.score))\n",
    "    def do_english_homework(self):\n",
    "        print(\"englishhomework\")\n",
    "    def do_homework(self):\n",
    "        self.do_english_homework()\n",
    "        print('homework')\n",
    "    @classmethod\n",
    "    def plus_su(cls):\n",
    "        cls.su += 1\n",
    "        print(\"当前班级总人数为： \" + str(cls.su))\n",
    "    @staticmethod\n",
    "    def add(x,y):\n",
    "        print(Student.su)\n",
    "        print('this is a static method')\n",
    "student1 = Student('a',1)\n",
    "result=student1.__marking(-1)\n",
    "print(result)"
   ]
  },
  {
   "cell_type": "code",
   "execution_count": 37,
   "metadata": {},
   "outputs": [
    {
     "name": "stdout",
     "output_type": "stream",
     "text": [
      "不能给别人打负分\n"
     ]
    }
   ],
   "source": [
    "class Student():\n",
    "    #类变量\n",
    "    su = 0\n",
    "    score = 0\n",
    "    def __init__(self,name,age):\n",
    "        self.name = name\n",
    "        self.age = age\n",
    "        self.__class__.su += 1\n",
    "    def __marking__(self,score):  #尽量不要使用\n",
    "        self.score = score\n",
    "        if self.score < 0:\n",
    "            return '不能给别人打负分'\n",
    "        print(self.name + '同学本次考试分数为：' + str(self.score))\n",
    "    def do_english_homework(self):\n",
    "        print(\"englishhomework\")\n",
    "    def do_homework(self):\n",
    "        self.do_english_homework()\n",
    "        print('homework')\n",
    "    @classmethod\n",
    "    def plus_su(cls):\n",
    "        cls.su += 1\n",
    "        print(\"当前班级总人数为： \" + str(cls.su))\n",
    "    @staticmethod\n",
    "    def add(x,y):\n",
    "        print(Student.su)\n",
    "        print('this is a static method')\n",
    "student1 = Student('a',1)\n",
    "result=student1.__marking__(-1)\n",
    "print(result)"
   ]
  },
  {
   "cell_type": "code",
   "execution_count": 42,
   "metadata": {},
   "outputs": [],
   "source": [
    "class Student():\n",
    "    #类变量\n",
    "    su = 0\n",
    "    __score = 0\n",
    "    def __init__(self,name,age):\n",
    "        self.name = name\n",
    "        self.age = age\n",
    "        self.__class__.su += 1\n",
    "    def marking(self,score):  #尽量不要使用\n",
    "        self.__score = score\n",
    "        if self.__score < 0:\n",
    "            return '不能给别人打负分'\n",
    "        print(self.name + '同学本次考试分数为：' + str(self.__score))\n",
    "    def do_english_homework(self):\n",
    "        print(\"englishhomework\")\n",
    "    def do_homework(self):\n",
    "        self.do_english_homework()\n",
    "        print('homework')\n",
    "    @classmethod\n",
    "    def plus_su(cls):\n",
    "        cls.su += 1\n",
    "        print(\"当前班级总人数为： \" + str(cls.su))\n",
    "    @staticmethod\n",
    "    def add(x,y):\n",
    "        print(Student.su)\n",
    "        print('this is a static method')\n",
    "student1 = Student('a',1)\n",
    "result=student1.marking(-1)\n",
    "student1.__score = -1  # 无报错  为什么？？"
   ]
  },
  {
   "cell_type": "markdown",
   "metadata": {},
   "source": [
    "### 没有什么是不能访问"
   ]
  },
  {
   "cell_type": "markdown",
   "metadata": {},
   "source": [
    "```\n",
    "①student1.__score=-1 print(student1.__score)   \n",
    "②print(student2.__score)   \n",
    "```\n",
    "执行①不会报错，执行②会报错   \n",
    "①不报错，是因为利用Python动态语言特性，相当于往类中添加了一个st1新的属性   \n",
    "②报错，是因为遵循类外部不能调用类内部专属变量的原则   \n",
    "通过在类外部执行print(st1.\\_\\_dict\\_\\_)来查看类中的成员变化   \n",
    "不能通过动态方式来创建私有变量   "
   ]
  },
  {
   "cell_type": "markdown",
   "metadata": {},
   "source": [
    "注：实例（以及类）的私有属性在一定意义上讲来说是可见的。   \n",
    "1.实例的私有属性调用：   \n",
    "在类的外部可以通过：   \n",
    "```\n",
    "实例（对象）名._类名__属性名   \n",
    "注：   \n",
    "在类的内部可以通过：   \n",
    "self.__属性名   \n",
    "self._类名__属性名   \n",
    "2.类的私有属性调用：   \n",
    "在类的外部通过：   \n",
    "类名._类名__属性名   \n",
    "注：   \n",
    "实例方法&静态方法内通过：   \n",
    "类名.__属性名   \n",
    "self.__class__.__属性名   \n",
    "在类方法的内部通过：   \n",
    "cls.__属性名   \n",
    "```   "
   ]
  },
  {
   "cell_type": "markdown",
   "metadata": {},
   "source": [
    "```\n",
    "Python的动态特性会导致给对象之前不存在的属性赋值时自动创建该属性。而当该属性名为__开头且不以__结尾（例如__score)时：\n",
    "1.当此赋值操作发生在类的实例方法中时，实际保存在__dict__中的是：_类名__score。访问此属性，在类中可以直接通过__score或_类名__score访问。在类外只能通过_类名__score访问\n",
    "2.当此赋值操作发生在类的外部时，实际保存在__dict__中的是：__score。如果之前定义过一个”私有属性“__score，由于实际上在__dict__中的key不一样，他们将是两个不同的属性。\n",
    "不可以通过动态方式做私有变量\n",
    "python私有变量很1ow，只是换了变量名称，例如_score改为_Student__score\n",
    "可以通过_类名原来实例变量名，进行访问原来私有变量\n",
    "\n",
    "```"
   ]
  },
  {
   "cell_type": "code",
   "execution_count": 1,
   "metadata": {},
   "outputs": [
    {
     "name": "stdout",
     "output_type": "stream",
     "text": [
      "-1\n"
     ]
    }
   ],
   "source": [
    "class Student():\n",
    "    #类变量\n",
    "    su = 0\n",
    "    __score = 0\n",
    "    def __init__(self,name,age):\n",
    "        self.name = name\n",
    "        self.age = age\n",
    "        self.__class__.su += 1\n",
    "    def marking(self,score):  #尽量不要使用\n",
    "        self.__score = score\n",
    "        if self.__score < 0:\n",
    "            return '不能给别人打负分'\n",
    "        print(self.name + '同学本次考试分数为：' + str(self.__score))\n",
    "    def do_english_homework(self):\n",
    "        print(\"englishhomework\")\n",
    "    def do_homework(self):\n",
    "        self.do_english_homework()\n",
    "        print('homework')\n",
    "    @classmethod\n",
    "    def plus_su(cls):\n",
    "        cls.su += 1\n",
    "        print(\"当前班级总人数为： \" + str(cls.su))\n",
    "    @staticmethod\n",
    "    def add(x,y):\n",
    "        print(Student.su)\n",
    "        print('this is a static method')\n",
    "student1 = Student('a',1)\n",
    "result=student1.marking(-1)\n",
    "student1.__score = -1  # 无报错  为什么？？\n",
    "print(student1.__score)"
   ]
  },
  {
   "cell_type": "code",
   "execution_count": 2,
   "metadata": {},
   "outputs": [
    {
     "name": "stdout",
     "output_type": "stream",
     "text": [
      "-1\n"
     ]
    },
    {
     "ename": "AttributeError",
     "evalue": "'Student' object has no attribute '__score'",
     "output_type": "error",
     "traceback": [
      "\u001b[1;31m---------------------------------------------------------------------------\u001b[0m",
      "\u001b[1;31mAttributeError\u001b[0m                            Traceback (most recent call last)",
      "\u001b[1;32m<ipython-input-2-1daa54f24c48>\u001b[0m in \u001b[0;36m<module>\u001b[1;34m\u001b[0m\n\u001b[0;32m     30\u001b[0m \u001b[0mstudent1\u001b[0m\u001b[1;33m.\u001b[0m\u001b[0m__score\u001b[0m \u001b[1;33m=\u001b[0m \u001b[1;33m-\u001b[0m\u001b[1;36m1\u001b[0m  \u001b[1;31m# 无报错  为什么？？\u001b[0m\u001b[1;33m\u001b[0m\u001b[1;33m\u001b[0m\u001b[0m\n\u001b[0;32m     31\u001b[0m \u001b[0mprint\u001b[0m\u001b[1;33m(\u001b[0m\u001b[0mstudent1\u001b[0m\u001b[1;33m.\u001b[0m\u001b[0m__score\u001b[0m\u001b[1;33m)\u001b[0m\u001b[1;33m\u001b[0m\u001b[1;33m\u001b[0m\u001b[0m\n\u001b[1;32m---> 32\u001b[1;33m \u001b[0mprint\u001b[0m\u001b[1;33m(\u001b[0m\u001b[0mstudent2\u001b[0m\u001b[1;33m.\u001b[0m\u001b[0m__score\u001b[0m\u001b[1;33m)\u001b[0m\u001b[1;33m\u001b[0m\u001b[1;33m\u001b[0m\u001b[0m\n\u001b[0m",
      "\u001b[1;31mAttributeError\u001b[0m: 'Student' object has no attribute '__score'"
     ]
    }
   ],
   "source": [
    "class Student():\n",
    "    #类变量\n",
    "    su = 0\n",
    "    __score = 0\n",
    "    def __init__(self,name,age):\n",
    "        self.name = name\n",
    "        self.age = age\n",
    "        self.__class__.su += 1\n",
    "    def marking(self,score):  #尽量不要使用\n",
    "        self.__score = score\n",
    "        if self.__score < 0:\n",
    "            return '不能给别人打负分'\n",
    "        print(self.name + '同学本次考试分数为：' + str(self.__score))\n",
    "    def do_english_homework(self):\n",
    "        print(\"englishhomework\")\n",
    "    def do_homework(self):\n",
    "        self.do_english_homework()\n",
    "        print('homework')\n",
    "    @classmethod\n",
    "    def plus_su(cls):\n",
    "        cls.su += 1\n",
    "        print(\"当前班级总人数为： \" + str(cls.su))\n",
    "    @staticmethod\n",
    "    def add(x,y):\n",
    "        print(Student.su)\n",
    "        print('this is a static method')\n",
    "student1 = Student('a',1)\n",
    "student2 = Student('b',1)\n",
    "result=student1.marking(-1)\n",
    "student1.__score = -1  # 无报错  为什么？？\n",
    "print(student1.__score)\n",
    "print(student2.__score)"
   ]
  },
  {
   "cell_type": "code",
   "execution_count": 3,
   "metadata": {},
   "outputs": [
    {
     "name": "stdout",
     "output_type": "stream",
     "text": [
      "{'name': 'a', 'age': 1, '_Student__score': -1, '__score': -1}\n"
     ]
    }
   ],
   "source": [
    "class Student():\n",
    "    #类变量\n",
    "    su = 0\n",
    "    __score = 0\n",
    "    def __init__(self,name,age):\n",
    "        self.name = name\n",
    "        self.age = age\n",
    "        self.__class__.su += 1\n",
    "    def marking(self,score):  #尽量不要使用\n",
    "        self.__score = score\n",
    "        if self.__score < 0:\n",
    "            return '不能给别人打负分'\n",
    "        print(self.name + '同学本次考试分数为：' + str(self.__score))\n",
    "    def do_english_homework(self):\n",
    "        print(\"englishhomework\")\n",
    "    def do_homework(self):\n",
    "        self.do_english_homework()\n",
    "        print('homework')\n",
    "    @classmethod\n",
    "    def plus_su(cls):\n",
    "        cls.su += 1\n",
    "        print(\"当前班级总人数为： \" + str(cls.su))\n",
    "    @staticmethod\n",
    "    def add(x,y):\n",
    "        print(Student.su)\n",
    "        print('this is a static method')\n",
    "student1 = Student('a',1)\n",
    "result=student1.marking(-1)\n",
    "student1.__score = -1  # 无报错  为什么？？\n",
    "print(student1.__dict__)"
   ]
  },
  {
   "cell_type": "code",
   "execution_count": 5,
   "metadata": {},
   "outputs": [
    {
     "name": "stdout",
     "output_type": "stream",
     "text": [
      "-1\n"
     ]
    }
   ],
   "source": [
    "class Student():\n",
    "    #类变量\n",
    "    su = 0\n",
    "    __score = 0\n",
    "    def __init__(self,name,age):\n",
    "        self.name = name\n",
    "        self.age = age\n",
    "        self.__class__.su += 1\n",
    "    def marking(self,score):  #尽量不要使用\n",
    "        self.__score = score\n",
    "        if self.__score < 0:\n",
    "            return '不能给别人打负分'\n",
    "        print(self.name + '同学本次考试分数为：' + str(self.__score))\n",
    "    def do_english_homework(self):\n",
    "        print(\"englishhomework\")\n",
    "    def do_homework(self):\n",
    "        self.do_english_homework()\n",
    "        print('homework')\n",
    "    @classmethod\n",
    "    def plus_su(cls):\n",
    "        cls.su += 1\n",
    "        print(\"当前班级总人数为： \" + str(cls.su))\n",
    "    @staticmethod\n",
    "    def add(x,y):\n",
    "        print(Student.su)\n",
    "        print('this is a static method')\n",
    "student1 = Student('a',1)\n",
    "result=student1.marking(-1)\n",
    "student1.__score = -1  # 无报错  为什么？？\n",
    "print(student1._Student__score)"
   ]
  }
 ],
 "metadata": {
  "kernelspec": {
   "display_name": "Python 3",
   "language": "python",
   "name": "python3"
  },
  "language_info": {
   "codemirror_mode": {
    "name": "ipython",
    "version": 3
   },
   "file_extension": ".py",
   "mimetype": "text/x-python",
   "name": "python",
   "nbconvert_exporter": "python",
   "pygments_lexer": "ipython3",
   "version": "3.7.6"
  },
  "toc": {
   "base_numbering": 1,
   "nav_menu": {},
   "number_sections": true,
   "sideBar": true,
   "skip_h1_title": false,
   "title_cell": "Table of Contents",
   "title_sidebar": "Contents",
   "toc_cell": false,
   "toc_position": {
    "height": "calc(100% - 180px)",
    "left": "10px",
    "top": "150px",
    "width": "284.281px"
   },
   "toc_section_display": true,
   "toc_window_display": true
  }
 },
 "nbformat": 4,
 "nbformat_minor": 2
}
